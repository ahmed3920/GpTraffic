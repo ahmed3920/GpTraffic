{
  "nbformat": 4,
  "nbformat_minor": 0,
  "metadata": {
    "colab": {
      "provenance": []
    },
    "kernelspec": {
      "name": "python3",
      "display_name": "Python 3"
    },
    "language_info": {
      "name": "python"
    }
  },
  "cells": [
    {
      "cell_type": "code",
      "execution_count": 1,
      "metadata": {
        "id": "C8XbvxBpDF13",
        "colab": {
          "base_uri": "https://localhost:8080/"
        },
        "outputId": "ff3642e1-7951-45a8-f645-acb37f5f58eb"
      },
      "outputs": [
        {
          "output_type": "stream",
          "name": "stdout",
          "text": [
            "Collecting ultralytics\n",
            "  Downloading ultralytics-8.0.225-py3-none-any.whl (660 kB)\n",
            "\u001b[?25l     \u001b[90m━━━━━━━━━━━━━━━━━━━━━━━━━━━━━━━━━━━━━━━━\u001b[0m \u001b[32m0.0/660.1 kB\u001b[0m \u001b[31m?\u001b[0m eta \u001b[36m-:--:--\u001b[0m\r\u001b[2K     \u001b[91m━━━\u001b[0m\u001b[91m╸\u001b[0m\u001b[90m━━━━━━━━━━━━━━━━━━━━━━━━━━━━━━━━━━━━\u001b[0m \u001b[32m61.4/660.1 kB\u001b[0m \u001b[31m2.1 MB/s\u001b[0m eta \u001b[36m0:00:01\u001b[0m\r\u001b[2K     \u001b[91m━━━━━━━━━━━━━━━━━━━━━━━━━━━━━━━\u001b[0m\u001b[90m╺\u001b[0m\u001b[90m━━━━━━━━\u001b[0m \u001b[32m512.0/660.1 kB\u001b[0m \u001b[31m8.3 MB/s\u001b[0m eta \u001b[36m0:00:01\u001b[0m\r\u001b[2K     \u001b[90m━━━━━━━━━━━━━━━━━━━━━━━━━━━━━━━━━━━━━━━━\u001b[0m \u001b[32m660.1/660.1 kB\u001b[0m \u001b[31m8.8 MB/s\u001b[0m eta \u001b[36m0:00:00\u001b[0m\n",
            "\u001b[?25hRequirement already satisfied: matplotlib>=3.3.0 in /usr/local/lib/python3.10/dist-packages (from ultralytics) (3.7.1)\n",
            "Requirement already satisfied: numpy>=1.22.2 in /usr/local/lib/python3.10/dist-packages (from ultralytics) (1.23.5)\n",
            "Requirement already satisfied: opencv-python>=4.6.0 in /usr/local/lib/python3.10/dist-packages (from ultralytics) (4.8.0.76)\n",
            "Requirement already satisfied: pillow>=7.1.2 in /usr/local/lib/python3.10/dist-packages (from ultralytics) (9.4.0)\n",
            "Requirement already satisfied: pyyaml>=5.3.1 in /usr/local/lib/python3.10/dist-packages (from ultralytics) (6.0.1)\n",
            "Requirement already satisfied: requests>=2.23.0 in /usr/local/lib/python3.10/dist-packages (from ultralytics) (2.31.0)\n",
            "Requirement already satisfied: scipy>=1.4.1 in /usr/local/lib/python3.10/dist-packages (from ultralytics) (1.11.4)\n",
            "Requirement already satisfied: torch>=1.8.0 in /usr/local/lib/python3.10/dist-packages (from ultralytics) (2.1.0+cu118)\n",
            "Requirement already satisfied: torchvision>=0.9.0 in /usr/local/lib/python3.10/dist-packages (from ultralytics) (0.16.0+cu118)\n",
            "Requirement already satisfied: tqdm>=4.64.0 in /usr/local/lib/python3.10/dist-packages (from ultralytics) (4.66.1)\n",
            "Requirement already satisfied: pandas>=1.1.4 in /usr/local/lib/python3.10/dist-packages (from ultralytics) (1.5.3)\n",
            "Requirement already satisfied: seaborn>=0.11.0 in /usr/local/lib/python3.10/dist-packages (from ultralytics) (0.12.2)\n",
            "Requirement already satisfied: psutil in /usr/local/lib/python3.10/dist-packages (from ultralytics) (5.9.5)\n",
            "Requirement already satisfied: py-cpuinfo in /usr/local/lib/python3.10/dist-packages (from ultralytics) (9.0.0)\n",
            "Collecting thop>=0.1.1 (from ultralytics)\n",
            "  Downloading thop-0.1.1.post2209072238-py3-none-any.whl (15 kB)\n",
            "Requirement already satisfied: contourpy>=1.0.1 in /usr/local/lib/python3.10/dist-packages (from matplotlib>=3.3.0->ultralytics) (1.2.0)\n",
            "Requirement already satisfied: cycler>=0.10 in /usr/local/lib/python3.10/dist-packages (from matplotlib>=3.3.0->ultralytics) (0.12.1)\n",
            "Requirement already satisfied: fonttools>=4.22.0 in /usr/local/lib/python3.10/dist-packages (from matplotlib>=3.3.0->ultralytics) (4.45.1)\n",
            "Requirement already satisfied: kiwisolver>=1.0.1 in /usr/local/lib/python3.10/dist-packages (from matplotlib>=3.3.0->ultralytics) (1.4.5)\n",
            "Requirement already satisfied: packaging>=20.0 in /usr/local/lib/python3.10/dist-packages (from matplotlib>=3.3.0->ultralytics) (23.2)\n",
            "Requirement already satisfied: pyparsing>=2.3.1 in /usr/local/lib/python3.10/dist-packages (from matplotlib>=3.3.0->ultralytics) (3.1.1)\n",
            "Requirement already satisfied: python-dateutil>=2.7 in /usr/local/lib/python3.10/dist-packages (from matplotlib>=3.3.0->ultralytics) (2.8.2)\n",
            "Requirement already satisfied: pytz>=2020.1 in /usr/local/lib/python3.10/dist-packages (from pandas>=1.1.4->ultralytics) (2023.3.post1)\n",
            "Requirement already satisfied: charset-normalizer<4,>=2 in /usr/local/lib/python3.10/dist-packages (from requests>=2.23.0->ultralytics) (3.3.2)\n",
            "Requirement already satisfied: idna<4,>=2.5 in /usr/local/lib/python3.10/dist-packages (from requests>=2.23.0->ultralytics) (3.6)\n",
            "Requirement already satisfied: urllib3<3,>=1.21.1 in /usr/local/lib/python3.10/dist-packages (from requests>=2.23.0->ultralytics) (2.0.7)\n",
            "Requirement already satisfied: certifi>=2017.4.17 in /usr/local/lib/python3.10/dist-packages (from requests>=2.23.0->ultralytics) (2023.11.17)\n",
            "Requirement already satisfied: filelock in /usr/local/lib/python3.10/dist-packages (from torch>=1.8.0->ultralytics) (3.13.1)\n",
            "Requirement already satisfied: typing-extensions in /usr/local/lib/python3.10/dist-packages (from torch>=1.8.0->ultralytics) (4.5.0)\n",
            "Requirement already satisfied: sympy in /usr/local/lib/python3.10/dist-packages (from torch>=1.8.0->ultralytics) (1.12)\n",
            "Requirement already satisfied: networkx in /usr/local/lib/python3.10/dist-packages (from torch>=1.8.0->ultralytics) (3.2.1)\n",
            "Requirement already satisfied: jinja2 in /usr/local/lib/python3.10/dist-packages (from torch>=1.8.0->ultralytics) (3.1.2)\n",
            "Requirement already satisfied: fsspec in /usr/local/lib/python3.10/dist-packages (from torch>=1.8.0->ultralytics) (2023.6.0)\n",
            "Requirement already satisfied: triton==2.1.0 in /usr/local/lib/python3.10/dist-packages (from torch>=1.8.0->ultralytics) (2.1.0)\n",
            "Requirement already satisfied: six>=1.5 in /usr/local/lib/python3.10/dist-packages (from python-dateutil>=2.7->matplotlib>=3.3.0->ultralytics) (1.16.0)\n",
            "Requirement already satisfied: MarkupSafe>=2.0 in /usr/local/lib/python3.10/dist-packages (from jinja2->torch>=1.8.0->ultralytics) (2.1.3)\n",
            "Requirement already satisfied: mpmath>=0.19 in /usr/local/lib/python3.10/dist-packages (from sympy->torch>=1.8.0->ultralytics) (1.3.0)\n",
            "Installing collected packages: thop, ultralytics\n",
            "Successfully installed thop-0.1.1.post2209072238 ultralytics-8.0.225\n"
          ]
        }
      ],
      "source": [
        "!pip install ultralytics"
      ]
    },
    {
      "cell_type": "code",
      "source": [
        "!pip install roboflow\n"
      ],
      "metadata": {
        "colab": {
          "base_uri": "https://localhost:8080/",
          "height": 1000
        },
        "id": "Esr6rl32O9Kh",
        "outputId": "6da7ec19-015a-4692-bb9f-62d8bc5576ab"
      },
      "execution_count": 2,
      "outputs": [
        {
          "output_type": "stream",
          "name": "stdout",
          "text": [
            "Collecting roboflow\n",
            "  Downloading roboflow-1.1.12-py3-none-any.whl (68 kB)\n",
            "\u001b[2K     \u001b[90m━━━━━━━━━━━━━━━━━━━━━━━━━━━━━━━━━━━━━━━━\u001b[0m \u001b[32m68.5/68.5 kB\u001b[0m \u001b[31m1.6 MB/s\u001b[0m eta \u001b[36m0:00:00\u001b[0m\n",
            "\u001b[?25hCollecting certifi==2023.7.22 (from roboflow)\n",
            "  Downloading certifi-2023.7.22-py3-none-any.whl (158 kB)\n",
            "\u001b[2K     \u001b[90m━━━━━━━━━━━━━━━━━━━━━━━━━━━━━━━━━━━━━━━━\u001b[0m \u001b[32m158.3/158.3 kB\u001b[0m \u001b[31m6.7 MB/s\u001b[0m eta \u001b[36m0:00:00\u001b[0m\n",
            "\u001b[?25hCollecting chardet==4.0.0 (from roboflow)\n",
            "  Downloading chardet-4.0.0-py2.py3-none-any.whl (178 kB)\n",
            "\u001b[2K     \u001b[90m━━━━━━━━━━━━━━━━━━━━━━━━━━━━━━━━━━━━━━━━\u001b[0m \u001b[32m178.7/178.7 kB\u001b[0m \u001b[31m21.0 MB/s\u001b[0m eta \u001b[36m0:00:00\u001b[0m\n",
            "\u001b[?25hCollecting cycler==0.10.0 (from roboflow)\n",
            "  Downloading cycler-0.10.0-py2.py3-none-any.whl (6.5 kB)\n",
            "Collecting idna==2.10 (from roboflow)\n",
            "  Downloading idna-2.10-py2.py3-none-any.whl (58 kB)\n",
            "\u001b[2K     \u001b[90m━━━━━━━━━━━━━━━━━━━━━━━━━━━━━━━━━━━━━━━━\u001b[0m \u001b[32m58.8/58.8 kB\u001b[0m \u001b[31m8.7 MB/s\u001b[0m eta \u001b[36m0:00:00\u001b[0m\n",
            "\u001b[?25hRequirement already satisfied: kiwisolver>=1.3.1 in /usr/local/lib/python3.10/dist-packages (from roboflow) (1.4.5)\n",
            "Requirement already satisfied: matplotlib in /usr/local/lib/python3.10/dist-packages (from roboflow) (3.7.1)\n",
            "Requirement already satisfied: numpy>=1.18.5 in /usr/local/lib/python3.10/dist-packages (from roboflow) (1.23.5)\n",
            "Collecting opencv-python-headless==4.8.0.74 (from roboflow)\n",
            "  Downloading opencv_python_headless-4.8.0.74-cp37-abi3-manylinux_2_17_x86_64.manylinux2014_x86_64.whl (49.1 MB)\n",
            "\u001b[2K     \u001b[90m━━━━━━━━━━━━━━━━━━━━━━━━━━━━━━━━━━━━━━━━\u001b[0m \u001b[32m49.1/49.1 MB\u001b[0m \u001b[31m18.0 MB/s\u001b[0m eta \u001b[36m0:00:00\u001b[0m\n",
            "\u001b[?25hRequirement already satisfied: Pillow>=7.1.2 in /usr/local/lib/python3.10/dist-packages (from roboflow) (9.4.0)\n",
            "Collecting pyparsing==2.4.7 (from roboflow)\n",
            "  Downloading pyparsing-2.4.7-py2.py3-none-any.whl (67 kB)\n",
            "\u001b[2K     \u001b[90m━━━━━━━━━━━━━━━━━━━━━━━━━━━━━━━━━━━━━━━━\u001b[0m \u001b[32m67.8/67.8 kB\u001b[0m \u001b[31m8.8 MB/s\u001b[0m eta \u001b[36m0:00:00\u001b[0m\n",
            "\u001b[?25hRequirement already satisfied: python-dateutil in /usr/local/lib/python3.10/dist-packages (from roboflow) (2.8.2)\n",
            "Collecting python-dotenv (from roboflow)\n",
            "  Downloading python_dotenv-1.0.0-py3-none-any.whl (19 kB)\n",
            "Requirement already satisfied: requests in /usr/local/lib/python3.10/dist-packages (from roboflow) (2.31.0)\n",
            "Requirement already satisfied: six in /usr/local/lib/python3.10/dist-packages (from roboflow) (1.16.0)\n",
            "Collecting supervision (from roboflow)\n",
            "  Downloading supervision-0.17.1-py3-none-any.whl (77 kB)\n",
            "\u001b[2K     \u001b[90m━━━━━━━━━━━━━━━━━━━━━━━━━━━━━━━━━━━━━━━━\u001b[0m \u001b[32m77.5/77.5 kB\u001b[0m \u001b[31m11.2 MB/s\u001b[0m eta \u001b[36m0:00:00\u001b[0m\n",
            "\u001b[?25hRequirement already satisfied: urllib3>=1.26.6 in /usr/local/lib/python3.10/dist-packages (from roboflow) (2.0.7)\n",
            "Requirement already satisfied: tqdm>=4.41.0 in /usr/local/lib/python3.10/dist-packages (from roboflow) (4.66.1)\n",
            "Requirement already satisfied: PyYAML>=5.3.1 in /usr/local/lib/python3.10/dist-packages (from roboflow) (6.0.1)\n",
            "Collecting requests-toolbelt (from roboflow)\n",
            "  Downloading requests_toolbelt-1.0.0-py2.py3-none-any.whl (54 kB)\n",
            "\u001b[2K     \u001b[90m━━━━━━━━━━━━━━━━━━━━━━━━━━━━━━━━━━━━━━━━\u001b[0m \u001b[32m54.5/54.5 kB\u001b[0m \u001b[31m6.8 MB/s\u001b[0m eta \u001b[36m0:00:00\u001b[0m\n",
            "\u001b[?25hCollecting python-magic (from roboflow)\n",
            "  Downloading python_magic-0.4.27-py2.py3-none-any.whl (13 kB)\n",
            "Requirement already satisfied: contourpy>=1.0.1 in /usr/local/lib/python3.10/dist-packages (from matplotlib->roboflow) (1.2.0)\n",
            "Requirement already satisfied: fonttools>=4.22.0 in /usr/local/lib/python3.10/dist-packages (from matplotlib->roboflow) (4.45.1)\n",
            "Requirement already satisfied: packaging>=20.0 in /usr/local/lib/python3.10/dist-packages (from matplotlib->roboflow) (23.2)\n",
            "Requirement already satisfied: charset-normalizer<4,>=2 in /usr/local/lib/python3.10/dist-packages (from requests->roboflow) (3.3.2)\n",
            "Requirement already satisfied: scipy>=1.9.0 in /usr/local/lib/python3.10/dist-packages (from supervision->roboflow) (1.11.4)\n",
            "Installing collected packages: python-magic, python-dotenv, pyparsing, opencv-python-headless, idna, cycler, chardet, certifi, supervision, requests-toolbelt, roboflow\n",
            "  Attempting uninstall: pyparsing\n",
            "    Found existing installation: pyparsing 3.1.1\n",
            "    Uninstalling pyparsing-3.1.1:\n",
            "      Successfully uninstalled pyparsing-3.1.1\n",
            "  Attempting uninstall: opencv-python-headless\n",
            "    Found existing installation: opencv-python-headless 4.8.1.78\n",
            "    Uninstalling opencv-python-headless-4.8.1.78:\n",
            "      Successfully uninstalled opencv-python-headless-4.8.1.78\n",
            "  Attempting uninstall: idna\n",
            "    Found existing installation: idna 3.6\n",
            "    Uninstalling idna-3.6:\n",
            "      Successfully uninstalled idna-3.6\n",
            "  Attempting uninstall: cycler\n",
            "    Found existing installation: cycler 0.12.1\n",
            "    Uninstalling cycler-0.12.1:\n",
            "      Successfully uninstalled cycler-0.12.1\n",
            "  Attempting uninstall: chardet\n",
            "    Found existing installation: chardet 5.2.0\n",
            "    Uninstalling chardet-5.2.0:\n",
            "      Successfully uninstalled chardet-5.2.0\n",
            "  Attempting uninstall: certifi\n",
            "    Found existing installation: certifi 2023.11.17\n",
            "    Uninstalling certifi-2023.11.17:\n",
            "      Successfully uninstalled certifi-2023.11.17\n",
            "\u001b[31mERROR: pip's dependency resolver does not currently take into account all the packages that are installed. This behaviour is the source of the following dependency conflicts.\n",
            "lida 0.0.10 requires fastapi, which is not installed.\n",
            "lida 0.0.10 requires kaleido, which is not installed.\n",
            "lida 0.0.10 requires python-multipart, which is not installed.\n",
            "lida 0.0.10 requires uvicorn, which is not installed.\u001b[0m\u001b[31m\n",
            "\u001b[0mSuccessfully installed certifi-2023.7.22 chardet-4.0.0 cycler-0.10.0 idna-2.10 opencv-python-headless-4.8.0.74 pyparsing-2.4.7 python-dotenv-1.0.0 python-magic-0.4.27 requests-toolbelt-1.0.0 roboflow-1.1.12 supervision-0.17.1\n"
          ]
        },
        {
          "output_type": "display_data",
          "data": {
            "application/vnd.colab-display-data+json": {
              "pip_warning": {
                "packages": [
                  "certifi",
                  "cycler",
                  "pyparsing"
                ]
              }
            }
          },
          "metadata": {}
        }
      ]
    },
    {
      "cell_type": "code",
      "source": [
        "import ultralytics\n",
        "from ultralytics import YOLO\n",
        "from roboflow import Roboflow\n",
        "rf = Roboflow(api_key=\"XuX23P4mofJWSGffQI1t\")\n",
        "project = rf.workspace(\"roboflow-jvuqo\").project(\"detecting-vehicles-on-aerial-images\")\n",
        "dataset = project.version(8).download(\"yolov8\")"
      ],
      "metadata": {
        "colab": {
          "base_uri": "https://localhost:8080/"
        },
        "id": "08Vt_4oUPYHx",
        "outputId": "42f18a70-8301-42e9-fc3a-0379822ccca8"
      },
      "execution_count": 3,
      "outputs": [
        {
          "output_type": "stream",
          "name": "stdout",
          "text": [
            "loading Roboflow workspace...\n",
            "loading Roboflow project...\n",
            "Dependency ultralytics==8.0.196 is required but found version=8.0.225, to fix: `pip install ultralytics==8.0.196`\n"
          ]
        },
        {
          "output_type": "stream",
          "name": "stderr",
          "text": [
            "Downloading Dataset Version Zip in Detecting-Vehicles-on-Aerial-Images-8 to yolov8:: 100%|██████████| 18102/18102 [00:00<00:00, 53483.09it/s]"
          ]
        },
        {
          "output_type": "stream",
          "name": "stdout",
          "text": [
            "\n"
          ]
        },
        {
          "output_type": "stream",
          "name": "stderr",
          "text": [
            "\n",
            "Extracting Dataset Version Zip to Detecting-Vehicles-on-Aerial-Images-8 in yolov8:: 100%|██████████| 449/449 [00:00<00:00, 5205.43it/s]\n"
          ]
        }
      ]
    },
    {
      "cell_type": "code",
      "source": [
        "!cd \"Detecting-Vehicles-on-Aerial-Images-8\"\n"
      ],
      "metadata": {
        "id": "LqdiJjaUPqKa"
      },
      "execution_count": 4,
      "outputs": []
    },
    {
      "cell_type": "code",
      "source": [
        "import os\n",
        "directory = os.getcwd()\n",
        "model = YOLO('yolov8n.pt')  # load a pretrained model (recommended for training)\n",
        "results = model.train(data=os.path.join(directory, 'Detecting-Vehicles-on-Aerial-Images-8','data.yaml'), epochs=100, imgsz=640)"
      ],
      "metadata": {
        "colab": {
          "base_uri": "https://localhost:8080/"
        },
        "id": "QhaWy-rwP4VL",
        "outputId": "ff111480-ba7a-497b-bb0b-db96b07f6049"
      },
      "execution_count": 6,
      "outputs": [
        {
          "output_type": "stream",
          "name": "stdout",
          "text": [
            "Downloading https://github.com/ultralytics/assets/releases/download/v0.0.0/yolov8n.pt to 'yolov8n.pt'...\n"
          ]
        },
        {
          "output_type": "stream",
          "name": "stderr",
          "text": [
            "100%|██████████| 6.23M/6.23M [00:00<00:00, 144MB/s]\n"
          ]
        },
        {
          "output_type": "stream",
          "name": "stdout",
          "text": [
            "Ultralytics YOLOv8.0.225 🚀 Python-3.10.12 torch-2.1.0+cu118 CPU (Intel Xeon 2.20GHz)\n",
            "\u001b[34m\u001b[1mengine/trainer: \u001b[0mtask=detect, mode=train, model=yolov8n.pt, data=/content/Detecting-Vehicles-on-Aerial-Images-8/data.yaml, epochs=100, patience=50, batch=16, imgsz=640, save=True, save_period=-1, cache=False, device=None, workers=8, project=None, name=train, exist_ok=False, pretrained=True, optimizer=auto, verbose=True, seed=0, deterministic=True, single_cls=False, rect=False, cos_lr=False, close_mosaic=10, resume=False, amp=True, fraction=1.0, profile=False, freeze=None, overlap_mask=True, mask_ratio=4, dropout=0.0, val=True, split=val, save_json=False, save_hybrid=False, conf=None, iou=0.7, max_det=300, half=False, dnn=False, plots=True, source=None, vid_stride=1, stream_buffer=False, visualize=False, augment=False, agnostic_nms=False, classes=None, retina_masks=False, show=False, save_frames=False, save_txt=False, save_conf=False, save_crop=False, show_labels=True, show_conf=True, show_boxes=True, line_width=None, format=torchscript, keras=False, optimize=False, int8=False, dynamic=False, simplify=False, opset=None, workspace=4, nms=False, lr0=0.01, lrf=0.01, momentum=0.937, weight_decay=0.0005, warmup_epochs=3.0, warmup_momentum=0.8, warmup_bias_lr=0.1, box=7.5, cls=0.5, dfl=1.5, pose=12.0, kobj=1.0, label_smoothing=0.0, nbs=64, hsv_h=0.015, hsv_s=0.7, hsv_v=0.4, degrees=0.0, translate=0.1, scale=0.5, shear=0.0, perspective=0.0, flipud=0.0, fliplr=0.5, mosaic=1.0, mixup=0.0, copy_paste=0.0, cfg=None, tracker=botsort.yaml, save_dir=runs/detect/train\n",
            "Downloading https://ultralytics.com/assets/Arial.ttf to '/root/.config/Ultralytics/Arial.ttf'...\n"
          ]
        },
        {
          "output_type": "stream",
          "name": "stderr",
          "text": [
            "100%|██████████| 755k/755k [00:00<00:00, 74.8MB/s]\n"
          ]
        },
        {
          "output_type": "stream",
          "name": "stdout",
          "text": [
            "Overriding model.yaml nc=80 with nc=4\n",
            "\n",
            "                   from  n    params  module                                       arguments                     \n",
            "  0                  -1  1       464  ultralytics.nn.modules.conv.Conv             [3, 16, 3, 2]                 \n",
            "  1                  -1  1      4672  ultralytics.nn.modules.conv.Conv             [16, 32, 3, 2]                \n",
            "  2                  -1  1      7360  ultralytics.nn.modules.block.C2f             [32, 32, 1, True]             \n",
            "  3                  -1  1     18560  ultralytics.nn.modules.conv.Conv             [32, 64, 3, 2]                \n",
            "  4                  -1  2     49664  ultralytics.nn.modules.block.C2f             [64, 64, 2, True]             \n",
            "  5                  -1  1     73984  ultralytics.nn.modules.conv.Conv             [64, 128, 3, 2]               \n",
            "  6                  -1  2    197632  ultralytics.nn.modules.block.C2f             [128, 128, 2, True]           \n",
            "  7                  -1  1    295424  ultralytics.nn.modules.conv.Conv             [128, 256, 3, 2]              \n",
            "  8                  -1  1    460288  ultralytics.nn.modules.block.C2f             [256, 256, 1, True]           \n",
            "  9                  -1  1    164608  ultralytics.nn.modules.block.SPPF            [256, 256, 5]                 \n",
            " 10                  -1  1         0  torch.nn.modules.upsampling.Upsample         [None, 2, 'nearest']          \n",
            " 11             [-1, 6]  1         0  ultralytics.nn.modules.conv.Concat           [1]                           \n",
            " 12                  -1  1    148224  ultralytics.nn.modules.block.C2f             [384, 128, 1]                 \n",
            " 13                  -1  1         0  torch.nn.modules.upsampling.Upsample         [None, 2, 'nearest']          \n",
            " 14             [-1, 4]  1         0  ultralytics.nn.modules.conv.Concat           [1]                           \n",
            " 15                  -1  1     37248  ultralytics.nn.modules.block.C2f             [192, 64, 1]                  \n",
            " 16                  -1  1     36992  ultralytics.nn.modules.conv.Conv             [64, 64, 3, 2]                \n",
            " 17            [-1, 12]  1         0  ultralytics.nn.modules.conv.Concat           [1]                           \n",
            " 18                  -1  1    123648  ultralytics.nn.modules.block.C2f             [192, 128, 1]                 \n",
            " 19                  -1  1    147712  ultralytics.nn.modules.conv.Conv             [128, 128, 3, 2]              \n",
            " 20             [-1, 9]  1         0  ultralytics.nn.modules.conv.Concat           [1]                           \n",
            " 21                  -1  1    493056  ultralytics.nn.modules.block.C2f             [384, 256, 1]                 \n",
            " 22        [15, 18, 21]  1    752092  ultralytics.nn.modules.head.Detect           [4, [64, 128, 256]]           \n",
            "Model summary: 225 layers, 3011628 parameters, 3011612 gradients, 8.2 GFLOPs\n",
            "\n",
            "Transferred 319/355 items from pretrained weights\n",
            "\u001b[34m\u001b[1mTensorBoard: \u001b[0mStart with 'tensorboard --logdir runs/detect/train', view at http://localhost:6006/\n",
            "Freezing layer 'model.22.dfl.conv.weight'\n"
          ]
        },
        {
          "output_type": "stream",
          "name": "stderr",
          "text": [
            "\u001b[34m\u001b[1mtrain: \u001b[0mScanning /content/Detecting-Vehicles-on-Aerial-Images-8/train/labels... 204 images, 0 backgrounds, 0 corrupt: 100%|██████████| 204/204 [00:00<00:00, 1942.05it/s]"
          ]
        },
        {
          "output_type": "stream",
          "name": "stdout",
          "text": [
            "\u001b[34m\u001b[1mtrain: \u001b[0mNew cache created: /content/Detecting-Vehicles-on-Aerial-Images-8/train/labels.cache\n"
          ]
        },
        {
          "output_type": "stream",
          "name": "stderr",
          "text": [
            "\n"
          ]
        },
        {
          "output_type": "stream",
          "name": "stdout",
          "text": [
            "\u001b[34m\u001b[1malbumentations: \u001b[0mBlur(p=0.01, blur_limit=(3, 7)), MedianBlur(p=0.01, blur_limit=(3, 7)), ToGray(p=0.01), CLAHE(p=0.01, clip_limit=(1, 4.0), tile_grid_size=(8, 8))\n"
          ]
        },
        {
          "output_type": "stream",
          "name": "stderr",
          "text": [
            "\u001b[34m\u001b[1mval: \u001b[0mScanning /content/Detecting-Vehicles-on-Aerial-Images-8/valid/labels... 16 images, 0 backgrounds, 0 corrupt: 100%|██████████| 16/16 [00:00<00:00, 3818.43it/s]"
          ]
        },
        {
          "output_type": "stream",
          "name": "stdout",
          "text": [
            "\u001b[34m\u001b[1mval: \u001b[0mNew cache created: /content/Detecting-Vehicles-on-Aerial-Images-8/valid/labels.cache\n",
            "Plotting labels to runs/detect/train/labels.jpg... \n"
          ]
        },
        {
          "output_type": "stream",
          "name": "stderr",
          "text": [
            "\n"
          ]
        },
        {
          "output_type": "stream",
          "name": "stdout",
          "text": [
            "\u001b[34m\u001b[1moptimizer:\u001b[0m 'optimizer=auto' found, ignoring 'lr0=0.01' and 'momentum=0.937' and determining best 'optimizer', 'lr0' and 'momentum' automatically... \n",
            "\u001b[34m\u001b[1moptimizer:\u001b[0m AdamW(lr=0.00125, momentum=0.9) with parameter groups 57 weight(decay=0.0), 64 weight(decay=0.0005), 63 bias(decay=0.0)\n",
            "Image sizes 640 train, 640 val\n",
            "Using 0 dataloader workers\n",
            "Logging results to \u001b[1mruns/detect/train\u001b[0m\n",
            "Starting training for 100 epochs...\n",
            "\n",
            "      Epoch    GPU_mem   box_loss   cls_loss   dfl_loss  Instances       Size\n"
          ]
        },
        {
          "output_type": "stream",
          "name": "stderr",
          "text": [
            "      1/100         0G      1.706      3.809      1.228        304        640: 100%|██████████| 13/13 [03:01<00:00, 13.99s/it]\n",
            "                 Class     Images  Instances      Box(P          R      mAP50  mAP50-95): 100%|██████████| 1/1 [00:03<00:00,  3.64s/it]"
          ]
        },
        {
          "output_type": "stream",
          "name": "stdout",
          "text": [
            "                   all         16        275     0.0155      0.253     0.0446     0.0149\n"
          ]
        },
        {
          "output_type": "stream",
          "name": "stderr",
          "text": [
            "\n"
          ]
        },
        {
          "output_type": "stream",
          "name": "stdout",
          "text": [
            "\n",
            "      Epoch    GPU_mem   box_loss   cls_loss   dfl_loss  Instances       Size\n"
          ]
        },
        {
          "output_type": "stream",
          "name": "stderr",
          "text": [
            "      2/100         0G      1.509       1.75      1.049        315        640: 100%|██████████| 13/13 [02:41<00:00, 12.39s/it]\n",
            "                 Class     Images  Instances      Box(P          R      mAP50  mAP50-95): 100%|██████████| 1/1 [00:02<00:00,  2.95s/it]"
          ]
        },
        {
          "output_type": "stream",
          "name": "stdout",
          "text": [
            "                   all         16        275      0.974      0.184      0.336      0.205\n"
          ]
        },
        {
          "output_type": "stream",
          "name": "stderr",
          "text": [
            "\n"
          ]
        },
        {
          "output_type": "stream",
          "name": "stdout",
          "text": [
            "\n",
            "      Epoch    GPU_mem   box_loss   cls_loss   dfl_loss  Instances       Size\n"
          ]
        },
        {
          "output_type": "stream",
          "name": "stderr",
          "text": [
            "      3/100         0G      1.371      1.206      1.019        378        640: 100%|██████████| 13/13 [02:40<00:00, 12.37s/it]\n",
            "                 Class     Images  Instances      Box(P          R      mAP50  mAP50-95): 100%|██████████| 1/1 [00:02<00:00,  2.56s/it]"
          ]
        },
        {
          "output_type": "stream",
          "name": "stdout",
          "text": [
            "                   all         16        275      0.968      0.197      0.284      0.197\n"
          ]
        },
        {
          "output_type": "stream",
          "name": "stderr",
          "text": [
            "\n"
          ]
        },
        {
          "output_type": "stream",
          "name": "stdout",
          "text": [
            "\n",
            "      Epoch    GPU_mem   box_loss   cls_loss   dfl_loss  Instances       Size\n"
          ]
        },
        {
          "output_type": "stream",
          "name": "stderr",
          "text": [
            "      4/100         0G      1.322       1.11      1.016        415        640: 100%|██████████| 13/13 [02:42<00:00, 12.47s/it]\n",
            "                 Class     Images  Instances      Box(P          R      mAP50  mAP50-95): 100%|██████████| 1/1 [00:02<00:00,  2.66s/it]"
          ]
        },
        {
          "output_type": "stream",
          "name": "stdout",
          "text": [
            "                   all         16        275      0.967      0.214      0.444      0.226\n"
          ]
        },
        {
          "output_type": "stream",
          "name": "stderr",
          "text": [
            "\n"
          ]
        },
        {
          "output_type": "stream",
          "name": "stdout",
          "text": [
            "\n",
            "      Epoch    GPU_mem   box_loss   cls_loss   dfl_loss  Instances       Size\n"
          ]
        },
        {
          "output_type": "stream",
          "name": "stderr",
          "text": [
            "      5/100         0G      1.266      1.063      1.012        227        640: 100%|██████████| 13/13 [02:40<00:00, 12.34s/it]\n",
            "                 Class     Images  Instances      Box(P          R      mAP50  mAP50-95): 100%|██████████| 1/1 [00:03<00:00,  3.63s/it]"
          ]
        },
        {
          "output_type": "stream",
          "name": "stdout",
          "text": [
            "                   all         16        275      0.972      0.379      0.416      0.261\n"
          ]
        },
        {
          "output_type": "stream",
          "name": "stderr",
          "text": [
            "\n"
          ]
        },
        {
          "output_type": "stream",
          "name": "stdout",
          "text": [
            "\n",
            "      Epoch    GPU_mem   box_loss   cls_loss   dfl_loss  Instances       Size\n"
          ]
        },
        {
          "output_type": "stream",
          "name": "stderr",
          "text": [
            "      6/100         0G      1.182     0.9733     0.9953        322        640: 100%|██████████| 13/13 [02:39<00:00, 12.25s/it]\n",
            "                 Class     Images  Instances      Box(P          R      mAP50  mAP50-95): 100%|██████████| 1/1 [00:02<00:00,  2.58s/it]"
          ]
        },
        {
          "output_type": "stream",
          "name": "stdout",
          "text": [
            "                   all         16        275      0.964      0.234       0.42      0.228\n"
          ]
        },
        {
          "output_type": "stream",
          "name": "stderr",
          "text": [
            "\n"
          ]
        },
        {
          "output_type": "stream",
          "name": "stdout",
          "text": [
            "\n",
            "      Epoch    GPU_mem   box_loss   cls_loss   dfl_loss  Instances       Size\n"
          ]
        },
        {
          "output_type": "stream",
          "name": "stderr",
          "text": [
            "      7/100         0G      1.212     0.9808     0.9804        246        640: 100%|██████████| 13/13 [02:41<00:00, 12.45s/it]\n",
            "                 Class     Images  Instances      Box(P          R      mAP50  mAP50-95): 100%|██████████| 1/1 [00:02<00:00,  2.60s/it]"
          ]
        },
        {
          "output_type": "stream",
          "name": "stdout",
          "text": [
            "                   all         16        275      0.962      0.189      0.222      0.167\n"
          ]
        },
        {
          "output_type": "stream",
          "name": "stderr",
          "text": [
            "\n"
          ]
        },
        {
          "output_type": "stream",
          "name": "stdout",
          "text": [
            "\n",
            "      Epoch    GPU_mem   box_loss   cls_loss   dfl_loss  Instances       Size\n"
          ]
        },
        {
          "output_type": "stream",
          "name": "stderr",
          "text": [
            "      8/100         0G      1.197     0.9277     0.9853        308        640: 100%|██████████| 13/13 [02:39<00:00, 12.27s/it]\n",
            "                 Class     Images  Instances      Box(P          R      mAP50  mAP50-95): 100%|██████████| 1/1 [00:03<00:00,  3.80s/it]"
          ]
        },
        {
          "output_type": "stream",
          "name": "stdout",
          "text": [
            "                   all         16        275      0.864      0.299      0.315      0.203\n"
          ]
        },
        {
          "output_type": "stream",
          "name": "stderr",
          "text": [
            "\n"
          ]
        },
        {
          "output_type": "stream",
          "name": "stdout",
          "text": [
            "\n",
            "      Epoch    GPU_mem   box_loss   cls_loss   dfl_loss  Instances       Size\n"
          ]
        },
        {
          "output_type": "stream",
          "name": "stderr",
          "text": [
            "      9/100         0G      1.195     0.9522     0.9807        300        640: 100%|██████████| 13/13 [02:38<00:00, 12.18s/it]\n",
            "                 Class     Images  Instances      Box(P          R      mAP50  mAP50-95): 100%|██████████| 1/1 [00:02<00:00,  2.61s/it]"
          ]
        },
        {
          "output_type": "stream",
          "name": "stdout",
          "text": [
            "                   all         16        275      0.981      0.217      0.256      0.201\n"
          ]
        },
        {
          "output_type": "stream",
          "name": "stderr",
          "text": [
            "\n"
          ]
        },
        {
          "output_type": "stream",
          "name": "stdout",
          "text": [
            "\n",
            "      Epoch    GPU_mem   box_loss   cls_loss   dfl_loss  Instances       Size\n"
          ]
        },
        {
          "output_type": "stream",
          "name": "stderr",
          "text": [
            "     10/100         0G      1.164     0.9167     0.9679        245        640: 100%|██████████| 13/13 [02:40<00:00, 12.31s/it]\n",
            "                 Class     Images  Instances      Box(P          R      mAP50  mAP50-95): 100%|██████████| 1/1 [00:02<00:00,  2.57s/it]"
          ]
        },
        {
          "output_type": "stream",
          "name": "stdout",
          "text": [
            "                   all         16        275      0.845      0.294      0.353      0.269\n"
          ]
        },
        {
          "output_type": "stream",
          "name": "stderr",
          "text": [
            "\n"
          ]
        },
        {
          "output_type": "stream",
          "name": "stdout",
          "text": [
            "\n",
            "      Epoch    GPU_mem   box_loss   cls_loss   dfl_loss  Instances       Size\n"
          ]
        },
        {
          "output_type": "stream",
          "name": "stderr",
          "text": [
            "     11/100         0G      1.122     0.9096     0.9678        228        640: 100%|██████████| 13/13 [02:38<00:00, 12.19s/it]\n",
            "                 Class     Images  Instances      Box(P          R      mAP50  mAP50-95): 100%|██████████| 1/1 [00:02<00:00,  2.81s/it]"
          ]
        },
        {
          "output_type": "stream",
          "name": "stdout",
          "text": [
            "                   all         16        275      0.981      0.386      0.426       0.31\n"
          ]
        },
        {
          "output_type": "stream",
          "name": "stderr",
          "text": [
            "\n"
          ]
        },
        {
          "output_type": "stream",
          "name": "stdout",
          "text": [
            "\n",
            "      Epoch    GPU_mem   box_loss   cls_loss   dfl_loss  Instances       Size\n"
          ]
        },
        {
          "output_type": "stream",
          "name": "stderr",
          "text": [
            "     12/100         0G      1.144      0.878     0.9689        243        640: 100%|██████████| 13/13 [02:40<00:00, 12.37s/it]\n",
            "                 Class     Images  Instances      Box(P          R      mAP50  mAP50-95): 100%|██████████| 1/1 [00:02<00:00,  2.58s/it]"
          ]
        },
        {
          "output_type": "stream",
          "name": "stdout",
          "text": [
            "                   all         16        275      0.889      0.387      0.405      0.287\n"
          ]
        },
        {
          "output_type": "stream",
          "name": "stderr",
          "text": [
            "\n"
          ]
        },
        {
          "output_type": "stream",
          "name": "stdout",
          "text": [
            "\n",
            "      Epoch    GPU_mem   box_loss   cls_loss   dfl_loss  Instances       Size\n"
          ]
        },
        {
          "output_type": "stream",
          "name": "stderr",
          "text": [
            "     13/100         0G       1.11     0.8501     0.9435        361        640: 100%|██████████| 13/13 [02:41<00:00, 12.39s/it]\n",
            "                 Class     Images  Instances      Box(P          R      mAP50  mAP50-95): 100%|██████████| 1/1 [00:02<00:00,  2.59s/it]"
          ]
        },
        {
          "output_type": "stream",
          "name": "stdout",
          "text": [
            "                   all         16        275      0.971      0.395      0.426      0.291\n"
          ]
        },
        {
          "output_type": "stream",
          "name": "stderr",
          "text": [
            "\n"
          ]
        },
        {
          "output_type": "stream",
          "name": "stdout",
          "text": [
            "\n",
            "      Epoch    GPU_mem   box_loss   cls_loss   dfl_loss  Instances       Size\n"
          ]
        },
        {
          "output_type": "stream",
          "name": "stderr",
          "text": [
            "     14/100         0G      1.052     0.7904     0.9311        320        640: 100%|██████████| 13/13 [02:41<00:00, 12.42s/it]\n",
            "                 Class     Images  Instances      Box(P          R      mAP50  mAP50-95): 100%|██████████| 1/1 [00:03<00:00,  3.71s/it]"
          ]
        },
        {
          "output_type": "stream",
          "name": "stdout",
          "text": [
            "                   all         16        275      0.973      0.395      0.431      0.315\n"
          ]
        },
        {
          "output_type": "stream",
          "name": "stderr",
          "text": [
            "\n"
          ]
        },
        {
          "output_type": "stream",
          "name": "stdout",
          "text": [
            "\n",
            "      Epoch    GPU_mem   box_loss   cls_loss   dfl_loss  Instances       Size\n"
          ]
        },
        {
          "output_type": "stream",
          "name": "stderr",
          "text": [
            "     15/100         0G      1.097     0.8092     0.9536        310        640: 100%|██████████| 13/13 [02:42<00:00, 12.49s/it]\n",
            "                 Class     Images  Instances      Box(P          R      mAP50  mAP50-95): 100%|██████████| 1/1 [00:03<00:00,  3.44s/it]"
          ]
        },
        {
          "output_type": "stream",
          "name": "stdout",
          "text": [
            "                   all         16        275      0.882      0.386      0.445      0.327\n"
          ]
        },
        {
          "output_type": "stream",
          "name": "stderr",
          "text": [
            "\n"
          ]
        },
        {
          "output_type": "stream",
          "name": "stdout",
          "text": [
            "\n",
            "      Epoch    GPU_mem   box_loss   cls_loss   dfl_loss  Instances       Size\n"
          ]
        },
        {
          "output_type": "stream",
          "name": "stderr",
          "text": [
            "     16/100         0G      1.102     0.8101     0.9578        303        640: 100%|██████████| 13/13 [02:40<00:00, 12.35s/it]\n",
            "                 Class     Images  Instances      Box(P          R      mAP50  mAP50-95): 100%|██████████| 1/1 [00:02<00:00,  2.64s/it]"
          ]
        },
        {
          "output_type": "stream",
          "name": "stdout",
          "text": [
            "                   all         16        275      0.951      0.388      0.448      0.298\n"
          ]
        },
        {
          "output_type": "stream",
          "name": "stderr",
          "text": [
            "\n"
          ]
        },
        {
          "output_type": "stream",
          "name": "stdout",
          "text": [
            "\n",
            "      Epoch    GPU_mem   box_loss   cls_loss   dfl_loss  Instances       Size\n"
          ]
        },
        {
          "output_type": "stream",
          "name": "stderr",
          "text": [
            "     17/100         0G      1.079     0.8077      0.941        305        640: 100%|██████████| 13/13 [02:42<00:00, 12.53s/it]\n",
            "                 Class     Images  Instances      Box(P          R      mAP50  mAP50-95): 100%|██████████| 1/1 [00:02<00:00,  2.62s/it]"
          ]
        },
        {
          "output_type": "stream",
          "name": "stdout",
          "text": [
            "                   all         16        275      0.968      0.384       0.46      0.318\n"
          ]
        },
        {
          "output_type": "stream",
          "name": "stderr",
          "text": [
            "\n"
          ]
        },
        {
          "output_type": "stream",
          "name": "stdout",
          "text": [
            "\n",
            "      Epoch    GPU_mem   box_loss   cls_loss   dfl_loss  Instances       Size\n"
          ]
        },
        {
          "output_type": "stream",
          "name": "stderr",
          "text": [
            "     18/100         0G      1.061     0.7856     0.9363        264        640: 100%|██████████| 13/13 [02:43<00:00, 12.61s/it]\n",
            "                 Class     Images  Instances      Box(P          R      mAP50  mAP50-95): 100%|██████████| 1/1 [00:02<00:00,  2.60s/it]"
          ]
        },
        {
          "output_type": "stream",
          "name": "stdout",
          "text": [
            "                   all         16        275      0.964       0.38        0.5      0.374\n"
          ]
        },
        {
          "output_type": "stream",
          "name": "stderr",
          "text": [
            "\n"
          ]
        },
        {
          "output_type": "stream",
          "name": "stdout",
          "text": [
            "\n",
            "      Epoch    GPU_mem   box_loss   cls_loss   dfl_loss  Instances       Size\n"
          ]
        },
        {
          "output_type": "stream",
          "name": "stderr",
          "text": [
            "     19/100         0G      1.023     0.7633      0.926        394        640: 100%|██████████| 13/13 [02:44<00:00, 12.67s/it]\n",
            "                 Class     Images  Instances      Box(P          R      mAP50  mAP50-95): 100%|██████████| 1/1 [00:03<00:00,  3.06s/it]"
          ]
        },
        {
          "output_type": "stream",
          "name": "stdout",
          "text": [
            "                   all         16        275      0.959      0.385      0.476      0.328\n"
          ]
        },
        {
          "output_type": "stream",
          "name": "stderr",
          "text": [
            "\n"
          ]
        },
        {
          "output_type": "stream",
          "name": "stdout",
          "text": [
            "\n",
            "      Epoch    GPU_mem   box_loss   cls_loss   dfl_loss  Instances       Size\n"
          ]
        },
        {
          "output_type": "stream",
          "name": "stderr",
          "text": [
            "     20/100         0G     0.9845     0.7346     0.9186        345        640: 100%|██████████| 13/13 [02:41<00:00, 12.39s/it]\n",
            "                 Class     Images  Instances      Box(P          R      mAP50  mAP50-95): 100%|██████████| 1/1 [00:03<00:00,  3.31s/it]"
          ]
        },
        {
          "output_type": "stream",
          "name": "stdout",
          "text": [
            "                   all         16        275      0.953      0.399      0.538      0.425\n"
          ]
        },
        {
          "output_type": "stream",
          "name": "stderr",
          "text": [
            "\n"
          ]
        },
        {
          "output_type": "stream",
          "name": "stdout",
          "text": [
            "\n",
            "      Epoch    GPU_mem   box_loss   cls_loss   dfl_loss  Instances       Size\n"
          ]
        },
        {
          "output_type": "stream",
          "name": "stderr",
          "text": [
            "     21/100         0G     0.9567     0.7063     0.9111        396        640: 100%|██████████| 13/13 [02:41<00:00, 12.39s/it]\n",
            "                 Class     Images  Instances      Box(P          R      mAP50  mAP50-95): 100%|██████████| 1/1 [00:02<00:00,  2.52s/it]"
          ]
        },
        {
          "output_type": "stream",
          "name": "stdout",
          "text": [
            "                   all         16        275      0.981      0.482      0.547      0.427\n"
          ]
        },
        {
          "output_type": "stream",
          "name": "stderr",
          "text": [
            "\n"
          ]
        },
        {
          "output_type": "stream",
          "name": "stdout",
          "text": [
            "\n",
            "      Epoch    GPU_mem   box_loss   cls_loss   dfl_loss  Instances       Size\n"
          ]
        },
        {
          "output_type": "stream",
          "name": "stderr",
          "text": [
            "     22/100         0G     0.9937     0.7324     0.9126        358        640: 100%|██████████| 13/13 [02:42<00:00, 12.51s/it]\n",
            "                 Class     Images  Instances      Box(P          R      mAP50  mAP50-95): 100%|██████████| 1/1 [00:02<00:00,  2.55s/it]"
          ]
        },
        {
          "output_type": "stream",
          "name": "stdout",
          "text": [
            "                   all         16        275      0.969      0.378      0.525      0.413\n"
          ]
        },
        {
          "output_type": "stream",
          "name": "stderr",
          "text": [
            "\n"
          ]
        },
        {
          "output_type": "stream",
          "name": "stdout",
          "text": [
            "\n",
            "      Epoch    GPU_mem   box_loss   cls_loss   dfl_loss  Instances       Size\n"
          ]
        },
        {
          "output_type": "stream",
          "name": "stderr",
          "text": [
            "     23/100         0G     0.9977      0.728     0.9193        319        640: 100%|██████████| 13/13 [02:42<00:00, 12.54s/it]\n",
            "                 Class     Images  Instances      Box(P          R      mAP50  mAP50-95): 100%|██████████| 1/1 [00:02<00:00,  2.61s/it]"
          ]
        },
        {
          "output_type": "stream",
          "name": "stdout",
          "text": [
            "                   all         16        275      0.955      0.385      0.561      0.445\n"
          ]
        },
        {
          "output_type": "stream",
          "name": "stderr",
          "text": [
            "\n"
          ]
        },
        {
          "output_type": "stream",
          "name": "stdout",
          "text": [
            "\n",
            "      Epoch    GPU_mem   box_loss   cls_loss   dfl_loss  Instances       Size\n"
          ]
        },
        {
          "output_type": "stream",
          "name": "stderr",
          "text": [
            "     24/100         0G     0.9632     0.6934     0.9133        278        640: 100%|██████████| 13/13 [02:41<00:00, 12.46s/it]\n",
            "                 Class     Images  Instances      Box(P          R      mAP50  mAP50-95): 100%|██████████| 1/1 [00:03<00:00,  3.23s/it]"
          ]
        },
        {
          "output_type": "stream",
          "name": "stdout",
          "text": [
            "                   all         16        275      0.975      0.475      0.607       0.46\n"
          ]
        },
        {
          "output_type": "stream",
          "name": "stderr",
          "text": [
            "\n"
          ]
        },
        {
          "output_type": "stream",
          "name": "stdout",
          "text": [
            "\n",
            "      Epoch    GPU_mem   box_loss   cls_loss   dfl_loss  Instances       Size\n"
          ]
        },
        {
          "output_type": "stream",
          "name": "stderr",
          "text": [
            "     25/100         0G     0.9617     0.6857     0.9077        349        640: 100%|██████████| 13/13 [02:39<00:00, 12.28s/it]\n",
            "                 Class     Images  Instances      Box(P          R      mAP50  mAP50-95): 100%|██████████| 1/1 [00:02<00:00,  2.54s/it]"
          ]
        },
        {
          "output_type": "stream",
          "name": "stdout",
          "text": [
            "                   all         16        275      0.987      0.467      0.602      0.507\n"
          ]
        },
        {
          "output_type": "stream",
          "name": "stderr",
          "text": [
            "\n"
          ]
        },
        {
          "output_type": "stream",
          "name": "stdout",
          "text": [
            "\n",
            "      Epoch    GPU_mem   box_loss   cls_loss   dfl_loss  Instances       Size\n"
          ]
        },
        {
          "output_type": "stream",
          "name": "stderr",
          "text": [
            "     26/100         0G       1.02     0.7063     0.9263        337        640: 100%|██████████| 13/13 [02:42<00:00, 12.46s/it]\n",
            "                 Class     Images  Instances      Box(P          R      mAP50  mAP50-95): 100%|██████████| 1/1 [00:02<00:00,  2.54s/it]"
          ]
        },
        {
          "output_type": "stream",
          "name": "stdout",
          "text": [
            "                   all         16        275      0.972       0.47      0.642      0.492\n"
          ]
        },
        {
          "output_type": "stream",
          "name": "stderr",
          "text": [
            "\n"
          ]
        },
        {
          "output_type": "stream",
          "name": "stdout",
          "text": [
            "\n",
            "      Epoch    GPU_mem   box_loss   cls_loss   dfl_loss  Instances       Size\n"
          ]
        },
        {
          "output_type": "stream",
          "name": "stderr",
          "text": [
            "     27/100         0G     0.9566     0.6793     0.9197        395        640: 100%|██████████| 13/13 [02:41<00:00, 12.41s/it]\n",
            "                 Class     Images  Instances      Box(P          R      mAP50  mAP50-95): 100%|██████████| 1/1 [00:02<00:00,  2.65s/it]"
          ]
        },
        {
          "output_type": "stream",
          "name": "stdout",
          "text": [
            "                   all         16        275      0.657      0.597      0.637      0.481\n"
          ]
        },
        {
          "output_type": "stream",
          "name": "stderr",
          "text": [
            "\n"
          ]
        },
        {
          "output_type": "stream",
          "name": "stdout",
          "text": [
            "\n",
            "      Epoch    GPU_mem   box_loss   cls_loss   dfl_loss  Instances       Size\n"
          ]
        },
        {
          "output_type": "stream",
          "name": "stderr",
          "text": [
            "     28/100         0G     0.9119     0.6512     0.9034        301        640: 100%|██████████| 13/13 [02:39<00:00, 12.25s/it]\n",
            "                 Class     Images  Instances      Box(P          R      mAP50  mAP50-95): 100%|██████████| 1/1 [00:02<00:00,  2.92s/it]"
          ]
        },
        {
          "output_type": "stream",
          "name": "stdout",
          "text": [
            "                   all         16        275      0.891      0.581      0.673       0.49\n"
          ]
        },
        {
          "output_type": "stream",
          "name": "stderr",
          "text": [
            "\n"
          ]
        },
        {
          "output_type": "stream",
          "name": "stdout",
          "text": [
            "\n",
            "      Epoch    GPU_mem   box_loss   cls_loss   dfl_loss  Instances       Size\n"
          ]
        },
        {
          "output_type": "stream",
          "name": "stderr",
          "text": [
            "     29/100         0G     0.9299     0.6578     0.9104        364        640: 100%|██████████| 13/13 [02:39<00:00, 12.29s/it]\n",
            "                 Class     Images  Instances      Box(P          R      mAP50  mAP50-95): 100%|██████████| 1/1 [00:02<00:00,  2.54s/it]"
          ]
        },
        {
          "output_type": "stream",
          "name": "stdout",
          "text": [
            "                   all         16        275      0.896      0.608      0.663      0.509\n"
          ]
        },
        {
          "output_type": "stream",
          "name": "stderr",
          "text": [
            "\n"
          ]
        },
        {
          "output_type": "stream",
          "name": "stdout",
          "text": [
            "\n",
            "      Epoch    GPU_mem   box_loss   cls_loss   dfl_loss  Instances       Size\n"
          ]
        },
        {
          "output_type": "stream",
          "name": "stderr",
          "text": [
            "     30/100         0G     0.9212     0.6556     0.9063        233        640: 100%|██████████| 13/13 [02:41<00:00, 12.43s/it]\n",
            "                 Class     Images  Instances      Box(P          R      mAP50  mAP50-95): 100%|██████████| 1/1 [00:02<00:00,  2.63s/it]"
          ]
        },
        {
          "output_type": "stream",
          "name": "stdout",
          "text": [
            "                   all         16        275      0.724      0.627      0.627      0.488\n"
          ]
        },
        {
          "output_type": "stream",
          "name": "stderr",
          "text": [
            "\n"
          ]
        },
        {
          "output_type": "stream",
          "name": "stdout",
          "text": [
            "\n",
            "      Epoch    GPU_mem   box_loss   cls_loss   dfl_loss  Instances       Size\n"
          ]
        },
        {
          "output_type": "stream",
          "name": "stderr",
          "text": [
            "     31/100         0G     0.9156     0.6397     0.9051        397        640: 100%|██████████| 13/13 [02:40<00:00, 12.32s/it]\n",
            "                 Class     Images  Instances      Box(P          R      mAP50  mAP50-95): 100%|██████████| 1/1 [00:03<00:00,  3.25s/it]"
          ]
        },
        {
          "output_type": "stream",
          "name": "stdout",
          "text": [
            "                   all         16        275      0.806      0.666      0.735      0.591\n"
          ]
        },
        {
          "output_type": "stream",
          "name": "stderr",
          "text": [
            "\n"
          ]
        },
        {
          "output_type": "stream",
          "name": "stdout",
          "text": [
            "\n",
            "      Epoch    GPU_mem   box_loss   cls_loss   dfl_loss  Instances       Size\n"
          ]
        },
        {
          "output_type": "stream",
          "name": "stderr",
          "text": [
            "     32/100         0G     0.8649     0.6097     0.8866        412        640: 100%|██████████| 13/13 [02:39<00:00, 12.27s/it]\n",
            "                 Class     Images  Instances      Box(P          R      mAP50  mAP50-95): 100%|██████████| 1/1 [00:02<00:00,  2.51s/it]"
          ]
        },
        {
          "output_type": "stream",
          "name": "stdout",
          "text": [
            "                   all         16        275      0.609      0.826      0.816      0.676\n"
          ]
        },
        {
          "output_type": "stream",
          "name": "stderr",
          "text": [
            "\n"
          ]
        },
        {
          "output_type": "stream",
          "name": "stdout",
          "text": [
            "\n",
            "      Epoch    GPU_mem   box_loss   cls_loss   dfl_loss  Instances       Size\n"
          ]
        },
        {
          "output_type": "stream",
          "name": "stderr",
          "text": [
            "     33/100         0G     0.8898     0.6267      0.891        285        640: 100%|██████████| 13/13 [02:44<00:00, 12.67s/it]\n",
            "                 Class     Images  Instances      Box(P          R      mAP50  mAP50-95): 100%|██████████| 1/1 [00:02<00:00,  2.53s/it]"
          ]
        },
        {
          "output_type": "stream",
          "name": "stdout",
          "text": [
            "                   all         16        275      0.658       0.83      0.784      0.609\n"
          ]
        },
        {
          "output_type": "stream",
          "name": "stderr",
          "text": [
            "\n"
          ]
        },
        {
          "output_type": "stream",
          "name": "stdout",
          "text": [
            "\n",
            "      Epoch    GPU_mem   box_loss   cls_loss   dfl_loss  Instances       Size\n"
          ]
        },
        {
          "output_type": "stream",
          "name": "stderr",
          "text": [
            "     34/100         0G     0.8672      0.596     0.8912        407        640: 100%|██████████| 13/13 [02:41<00:00, 12.43s/it]\n",
            "                 Class     Images  Instances      Box(P          R      mAP50  mAP50-95): 100%|██████████| 1/1 [00:02<00:00,  2.53s/it]"
          ]
        },
        {
          "output_type": "stream",
          "name": "stdout",
          "text": [
            "                   all         16        275      0.886      0.765       0.85      0.706\n"
          ]
        },
        {
          "output_type": "stream",
          "name": "stderr",
          "text": [
            "\n"
          ]
        },
        {
          "output_type": "stream",
          "name": "stdout",
          "text": [
            "\n",
            "      Epoch    GPU_mem   box_loss   cls_loss   dfl_loss  Instances       Size\n"
          ]
        },
        {
          "output_type": "stream",
          "name": "stderr",
          "text": [
            "     35/100         0G     0.8808     0.6192     0.8807        316        640: 100%|██████████| 13/13 [02:41<00:00, 12.39s/it]\n",
            "                 Class     Images  Instances      Box(P          R      mAP50  mAP50-95): 100%|██████████| 1/1 [00:03<00:00,  3.65s/it]"
          ]
        },
        {
          "output_type": "stream",
          "name": "stdout",
          "text": [
            "                   all         16        275      0.811      0.823      0.856      0.712\n"
          ]
        },
        {
          "output_type": "stream",
          "name": "stderr",
          "text": [
            "\n"
          ]
        },
        {
          "output_type": "stream",
          "name": "stdout",
          "text": [
            "\n",
            "      Epoch    GPU_mem   box_loss   cls_loss   dfl_loss  Instances       Size\n"
          ]
        },
        {
          "output_type": "stream",
          "name": "stderr",
          "text": [
            "     36/100         0G     0.8859     0.6048      0.889        423        640: 100%|██████████| 13/13 [02:39<00:00, 12.27s/it]\n",
            "                 Class     Images  Instances      Box(P          R      mAP50  mAP50-95): 100%|██████████| 1/1 [00:02<00:00,  2.52s/it]"
          ]
        },
        {
          "output_type": "stream",
          "name": "stdout",
          "text": [
            "                   all         16        275      0.754      0.831      0.865      0.701\n"
          ]
        },
        {
          "output_type": "stream",
          "name": "stderr",
          "text": [
            "\n"
          ]
        },
        {
          "output_type": "stream",
          "name": "stdout",
          "text": [
            "\n",
            "      Epoch    GPU_mem   box_loss   cls_loss   dfl_loss  Instances       Size\n"
          ]
        },
        {
          "output_type": "stream",
          "name": "stderr",
          "text": [
            "     37/100         0G     0.8453     0.5729     0.8894        353        640: 100%|██████████| 13/13 [02:40<00:00, 12.34s/it]\n",
            "                 Class     Images  Instances      Box(P          R      mAP50  mAP50-95): 100%|██████████| 1/1 [00:02<00:00,  2.51s/it]"
          ]
        },
        {
          "output_type": "stream",
          "name": "stdout",
          "text": [
            "                   all         16        275      0.788      0.831      0.872      0.729\n"
          ]
        },
        {
          "output_type": "stream",
          "name": "stderr",
          "text": [
            "\n"
          ]
        },
        {
          "output_type": "stream",
          "name": "stdout",
          "text": [
            "\n",
            "      Epoch    GPU_mem   box_loss   cls_loss   dfl_loss  Instances       Size\n"
          ]
        },
        {
          "output_type": "stream",
          "name": "stderr",
          "text": [
            "     38/100         0G     0.9003     0.5985     0.8984        365        640: 100%|██████████| 13/13 [02:40<00:00, 12.38s/it]\n",
            "                 Class     Images  Instances      Box(P          R      mAP50  mAP50-95): 100%|██████████| 1/1 [00:03<00:00,  3.75s/it]"
          ]
        },
        {
          "output_type": "stream",
          "name": "stdout",
          "text": [
            "                   all         16        275      0.732      0.854      0.867      0.706\n"
          ]
        },
        {
          "output_type": "stream",
          "name": "stderr",
          "text": [
            "\n"
          ]
        },
        {
          "output_type": "stream",
          "name": "stdout",
          "text": [
            "\n",
            "      Epoch    GPU_mem   box_loss   cls_loss   dfl_loss  Instances       Size\n"
          ]
        },
        {
          "output_type": "stream",
          "name": "stderr",
          "text": [
            "     39/100         0G     0.8458     0.5624     0.8974        263        640: 100%|██████████| 13/13 [02:39<00:00, 12.25s/it]\n",
            "                 Class     Images  Instances      Box(P          R      mAP50  mAP50-95): 100%|██████████| 1/1 [00:02<00:00,  2.56s/it]"
          ]
        },
        {
          "output_type": "stream",
          "name": "stdout",
          "text": [
            "                   all         16        275      0.709      0.829      0.848       0.71\n"
          ]
        },
        {
          "output_type": "stream",
          "name": "stderr",
          "text": [
            "\n"
          ]
        },
        {
          "output_type": "stream",
          "name": "stdout",
          "text": [
            "\n",
            "      Epoch    GPU_mem   box_loss   cls_loss   dfl_loss  Instances       Size\n"
          ]
        },
        {
          "output_type": "stream",
          "name": "stderr",
          "text": [
            "     40/100         0G     0.9176     0.5935     0.8978        357        640: 100%|██████████| 13/13 [02:42<00:00, 12.49s/it]\n",
            "                 Class     Images  Instances      Box(P          R      mAP50  mAP50-95): 100%|██████████| 1/1 [00:02<00:00,  2.56s/it]"
          ]
        },
        {
          "output_type": "stream",
          "name": "stdout",
          "text": [
            "                   all         16        275       0.64      0.815      0.843      0.668\n"
          ]
        },
        {
          "output_type": "stream",
          "name": "stderr",
          "text": [
            "\n"
          ]
        },
        {
          "output_type": "stream",
          "name": "stdout",
          "text": [
            "\n",
            "      Epoch    GPU_mem   box_loss   cls_loss   dfl_loss  Instances       Size\n"
          ]
        },
        {
          "output_type": "stream",
          "name": "stderr",
          "text": [
            "     41/100         0G     0.8463     0.5624     0.8909        308        640: 100%|██████████| 13/13 [02:41<00:00, 12.44s/it]\n",
            "                 Class     Images  Instances      Box(P          R      mAP50  mAP50-95): 100%|██████████| 1/1 [00:03<00:00,  3.16s/it]"
          ]
        },
        {
          "output_type": "stream",
          "name": "stdout",
          "text": [
            "                   all         16        275      0.934      0.786      0.908      0.736\n"
          ]
        },
        {
          "output_type": "stream",
          "name": "stderr",
          "text": [
            "\n"
          ]
        },
        {
          "output_type": "stream",
          "name": "stdout",
          "text": [
            "\n",
            "      Epoch    GPU_mem   box_loss   cls_loss   dfl_loss  Instances       Size\n"
          ]
        },
        {
          "output_type": "stream",
          "name": "stderr",
          "text": [
            "     42/100         0G      0.861     0.5798     0.8886        283        640: 100%|██████████| 13/13 [02:41<00:00, 12.42s/it]\n",
            "                 Class     Images  Instances      Box(P          R      mAP50  mAP50-95): 100%|██████████| 1/1 [00:03<00:00,  3.22s/it]"
          ]
        },
        {
          "output_type": "stream",
          "name": "stdout",
          "text": [
            "                   all         16        275       0.87      0.817      0.911      0.745\n"
          ]
        },
        {
          "output_type": "stream",
          "name": "stderr",
          "text": [
            "\n"
          ]
        },
        {
          "output_type": "stream",
          "name": "stdout",
          "text": [
            "\n",
            "      Epoch    GPU_mem   box_loss   cls_loss   dfl_loss  Instances       Size\n"
          ]
        },
        {
          "output_type": "stream",
          "name": "stderr",
          "text": [
            "     43/100         0G     0.8508     0.5693     0.8833        189        640: 100%|██████████| 13/13 [02:41<00:00, 12.39s/it]\n",
            "                 Class     Images  Instances      Box(P          R      mAP50  mAP50-95): 100%|██████████| 1/1 [00:02<00:00,  2.51s/it]"
          ]
        },
        {
          "output_type": "stream",
          "name": "stdout",
          "text": [
            "                   all         16        275      0.756      0.864      0.909      0.752\n"
          ]
        },
        {
          "output_type": "stream",
          "name": "stderr",
          "text": [
            "\n"
          ]
        },
        {
          "output_type": "stream",
          "name": "stdout",
          "text": [
            "\n",
            "      Epoch    GPU_mem   box_loss   cls_loss   dfl_loss  Instances       Size\n"
          ]
        },
        {
          "output_type": "stream",
          "name": "stderr",
          "text": [
            "     44/100         0G     0.8487     0.5593      0.877        349        640: 100%|██████████| 13/13 [02:42<00:00, 12.48s/it]\n",
            "                 Class     Images  Instances      Box(P          R      mAP50  mAP50-95): 100%|██████████| 1/1 [00:02<00:00,  2.54s/it]"
          ]
        },
        {
          "output_type": "stream",
          "name": "stdout",
          "text": [
            "                   all         16        275      0.699      0.929      0.937      0.787\n"
          ]
        },
        {
          "output_type": "stream",
          "name": "stderr",
          "text": [
            "\n"
          ]
        },
        {
          "output_type": "stream",
          "name": "stdout",
          "text": [
            "\n",
            "      Epoch    GPU_mem   box_loss   cls_loss   dfl_loss  Instances       Size\n"
          ]
        },
        {
          "output_type": "stream",
          "name": "stderr",
          "text": [
            "     45/100         0G     0.8421     0.5537     0.8793        295        640: 100%|██████████| 13/13 [02:40<00:00, 12.34s/it]\n",
            "                 Class     Images  Instances      Box(P          R      mAP50  mAP50-95): 100%|██████████| 1/1 [00:03<00:00,  3.32s/it]"
          ]
        },
        {
          "output_type": "stream",
          "name": "stdout",
          "text": [
            "                   all         16        275      0.865      0.826      0.923      0.793\n"
          ]
        },
        {
          "output_type": "stream",
          "name": "stderr",
          "text": [
            "\n"
          ]
        },
        {
          "output_type": "stream",
          "name": "stdout",
          "text": [
            "\n",
            "      Epoch    GPU_mem   box_loss   cls_loss   dfl_loss  Instances       Size\n"
          ]
        },
        {
          "output_type": "stream",
          "name": "stderr",
          "text": [
            "     46/100         0G     0.8377     0.5618     0.8793        308        640: 100%|██████████| 13/13 [02:40<00:00, 12.32s/it]\n",
            "                 Class     Images  Instances      Box(P          R      mAP50  mAP50-95): 100%|██████████| 1/1 [00:02<00:00,  2.56s/it]"
          ]
        },
        {
          "output_type": "stream",
          "name": "stdout",
          "text": [
            "                   all         16        275      0.936      0.821      0.896       0.75\n"
          ]
        },
        {
          "output_type": "stream",
          "name": "stderr",
          "text": [
            "\n"
          ]
        },
        {
          "output_type": "stream",
          "name": "stdout",
          "text": [
            "\n",
            "      Epoch    GPU_mem   box_loss   cls_loss   dfl_loss  Instances       Size\n"
          ]
        },
        {
          "output_type": "stream",
          "name": "stderr",
          "text": [
            "     47/100         0G     0.8085     0.5404     0.8712        326        640: 100%|██████████| 13/13 [02:44<00:00, 12.62s/it]\n",
            "                 Class     Images  Instances      Box(P          R      mAP50  mAP50-95): 100%|██████████| 1/1 [00:02<00:00,  2.55s/it]"
          ]
        },
        {
          "output_type": "stream",
          "name": "stdout",
          "text": [
            "                   all         16        275      0.711       0.86      0.884      0.737\n"
          ]
        },
        {
          "output_type": "stream",
          "name": "stderr",
          "text": [
            "\n"
          ]
        },
        {
          "output_type": "stream",
          "name": "stdout",
          "text": [
            "\n",
            "      Epoch    GPU_mem   box_loss   cls_loss   dfl_loss  Instances       Size\n"
          ]
        },
        {
          "output_type": "stream",
          "name": "stderr",
          "text": [
            "     48/100         0G     0.7826     0.5354     0.8711        318        640: 100%|██████████| 13/13 [02:43<00:00, 12.55s/it]\n",
            "                 Class     Images  Instances      Box(P          R      mAP50  mAP50-95): 100%|██████████| 1/1 [00:02<00:00,  2.77s/it]"
          ]
        },
        {
          "output_type": "stream",
          "name": "stdout",
          "text": [
            "                   all         16        275      0.782      0.861      0.885       0.74\n"
          ]
        },
        {
          "output_type": "stream",
          "name": "stderr",
          "text": [
            "\n"
          ]
        },
        {
          "output_type": "stream",
          "name": "stdout",
          "text": [
            "\n",
            "      Epoch    GPU_mem   box_loss   cls_loss   dfl_loss  Instances       Size\n"
          ]
        },
        {
          "output_type": "stream",
          "name": "stderr",
          "text": [
            "     49/100         0G     0.8167     0.5404     0.8741        275        640: 100%|██████████| 13/13 [02:54<00:00, 13.45s/it]\n",
            "                 Class     Images  Instances      Box(P          R      mAP50  mAP50-95): 100%|██████████| 1/1 [00:03<00:00,  3.47s/it]"
          ]
        },
        {
          "output_type": "stream",
          "name": "stdout",
          "text": [
            "                   all         16        275      0.933      0.849      0.875      0.726\n"
          ]
        },
        {
          "output_type": "stream",
          "name": "stderr",
          "text": [
            "\n"
          ]
        },
        {
          "output_type": "stream",
          "name": "stdout",
          "text": [
            "\n",
            "      Epoch    GPU_mem   box_loss   cls_loss   dfl_loss  Instances       Size\n"
          ]
        },
        {
          "output_type": "stream",
          "name": "stderr",
          "text": [
            "     50/100         0G      0.806      0.534     0.8841        275        640: 100%|██████████| 13/13 [02:38<00:00, 12.20s/it]\n",
            "                 Class     Images  Instances      Box(P          R      mAP50  mAP50-95): 100%|██████████| 1/1 [00:02<00:00,  2.53s/it]"
          ]
        },
        {
          "output_type": "stream",
          "name": "stdout",
          "text": [
            "                   all         16        275      0.923      0.856      0.877      0.734\n"
          ]
        },
        {
          "output_type": "stream",
          "name": "stderr",
          "text": [
            "\n"
          ]
        },
        {
          "output_type": "stream",
          "name": "stdout",
          "text": [
            "\n",
            "      Epoch    GPU_mem   box_loss   cls_loss   dfl_loss  Instances       Size\n"
          ]
        },
        {
          "output_type": "stream",
          "name": "stderr",
          "text": [
            "     51/100         0G     0.8217     0.5461     0.8779        360        640: 100%|██████████| 13/13 [02:42<00:00, 12.51s/it]\n",
            "                 Class     Images  Instances      Box(P          R      mAP50  mAP50-95): 100%|██████████| 1/1 [00:02<00:00,  2.59s/it]"
          ]
        },
        {
          "output_type": "stream",
          "name": "stdout",
          "text": [
            "                   all         16        275      0.897      0.859      0.892      0.756\n"
          ]
        },
        {
          "output_type": "stream",
          "name": "stderr",
          "text": [
            "\n"
          ]
        },
        {
          "output_type": "stream",
          "name": "stdout",
          "text": [
            "\n",
            "      Epoch    GPU_mem   box_loss   cls_loss   dfl_loss  Instances       Size\n"
          ]
        },
        {
          "output_type": "stream",
          "name": "stderr",
          "text": [
            "     52/100         0G      0.791     0.5284     0.8768        446        640: 100%|██████████| 13/13 [02:41<00:00, 12.39s/it]\n",
            "                 Class     Images  Instances      Box(P          R      mAP50  mAP50-95): 100%|██████████| 1/1 [00:03<00:00,  3.51s/it]"
          ]
        },
        {
          "output_type": "stream",
          "name": "stdout",
          "text": [
            "                   all         16        275      0.934      0.832      0.901      0.769\n"
          ]
        },
        {
          "output_type": "stream",
          "name": "stderr",
          "text": [
            "\n"
          ]
        },
        {
          "output_type": "stream",
          "name": "stdout",
          "text": [
            "\n",
            "      Epoch    GPU_mem   box_loss   cls_loss   dfl_loss  Instances       Size\n"
          ]
        },
        {
          "output_type": "stream",
          "name": "stderr",
          "text": [
            "     53/100         0G     0.7873     0.5138      0.874        220        640: 100%|██████████| 13/13 [02:39<00:00, 12.27s/it]\n",
            "                 Class     Images  Instances      Box(P          R      mAP50  mAP50-95): 100%|██████████| 1/1 [00:02<00:00,  2.55s/it]"
          ]
        },
        {
          "output_type": "stream",
          "name": "stdout",
          "text": [
            "                   all         16        275      0.964      0.863      0.977      0.739\n"
          ]
        },
        {
          "output_type": "stream",
          "name": "stderr",
          "text": [
            "\n"
          ]
        },
        {
          "output_type": "stream",
          "name": "stdout",
          "text": [
            "\n",
            "      Epoch    GPU_mem   box_loss   cls_loss   dfl_loss  Instances       Size\n"
          ]
        },
        {
          "output_type": "stream",
          "name": "stderr",
          "text": [
            "     54/100         0G     0.8133     0.5198     0.8729        346        640: 100%|██████████| 13/13 [02:41<00:00, 12.41s/it]\n",
            "                 Class     Images  Instances      Box(P          R      mAP50  mAP50-95): 100%|██████████| 1/1 [00:02<00:00,  2.54s/it]"
          ]
        },
        {
          "output_type": "stream",
          "name": "stdout",
          "text": [
            "                   all         16        275      0.931      0.883      0.982      0.813\n"
          ]
        },
        {
          "output_type": "stream",
          "name": "stderr",
          "text": [
            "\n"
          ]
        },
        {
          "output_type": "stream",
          "name": "stdout",
          "text": [
            "\n",
            "      Epoch    GPU_mem   box_loss   cls_loss   dfl_loss  Instances       Size\n"
          ]
        },
        {
          "output_type": "stream",
          "name": "stderr",
          "text": [
            "     55/100         0G     0.8225     0.5336     0.8847        329        640: 100%|██████████| 13/13 [02:41<00:00, 12.41s/it]\n",
            "                 Class     Images  Instances      Box(P          R      mAP50  mAP50-95): 100%|██████████| 1/1 [00:03<00:00,  3.06s/it]"
          ]
        },
        {
          "output_type": "stream",
          "name": "stdout",
          "text": [
            "                   all         16        275      0.957      0.893       0.99      0.845\n"
          ]
        },
        {
          "output_type": "stream",
          "name": "stderr",
          "text": [
            "\n"
          ]
        },
        {
          "output_type": "stream",
          "name": "stdout",
          "text": [
            "\n",
            "      Epoch    GPU_mem   box_loss   cls_loss   dfl_loss  Instances       Size\n"
          ]
        },
        {
          "output_type": "stream",
          "name": "stderr",
          "text": [
            "     56/100         0G     0.9738     0.5648     0.8977        433        640: 100%|██████████| 13/13 [02:39<00:00, 12.26s/it]\n",
            "                 Class     Images  Instances      Box(P          R      mAP50  mAP50-95): 100%|██████████| 1/1 [00:02<00:00,  2.48s/it]"
          ]
        },
        {
          "output_type": "stream",
          "name": "stdout",
          "text": [
            "                   all         16        275      0.954      0.887       0.99      0.817\n"
          ]
        },
        {
          "output_type": "stream",
          "name": "stderr",
          "text": [
            "\n"
          ]
        },
        {
          "output_type": "stream",
          "name": "stdout",
          "text": [
            "\n",
            "      Epoch    GPU_mem   box_loss   cls_loss   dfl_loss  Instances       Size\n"
          ]
        },
        {
          "output_type": "stream",
          "name": "stderr",
          "text": [
            "     57/100         0G     0.8442     0.5373     0.8801        304        640: 100%|██████████| 13/13 [02:40<00:00, 12.36s/it]\n",
            "                 Class     Images  Instances      Box(P          R      mAP50  mAP50-95): 100%|██████████| 1/1 [00:02<00:00,  2.50s/it]"
          ]
        },
        {
          "output_type": "stream",
          "name": "stdout",
          "text": [
            "                   all         16        275      0.966      0.902       0.99      0.831\n"
          ]
        },
        {
          "output_type": "stream",
          "name": "stderr",
          "text": [
            "\n"
          ]
        },
        {
          "output_type": "stream",
          "name": "stdout",
          "text": [
            "\n",
            "      Epoch    GPU_mem   box_loss   cls_loss   dfl_loss  Instances       Size\n"
          ]
        },
        {
          "output_type": "stream",
          "name": "stderr",
          "text": [
            "     58/100         0G     0.8224     0.5208     0.8778        324        640: 100%|██████████| 13/13 [02:42<00:00, 12.49s/it]\n",
            "                 Class     Images  Instances      Box(P          R      mAP50  mAP50-95): 100%|██████████| 1/1 [00:02<00:00,  2.77s/it]"
          ]
        },
        {
          "output_type": "stream",
          "name": "stdout",
          "text": [
            "                   all         16        275      0.956      0.842      0.948      0.797\n"
          ]
        },
        {
          "output_type": "stream",
          "name": "stderr",
          "text": [
            "\n"
          ]
        },
        {
          "output_type": "stream",
          "name": "stdout",
          "text": [
            "\n",
            "      Epoch    GPU_mem   box_loss   cls_loss   dfl_loss  Instances       Size\n"
          ]
        },
        {
          "output_type": "stream",
          "name": "stderr",
          "text": [
            "     59/100         0G     0.7826     0.5067     0.8755        404        640: 100%|██████████| 13/13 [02:40<00:00, 12.32s/it]\n",
            "                 Class     Images  Instances      Box(P          R      mAP50  mAP50-95): 100%|██████████| 1/1 [00:03<00:00,  3.03s/it]"
          ]
        },
        {
          "output_type": "stream",
          "name": "stdout",
          "text": [
            "                   all         16        275      0.965       0.82      0.936      0.773\n"
          ]
        },
        {
          "output_type": "stream",
          "name": "stderr",
          "text": [
            "\n"
          ]
        },
        {
          "output_type": "stream",
          "name": "stdout",
          "text": [
            "\n",
            "      Epoch    GPU_mem   box_loss   cls_loss   dfl_loss  Instances       Size\n"
          ]
        },
        {
          "output_type": "stream",
          "name": "stderr",
          "text": [
            "     60/100         0G     0.8059     0.5081     0.8691        385        640: 100%|██████████| 13/13 [02:41<00:00, 12.39s/it]\n",
            "                 Class     Images  Instances      Box(P          R      mAP50  mAP50-95): 100%|██████████| 1/1 [00:02<00:00,  2.52s/it]"
          ]
        },
        {
          "output_type": "stream",
          "name": "stdout",
          "text": [
            "                   all         16        275      0.977      0.866      0.976      0.831\n"
          ]
        },
        {
          "output_type": "stream",
          "name": "stderr",
          "text": [
            "\n"
          ]
        },
        {
          "output_type": "stream",
          "name": "stdout",
          "text": [
            "\n",
            "      Epoch    GPU_mem   box_loss   cls_loss   dfl_loss  Instances       Size\n"
          ]
        },
        {
          "output_type": "stream",
          "name": "stderr",
          "text": [
            "     61/100         0G     0.7832     0.4987     0.8712        324        640: 100%|██████████| 13/13 [02:42<00:00, 12.46s/it]\n",
            "                 Class     Images  Instances      Box(P          R      mAP50  mAP50-95): 100%|██████████| 1/1 [00:02<00:00,  2.55s/it]"
          ]
        },
        {
          "output_type": "stream",
          "name": "stdout",
          "text": [
            "                   all         16        275      0.936      0.967       0.99      0.838\n"
          ]
        },
        {
          "output_type": "stream",
          "name": "stderr",
          "text": [
            "\n"
          ]
        },
        {
          "output_type": "stream",
          "name": "stdout",
          "text": [
            "\n",
            "      Epoch    GPU_mem   box_loss   cls_loss   dfl_loss  Instances       Size\n"
          ]
        },
        {
          "output_type": "stream",
          "name": "stderr",
          "text": [
            "     62/100         0G     0.8097     0.5132     0.8752        275        640: 100%|██████████| 13/13 [02:42<00:00, 12.46s/it]\n",
            "                 Class     Images  Instances      Box(P          R      mAP50  mAP50-95): 100%|██████████| 1/1 [00:03<00:00,  3.22s/it]"
          ]
        },
        {
          "output_type": "stream",
          "name": "stdout",
          "text": [
            "                   all         16        275      0.946      0.955       0.99      0.811\n"
          ]
        },
        {
          "output_type": "stream",
          "name": "stderr",
          "text": [
            "\n"
          ]
        },
        {
          "output_type": "stream",
          "name": "stdout",
          "text": [
            "\n",
            "      Epoch    GPU_mem   box_loss   cls_loss   dfl_loss  Instances       Size\n"
          ]
        },
        {
          "output_type": "stream",
          "name": "stderr",
          "text": [
            "     63/100         0G     0.7708     0.5007     0.8638        331        640: 100%|██████████| 13/13 [02:40<00:00, 12.32s/it]\n",
            "                 Class     Images  Instances      Box(P          R      mAP50  mAP50-95): 100%|██████████| 1/1 [00:02<00:00,  2.53s/it]"
          ]
        },
        {
          "output_type": "stream",
          "name": "stdout",
          "text": [
            "                   all         16        275      0.957      0.925       0.99      0.845\n"
          ]
        },
        {
          "output_type": "stream",
          "name": "stderr",
          "text": [
            "\n"
          ]
        },
        {
          "output_type": "stream",
          "name": "stdout",
          "text": [
            "\n",
            "      Epoch    GPU_mem   box_loss   cls_loss   dfl_loss  Instances       Size\n"
          ]
        },
        {
          "output_type": "stream",
          "name": "stderr",
          "text": [
            "     64/100         0G     0.7733      0.496     0.8651        273        640: 100%|██████████| 13/13 [02:40<00:00, 12.36s/it]\n",
            "                 Class     Images  Instances      Box(P          R      mAP50  mAP50-95): 100%|██████████| 1/1 [00:02<00:00,  2.52s/it]"
          ]
        },
        {
          "output_type": "stream",
          "name": "stdout",
          "text": [
            "                   all         16        275      0.949      0.915       0.99      0.849\n"
          ]
        },
        {
          "output_type": "stream",
          "name": "stderr",
          "text": [
            "\n"
          ]
        },
        {
          "output_type": "stream",
          "name": "stdout",
          "text": [
            "\n",
            "      Epoch    GPU_mem   box_loss   cls_loss   dfl_loss  Instances       Size\n"
          ]
        },
        {
          "output_type": "stream",
          "name": "stderr",
          "text": [
            "     65/100         0G     0.7726     0.4964     0.8571        276        640: 100%|██████████| 13/13 [02:42<00:00, 12.50s/it]\n",
            "                 Class     Images  Instances      Box(P          R      mAP50  mAP50-95): 100%|██████████| 1/1 [00:02<00:00,  2.54s/it]"
          ]
        },
        {
          "output_type": "stream",
          "name": "stdout",
          "text": [
            "                   all         16        275      0.919       0.94      0.986       0.83\n"
          ]
        },
        {
          "output_type": "stream",
          "name": "stderr",
          "text": [
            "\n"
          ]
        },
        {
          "output_type": "stream",
          "name": "stdout",
          "text": [
            "\n",
            "      Epoch    GPU_mem   box_loss   cls_loss   dfl_loss  Instances       Size\n"
          ]
        },
        {
          "output_type": "stream",
          "name": "stderr",
          "text": [
            "     66/100         0G     0.7511     0.4932     0.8582        341        640: 100%|██████████| 13/13 [02:39<00:00, 12.29s/it]\n",
            "                 Class     Images  Instances      Box(P          R      mAP50  mAP50-95): 100%|██████████| 1/1 [00:03<00:00,  3.28s/it]"
          ]
        },
        {
          "output_type": "stream",
          "name": "stdout",
          "text": [
            "                   all         16        275      0.922      0.966      0.986      0.835\n"
          ]
        },
        {
          "output_type": "stream",
          "name": "stderr",
          "text": [
            "\n"
          ]
        },
        {
          "output_type": "stream",
          "name": "stdout",
          "text": [
            "\n",
            "      Epoch    GPU_mem   box_loss   cls_loss   dfl_loss  Instances       Size\n"
          ]
        },
        {
          "output_type": "stream",
          "name": "stderr",
          "text": [
            "     67/100         0G     0.7619     0.4836      0.864        333        640: 100%|██████████| 13/13 [02:39<00:00, 12.30s/it]\n",
            "                 Class     Images  Instances      Box(P          R      mAP50  mAP50-95): 100%|██████████| 1/1 [00:02<00:00,  2.52s/it]"
          ]
        },
        {
          "output_type": "stream",
          "name": "stdout",
          "text": [
            "                   all         16        275      0.953       0.98       0.99      0.839\n"
          ]
        },
        {
          "output_type": "stream",
          "name": "stderr",
          "text": [
            "\n"
          ]
        },
        {
          "output_type": "stream",
          "name": "stdout",
          "text": [
            "\n",
            "      Epoch    GPU_mem   box_loss   cls_loss   dfl_loss  Instances       Size\n"
          ]
        },
        {
          "output_type": "stream",
          "name": "stderr",
          "text": [
            "     68/100         0G     0.8065     0.5107     0.8716        367        640: 100%|██████████| 13/13 [02:43<00:00, 12.55s/it]\n",
            "                 Class     Images  Instances      Box(P          R      mAP50  mAP50-95): 100%|██████████| 1/1 [00:02<00:00,  2.56s/it]"
          ]
        },
        {
          "output_type": "stream",
          "name": "stdout",
          "text": [
            "                   all         16        275       0.94      0.975       0.99      0.872\n"
          ]
        },
        {
          "output_type": "stream",
          "name": "stderr",
          "text": [
            "\n"
          ]
        },
        {
          "output_type": "stream",
          "name": "stdout",
          "text": [
            "\n",
            "      Epoch    GPU_mem   box_loss   cls_loss   dfl_loss  Instances       Size\n"
          ]
        },
        {
          "output_type": "stream",
          "name": "stderr",
          "text": [
            "     69/100         0G     0.7852     0.5012     0.8635        396        640: 100%|██████████| 13/13 [02:42<00:00, 12.50s/it]\n",
            "                 Class     Images  Instances      Box(P          R      mAP50  mAP50-95): 100%|██████████| 1/1 [00:02<00:00,  2.69s/it]"
          ]
        },
        {
          "output_type": "stream",
          "name": "stdout",
          "text": [
            "                   all         16        275      0.932      0.937       0.99      0.853\n"
          ]
        },
        {
          "output_type": "stream",
          "name": "stderr",
          "text": [
            "\n"
          ]
        },
        {
          "output_type": "stream",
          "name": "stdout",
          "text": [
            "\n",
            "      Epoch    GPU_mem   box_loss   cls_loss   dfl_loss  Instances       Size\n"
          ]
        },
        {
          "output_type": "stream",
          "name": "stderr",
          "text": [
            "     70/100         0G      0.736     0.4787     0.8617        362        640: 100%|██████████| 13/13 [02:40<00:00, 12.32s/it]\n",
            "                 Class     Images  Instances      Box(P          R      mAP50  mAP50-95): 100%|██████████| 1/1 [00:03<00:00,  3.10s/it]"
          ]
        },
        {
          "output_type": "stream",
          "name": "stdout",
          "text": [
            "                   all         16        275      0.905      0.854      0.949      0.833\n"
          ]
        },
        {
          "output_type": "stream",
          "name": "stderr",
          "text": [
            "\n"
          ]
        },
        {
          "output_type": "stream",
          "name": "stdout",
          "text": [
            "\n",
            "      Epoch    GPU_mem   box_loss   cls_loss   dfl_loss  Instances       Size\n"
          ]
        },
        {
          "output_type": "stream",
          "name": "stderr",
          "text": [
            "     71/100         0G     0.7415     0.4843     0.8623        264        640: 100%|██████████| 13/13 [02:39<00:00, 12.29s/it]\n",
            "                 Class     Images  Instances      Box(P          R      mAP50  mAP50-95): 100%|██████████| 1/1 [00:02<00:00,  2.51s/it]"
          ]
        },
        {
          "output_type": "stream",
          "name": "stdout",
          "text": [
            "                   all         16        275      0.896      0.863      0.948      0.826\n"
          ]
        },
        {
          "output_type": "stream",
          "name": "stderr",
          "text": [
            "\n"
          ]
        },
        {
          "output_type": "stream",
          "name": "stdout",
          "text": [
            "\n",
            "      Epoch    GPU_mem   box_loss   cls_loss   dfl_loss  Instances       Size\n"
          ]
        },
        {
          "output_type": "stream",
          "name": "stderr",
          "text": [
            "     72/100         0G     0.7146      0.463     0.8562        367        640: 100%|██████████| 13/13 [02:39<00:00, 12.26s/it]\n",
            "                 Class     Images  Instances      Box(P          R      mAP50  mAP50-95): 100%|██████████| 1/1 [00:03<00:00,  3.26s/it]"
          ]
        },
        {
          "output_type": "stream",
          "name": "stdout",
          "text": [
            "                   all         16        275      0.923      0.862      0.907      0.779\n"
          ]
        },
        {
          "output_type": "stream",
          "name": "stderr",
          "text": [
            "\n"
          ]
        },
        {
          "output_type": "stream",
          "name": "stdout",
          "text": [
            "\n",
            "      Epoch    GPU_mem   box_loss   cls_loss   dfl_loss  Instances       Size\n"
          ]
        },
        {
          "output_type": "stream",
          "name": "stderr",
          "text": [
            "     73/100         0G     0.7633     0.4836     0.8597        300        640: 100%|██████████| 13/13 [02:40<00:00, 12.32s/it]\n",
            "                 Class     Images  Instances      Box(P          R      mAP50  mAP50-95): 100%|██████████| 1/1 [00:02<00:00,  2.51s/it]"
          ]
        },
        {
          "output_type": "stream",
          "name": "stdout",
          "text": [
            "                   all         16        275      0.909      0.855      0.928      0.795\n"
          ]
        },
        {
          "output_type": "stream",
          "name": "stderr",
          "text": [
            "\n"
          ]
        },
        {
          "output_type": "stream",
          "name": "stdout",
          "text": [
            "\n",
            "      Epoch    GPU_mem   box_loss   cls_loss   dfl_loss  Instances       Size\n"
          ]
        },
        {
          "output_type": "stream",
          "name": "stderr",
          "text": [
            "     74/100         0G     0.7408     0.4808     0.8659        249        640: 100%|██████████| 13/13 [02:40<00:00, 12.36s/it]\n",
            "                 Class     Images  Instances      Box(P          R      mAP50  mAP50-95): 100%|██████████| 1/1 [00:02<00:00,  2.50s/it]"
          ]
        },
        {
          "output_type": "stream",
          "name": "stdout",
          "text": [
            "                   all         16        275      0.968      0.952       0.99      0.846\n"
          ]
        },
        {
          "output_type": "stream",
          "name": "stderr",
          "text": [
            "\n"
          ]
        },
        {
          "output_type": "stream",
          "name": "stdout",
          "text": [
            "\n",
            "      Epoch    GPU_mem   box_loss   cls_loss   dfl_loss  Instances       Size\n"
          ]
        },
        {
          "output_type": "stream",
          "name": "stderr",
          "text": [
            "     75/100         0G     0.7417     0.4712     0.8636        345        640: 100%|██████████| 13/13 [02:41<00:00, 12.40s/it]\n",
            "                 Class     Images  Instances      Box(P          R      mAP50  mAP50-95): 100%|██████████| 1/1 [00:02<00:00,  2.94s/it]"
          ]
        },
        {
          "output_type": "stream",
          "name": "stdout",
          "text": [
            "                   all         16        275      0.917       0.84      0.928      0.765\n"
          ]
        },
        {
          "output_type": "stream",
          "name": "stderr",
          "text": [
            "\n"
          ]
        },
        {
          "output_type": "stream",
          "name": "stdout",
          "text": [
            "\n",
            "      Epoch    GPU_mem   box_loss   cls_loss   dfl_loss  Instances       Size\n"
          ]
        },
        {
          "output_type": "stream",
          "name": "stderr",
          "text": [
            "     76/100         0G     0.7305     0.4716     0.8581        374        640: 100%|██████████| 13/13 [02:38<00:00, 12.20s/it]\n",
            "                 Class     Images  Instances      Box(P          R      mAP50  mAP50-95): 100%|██████████| 1/1 [00:02<00:00,  2.50s/it]"
          ]
        },
        {
          "output_type": "stream",
          "name": "stdout",
          "text": [
            "                   all         16        275      0.938       0.83      0.893      0.749\n"
          ]
        },
        {
          "output_type": "stream",
          "name": "stderr",
          "text": [
            "\n"
          ]
        },
        {
          "output_type": "stream",
          "name": "stdout",
          "text": [
            "\n",
            "      Epoch    GPU_mem   box_loss   cls_loss   dfl_loss  Instances       Size\n"
          ]
        },
        {
          "output_type": "stream",
          "name": "stderr",
          "text": [
            "     77/100         0G     0.7038     0.4646     0.8555        280        640: 100%|██████████| 13/13 [02:40<00:00, 12.33s/it]\n",
            "                 Class     Images  Instances      Box(P          R      mAP50  mAP50-95): 100%|██████████| 1/1 [00:02<00:00,  2.46s/it]"
          ]
        },
        {
          "output_type": "stream",
          "name": "stdout",
          "text": [
            "                   all         16        275      0.947      0.826      0.893      0.752\n"
          ]
        },
        {
          "output_type": "stream",
          "name": "stderr",
          "text": [
            "\n"
          ]
        },
        {
          "output_type": "stream",
          "name": "stdout",
          "text": [
            "\n",
            "      Epoch    GPU_mem   box_loss   cls_loss   dfl_loss  Instances       Size\n"
          ]
        },
        {
          "output_type": "stream",
          "name": "stderr",
          "text": [
            "     78/100         0G     0.7049     0.4601     0.8579        278        640: 100%|██████████| 13/13 [02:39<00:00, 12.28s/it]\n",
            "                 Class     Images  Instances      Box(P          R      mAP50  mAP50-95): 100%|██████████| 1/1 [00:03<00:00,  3.56s/it]"
          ]
        },
        {
          "output_type": "stream",
          "name": "stdout",
          "text": [
            "                   all         16        275      0.958      0.937      0.991      0.849\n"
          ]
        },
        {
          "output_type": "stream",
          "name": "stderr",
          "text": [
            "\n"
          ]
        },
        {
          "output_type": "stream",
          "name": "stdout",
          "text": [
            "\n",
            "      Epoch    GPU_mem   box_loss   cls_loss   dfl_loss  Instances       Size\n"
          ]
        },
        {
          "output_type": "stream",
          "name": "stderr",
          "text": [
            "     79/100         0G     0.7302     0.4721     0.8539        310        640: 100%|██████████| 13/13 [02:41<00:00, 12.39s/it]\n",
            "                 Class     Images  Instances      Box(P          R      mAP50  mAP50-95): 100%|██████████| 1/1 [00:02<00:00,  2.49s/it]"
          ]
        },
        {
          "output_type": "stream",
          "name": "stdout",
          "text": [
            "                   all         16        275      0.955       0.93      0.991      0.841\n"
          ]
        },
        {
          "output_type": "stream",
          "name": "stderr",
          "text": [
            "\n"
          ]
        },
        {
          "output_type": "stream",
          "name": "stdout",
          "text": [
            "\n",
            "      Epoch    GPU_mem   box_loss   cls_loss   dfl_loss  Instances       Size\n"
          ]
        },
        {
          "output_type": "stream",
          "name": "stderr",
          "text": [
            "     80/100         0G     0.7212     0.4638     0.8564        313        640: 100%|██████████| 13/13 [02:41<00:00, 12.40s/it]\n",
            "                 Class     Images  Instances      Box(P          R      mAP50  mAP50-95): 100%|██████████| 1/1 [00:02<00:00,  2.52s/it]"
          ]
        },
        {
          "output_type": "stream",
          "name": "stdout",
          "text": [
            "                   all         16        275      0.893      0.834      0.901      0.772\n"
          ]
        },
        {
          "output_type": "stream",
          "name": "stderr",
          "text": [
            "\n"
          ]
        },
        {
          "output_type": "stream",
          "name": "stdout",
          "text": [
            "\n",
            "      Epoch    GPU_mem   box_loss   cls_loss   dfl_loss  Instances       Size\n"
          ]
        },
        {
          "output_type": "stream",
          "name": "stderr",
          "text": [
            "     81/100         0G     0.7133     0.4589     0.8548        317        640: 100%|██████████| 13/13 [02:38<00:00, 12.22s/it]\n",
            "                 Class     Images  Instances      Box(P          R      mAP50  mAP50-95): 100%|██████████| 1/1 [00:03<00:00,  3.27s/it]"
          ]
        },
        {
          "output_type": "stream",
          "name": "stdout",
          "text": [
            "                   all         16        275      0.881      0.865      0.891      0.767\n"
          ]
        },
        {
          "output_type": "stream",
          "name": "stderr",
          "text": [
            "\n"
          ]
        },
        {
          "output_type": "stream",
          "name": "stdout",
          "text": [
            "\n",
            "      Epoch    GPU_mem   box_loss   cls_loss   dfl_loss  Instances       Size\n"
          ]
        },
        {
          "output_type": "stream",
          "name": "stderr",
          "text": [
            "     82/100         0G     0.7244      0.462     0.8491        281        640: 100%|██████████| 13/13 [02:52<00:00, 13.26s/it]\n",
            "                 Class     Images  Instances      Box(P          R      mAP50  mAP50-95): 100%|██████████| 1/1 [00:02<00:00,  2.50s/it]"
          ]
        },
        {
          "output_type": "stream",
          "name": "stdout",
          "text": [
            "                   all         16        275      0.888      0.864      0.896      0.773\n"
          ]
        },
        {
          "output_type": "stream",
          "name": "stderr",
          "text": [
            "\n"
          ]
        },
        {
          "output_type": "stream",
          "name": "stdout",
          "text": [
            "\n",
            "      Epoch    GPU_mem   box_loss   cls_loss   dfl_loss  Instances       Size\n"
          ]
        },
        {
          "output_type": "stream",
          "name": "stderr",
          "text": [
            "     83/100         0G     0.7094     0.4565     0.8544        269        640: 100%|██████████| 13/13 [02:46<00:00, 12.78s/it]\n",
            "                 Class     Images  Instances      Box(P          R      mAP50  mAP50-95): 100%|██████████| 1/1 [00:02<00:00,  2.56s/it]"
          ]
        },
        {
          "output_type": "stream",
          "name": "stdout",
          "text": [
            "                   all         16        275      0.901      0.856      0.901       0.76\n"
          ]
        },
        {
          "output_type": "stream",
          "name": "stderr",
          "text": [
            "\n"
          ]
        },
        {
          "output_type": "stream",
          "name": "stdout",
          "text": [
            "\n",
            "      Epoch    GPU_mem   box_loss   cls_loss   dfl_loss  Instances       Size\n"
          ]
        },
        {
          "output_type": "stream",
          "name": "stderr",
          "text": [
            "     84/100         0G     0.7172     0.4632      0.852        300        640: 100%|██████████| 13/13 [02:41<00:00, 12.46s/it]\n",
            "                 Class     Images  Instances      Box(P          R      mAP50  mAP50-95): 100%|██████████| 1/1 [00:03<00:00,  3.25s/it]"
          ]
        },
        {
          "output_type": "stream",
          "name": "stdout",
          "text": [
            "                   all         16        275      0.934      0.833      0.907      0.784\n"
          ]
        },
        {
          "output_type": "stream",
          "name": "stderr",
          "text": [
            "\n"
          ]
        },
        {
          "output_type": "stream",
          "name": "stdout",
          "text": [
            "\n",
            "      Epoch    GPU_mem   box_loss   cls_loss   dfl_loss  Instances       Size\n"
          ]
        },
        {
          "output_type": "stream",
          "name": "stderr",
          "text": [
            "     85/100         0G      0.693     0.4523     0.8476        422        640: 100%|██████████| 13/13 [02:39<00:00, 12.26s/it]\n",
            "                 Class     Images  Instances      Box(P          R      mAP50  mAP50-95): 100%|██████████| 1/1 [00:02<00:00,  2.54s/it]"
          ]
        },
        {
          "output_type": "stream",
          "name": "stdout",
          "text": [
            "                   all         16        275      0.903      0.851      0.915      0.786\n"
          ]
        },
        {
          "output_type": "stream",
          "name": "stderr",
          "text": [
            "\n"
          ]
        },
        {
          "output_type": "stream",
          "name": "stdout",
          "text": [
            "\n",
            "      Epoch    GPU_mem   box_loss   cls_loss   dfl_loss  Instances       Size\n"
          ]
        },
        {
          "output_type": "stream",
          "name": "stderr",
          "text": [
            "     86/100         0G     0.7021     0.4578      0.846        355        640: 100%|██████████| 13/13 [02:42<00:00, 12.49s/it]\n",
            "                 Class     Images  Instances      Box(P          R      mAP50  mAP50-95): 100%|██████████| 1/1 [00:02<00:00,  2.53s/it]"
          ]
        },
        {
          "output_type": "stream",
          "name": "stdout",
          "text": [
            "                   all         16        275      0.949      0.948      0.992       0.85\n"
          ]
        },
        {
          "output_type": "stream",
          "name": "stderr",
          "text": [
            "\n"
          ]
        },
        {
          "output_type": "stream",
          "name": "stdout",
          "text": [
            "\n",
            "      Epoch    GPU_mem   box_loss   cls_loss   dfl_loss  Instances       Size\n"
          ]
        },
        {
          "output_type": "stream",
          "name": "stderr",
          "text": [
            "     87/100         0G     0.6723     0.4411     0.8466        297        640: 100%|██████████| 13/13 [02:42<00:00, 12.47s/it]\n",
            "                 Class     Images  Instances      Box(P          R      mAP50  mAP50-95): 100%|██████████| 1/1 [00:02<00:00,  2.53s/it]"
          ]
        },
        {
          "output_type": "stream",
          "name": "stdout",
          "text": [
            "                   all         16        275      0.941      0.965      0.992      0.852\n"
          ]
        },
        {
          "output_type": "stream",
          "name": "stderr",
          "text": [
            "\n"
          ]
        },
        {
          "output_type": "stream",
          "name": "stdout",
          "text": [
            "\n",
            "      Epoch    GPU_mem   box_loss   cls_loss   dfl_loss  Instances       Size\n"
          ]
        },
        {
          "output_type": "stream",
          "name": "stderr",
          "text": [
            "     88/100         0G     0.6672       0.44      0.841        305        640: 100%|██████████| 13/13 [02:40<00:00, 12.34s/it]\n",
            "                 Class     Images  Instances      Box(P          R      mAP50  mAP50-95): 100%|██████████| 1/1 [00:03<00:00,  3.28s/it]"
          ]
        },
        {
          "output_type": "stream",
          "name": "stdout",
          "text": [
            "                   all         16        275       0.89      0.835      0.927      0.793\n"
          ]
        },
        {
          "output_type": "stream",
          "name": "stderr",
          "text": [
            "\n"
          ]
        },
        {
          "output_type": "stream",
          "name": "stdout",
          "text": [
            "\n",
            "      Epoch    GPU_mem   box_loss   cls_loss   dfl_loss  Instances       Size\n"
          ]
        },
        {
          "output_type": "stream",
          "name": "stderr",
          "text": [
            "     89/100         0G     0.7026     0.4624     0.8453        399        640: 100%|██████████| 13/13 [02:38<00:00, 12.22s/it]\n",
            "                 Class     Images  Instances      Box(P          R      mAP50  mAP50-95): 100%|██████████| 1/1 [00:02<00:00,  2.48s/it]"
          ]
        },
        {
          "output_type": "stream",
          "name": "stdout",
          "text": [
            "                   all         16        275      0.903      0.862      0.915      0.782\n"
          ]
        },
        {
          "output_type": "stream",
          "name": "stderr",
          "text": [
            "\n"
          ]
        },
        {
          "output_type": "stream",
          "name": "stdout",
          "text": [
            "\n",
            "      Epoch    GPU_mem   box_loss   cls_loss   dfl_loss  Instances       Size\n"
          ]
        },
        {
          "output_type": "stream",
          "name": "stderr",
          "text": [
            "     90/100         0G     0.6687      0.442     0.8473        298        640: 100%|██████████| 13/13 [02:40<00:00, 12.32s/it]\n",
            "                 Class     Images  Instances      Box(P          R      mAP50  mAP50-95): 100%|██████████| 1/1 [00:02<00:00,  3.00s/it]"
          ]
        },
        {
          "output_type": "stream",
          "name": "stdout",
          "text": [
            "                   all         16        275      0.907       0.86      0.929      0.779\n"
          ]
        },
        {
          "output_type": "stream",
          "name": "stderr",
          "text": [
            "\n"
          ]
        },
        {
          "output_type": "stream",
          "name": "stdout",
          "text": [
            "Closing dataloader mosaic\n",
            "\u001b[34m\u001b[1malbumentations: \u001b[0mBlur(p=0.01, blur_limit=(3, 7)), MedianBlur(p=0.01, blur_limit=(3, 7)), ToGray(p=0.01), CLAHE(p=0.01, clip_limit=(1, 4.0), tile_grid_size=(8, 8))\n",
            "\n",
            "      Epoch    GPU_mem   box_loss   cls_loss   dfl_loss  Instances       Size\n"
          ]
        },
        {
          "output_type": "stream",
          "name": "stderr",
          "text": [
            "     91/100         0G     0.7069     0.5273     0.8511        185        640: 100%|██████████| 13/13 [02:38<00:00, 12.17s/it]\n",
            "                 Class     Images  Instances      Box(P          R      mAP50  mAP50-95): 100%|██████████| 1/1 [00:02<00:00,  2.52s/it]"
          ]
        },
        {
          "output_type": "stream",
          "name": "stdout",
          "text": [
            "                   all         16        275      0.918       0.86      0.949      0.811\n"
          ]
        },
        {
          "output_type": "stream",
          "name": "stderr",
          "text": [
            "\n"
          ]
        },
        {
          "output_type": "stream",
          "name": "stdout",
          "text": [
            "\n",
            "      Epoch    GPU_mem   box_loss   cls_loss   dfl_loss  Instances       Size\n"
          ]
        },
        {
          "output_type": "stream",
          "name": "stderr",
          "text": [
            "     92/100         0G     0.6594     0.4724     0.8439        208        640: 100%|██████████| 13/13 [02:32<00:00, 11.76s/it]\n",
            "                 Class     Images  Instances      Box(P          R      mAP50  mAP50-95): 100%|██████████| 1/1 [00:02<00:00,  2.50s/it]"
          ]
        },
        {
          "output_type": "stream",
          "name": "stdout",
          "text": [
            "                   all         16        275      0.857      0.833      0.949      0.795\n"
          ]
        },
        {
          "output_type": "stream",
          "name": "stderr",
          "text": [
            "\n"
          ]
        },
        {
          "output_type": "stream",
          "name": "stdout",
          "text": [
            "\n",
            "      Epoch    GPU_mem   box_loss   cls_loss   dfl_loss  Instances       Size\n"
          ]
        },
        {
          "output_type": "stream",
          "name": "stderr",
          "text": [
            "     93/100         0G     0.6612     0.4668     0.8472        213        640: 100%|██████████| 13/13 [02:37<00:00, 12.10s/it]\n",
            "                 Class     Images  Instances      Box(P          R      mAP50  mAP50-95): 100%|██████████| 1/1 [00:03<00:00,  3.18s/it]"
          ]
        },
        {
          "output_type": "stream",
          "name": "stdout",
          "text": [
            "                   all         16        275      0.823      0.814      0.904      0.767\n"
          ]
        },
        {
          "output_type": "stream",
          "name": "stderr",
          "text": [
            "\n"
          ]
        },
        {
          "output_type": "stream",
          "name": "stdout",
          "text": [
            "\n",
            "      Epoch    GPU_mem   box_loss   cls_loss   dfl_loss  Instances       Size\n"
          ]
        },
        {
          "output_type": "stream",
          "name": "stderr",
          "text": [
            "     94/100         0G     0.6331     0.4487      0.837        168        640: 100%|██████████| 13/13 [02:32<00:00, 11.71s/it]\n",
            "                 Class     Images  Instances      Box(P          R      mAP50  mAP50-95): 100%|██████████| 1/1 [00:02<00:00,  2.64s/it]"
          ]
        },
        {
          "output_type": "stream",
          "name": "stdout",
          "text": [
            "                   all         16        275      0.806      0.806       0.91      0.783\n"
          ]
        },
        {
          "output_type": "stream",
          "name": "stderr",
          "text": [
            "\n"
          ]
        },
        {
          "output_type": "stream",
          "name": "stdout",
          "text": [
            "\n",
            "      Epoch    GPU_mem   box_loss   cls_loss   dfl_loss  Instances       Size\n"
          ]
        },
        {
          "output_type": "stream",
          "name": "stderr",
          "text": [
            "     95/100         0G     0.6461      0.441     0.8366        180        640: 100%|██████████| 13/13 [02:33<00:00, 11.83s/it]\n",
            "                 Class     Images  Instances      Box(P          R      mAP50  mAP50-95): 100%|██████████| 1/1 [00:02<00:00,  2.53s/it]"
          ]
        },
        {
          "output_type": "stream",
          "name": "stdout",
          "text": [
            "                   all         16        275      0.853      0.834      0.902      0.776\n"
          ]
        },
        {
          "output_type": "stream",
          "name": "stderr",
          "text": [
            "\n"
          ]
        },
        {
          "output_type": "stream",
          "name": "stdout",
          "text": [
            "\n",
            "      Epoch    GPU_mem   box_loss   cls_loss   dfl_loss  Instances       Size\n"
          ]
        },
        {
          "output_type": "stream",
          "name": "stderr",
          "text": [
            "     96/100         0G      0.636      0.438     0.8299        173        640: 100%|██████████| 13/13 [02:33<00:00, 11.80s/it]\n",
            "                 Class     Images  Instances      Box(P          R      mAP50  mAP50-95): 100%|██████████| 1/1 [00:02<00:00,  2.54s/it]"
          ]
        },
        {
          "output_type": "stream",
          "name": "stdout",
          "text": [
            "                   all         16        275      0.921      0.814      0.906      0.766\n"
          ]
        },
        {
          "output_type": "stream",
          "name": "stderr",
          "text": [
            "\n"
          ]
        },
        {
          "output_type": "stream",
          "name": "stdout",
          "text": [
            "\n",
            "      Epoch    GPU_mem   box_loss   cls_loss   dfl_loss  Instances       Size\n"
          ]
        },
        {
          "output_type": "stream",
          "name": "stderr",
          "text": [
            "     97/100         0G       0.64     0.4324     0.8362        159        640: 100%|██████████| 13/13 [02:33<00:00, 11.83s/it]\n",
            "                 Class     Images  Instances      Box(P          R      mAP50  mAP50-95): 100%|██████████| 1/1 [00:02<00:00,  2.49s/it]"
          ]
        },
        {
          "output_type": "stream",
          "name": "stdout",
          "text": [
            "                   all         16        275      0.928      0.813      0.916      0.769\n"
          ]
        },
        {
          "output_type": "stream",
          "name": "stderr",
          "text": [
            "\n"
          ]
        },
        {
          "output_type": "stream",
          "name": "stdout",
          "text": [
            "\n",
            "      Epoch    GPU_mem   box_loss   cls_loss   dfl_loss  Instances       Size\n"
          ]
        },
        {
          "output_type": "stream",
          "name": "stderr",
          "text": [
            "     98/100         0G     0.6276     0.4303      0.836        134        640: 100%|██████████| 13/13 [02:32<00:00, 11.76s/it]\n",
            "                 Class     Images  Instances      Box(P          R      mAP50  mAP50-95): 100%|██████████| 1/1 [00:02<00:00,  2.52s/it]"
          ]
        },
        {
          "output_type": "stream",
          "name": "stdout",
          "text": [
            "                   all         16        275      0.929      0.813      0.916      0.768\n"
          ]
        },
        {
          "output_type": "stream",
          "name": "stderr",
          "text": [
            "\n"
          ]
        },
        {
          "output_type": "stream",
          "name": "stdout",
          "text": [
            "\n",
            "      Epoch    GPU_mem   box_loss   cls_loss   dfl_loss  Instances       Size\n"
          ]
        },
        {
          "output_type": "stream",
          "name": "stderr",
          "text": [
            "     99/100         0G     0.6077     0.4173     0.8389        150        640: 100%|██████████| 13/13 [02:33<00:00, 11.77s/it]\n",
            "                 Class     Images  Instances      Box(P          R      mAP50  mAP50-95): 100%|██████████| 1/1 [00:03<00:00,  3.40s/it]"
          ]
        },
        {
          "output_type": "stream",
          "name": "stdout",
          "text": [
            "                   all         16        275      0.921      0.819      0.914      0.769\n"
          ]
        },
        {
          "output_type": "stream",
          "name": "stderr",
          "text": [
            "\n"
          ]
        },
        {
          "output_type": "stream",
          "name": "stdout",
          "text": [
            "\n",
            "      Epoch    GPU_mem   box_loss   cls_loss   dfl_loss  Instances       Size\n"
          ]
        },
        {
          "output_type": "stream",
          "name": "stderr",
          "text": [
            "    100/100         0G     0.6148      0.421     0.8311        153        640: 100%|██████████| 13/13 [02:31<00:00, 11.65s/it]\n",
            "                 Class     Images  Instances      Box(P          R      mAP50  mAP50-95): 100%|██████████| 1/1 [00:03<00:00,  3.67s/it]"
          ]
        },
        {
          "output_type": "stream",
          "name": "stdout",
          "text": [
            "                   all         16        275      0.922      0.819      0.914      0.787\n"
          ]
        },
        {
          "output_type": "stream",
          "name": "stderr",
          "text": [
            "\n"
          ]
        },
        {
          "output_type": "stream",
          "name": "stdout",
          "text": [
            "\n",
            "100 epochs completed in 4.556 hours.\n",
            "Optimizer stripped from runs/detect/train/weights/last.pt, 6.2MB\n",
            "Optimizer stripped from runs/detect/train/weights/best.pt, 6.2MB\n",
            "\n",
            "Validating runs/detect/train/weights/best.pt...\n",
            "Ultralytics YOLOv8.0.225 🚀 Python-3.10.12 torch-2.1.0+cu118 CPU (Intel Xeon 2.20GHz)\n",
            "Model summary (fused): 168 layers, 3006428 parameters, 0 gradients, 8.1 GFLOPs\n"
          ]
        },
        {
          "output_type": "stream",
          "name": "stderr",
          "text": [
            "                 Class     Images  Instances      Box(P          R      mAP50  mAP50-95): 100%|██████████| 1/1 [00:02<00:00,  2.13s/it]\n"
          ]
        },
        {
          "output_type": "stream",
          "name": "stdout",
          "text": [
            "                   all         16        275       0.94      0.974       0.99      0.872\n",
            "                   bus         16          3      0.771          1      0.995      0.895\n",
            "                  cars         16        263      0.988      0.958      0.974      0.847\n",
            "                 truck         16          2          1      0.968      0.995      0.895\n",
            "                   van         16          7          1      0.971      0.995      0.848\n",
            "Speed: 1.3ms preprocess, 115.3ms inference, 0.0ms loss, 0.6ms postprocess per image\n",
            "Results saved to \u001b[1mruns/detect/train\u001b[0m\n"
          ]
        }
      ]
    },
    {
      "cell_type": "code",
      "source": [
        "!yolo export model=/content/runs/detect/train7/weights/best.pt format=torchscript"
      ],
      "metadata": {
        "colab": {
          "base_uri": "https://localhost:8080/"
        },
        "id": "ZIzZhVWFLL2p",
        "outputId": "e9d74e46-cf7b-467b-a890-9d51d8080a6b"
      },
      "execution_count": 7,
      "outputs": [
        {
          "output_type": "stream",
          "name": "stdout",
          "text": [
            "Traceback (most recent call last):\n",
            "  File \"/usr/local/bin/yolo\", line 8, in <module>\n",
            "    sys.exit(entrypoint())\n",
            "  File \"/usr/local/lib/python3.10/dist-packages/ultralytics/cfg/__init__.py\", line 423, in entrypoint\n",
            "    model = YOLO(model, task=task)\n",
            "  File \"/usr/local/lib/python3.10/dist-packages/ultralytics/engine/model.py\", line 94, in __init__\n",
            "    self._load(model, task)\n",
            "  File \"/usr/local/lib/python3.10/dist-packages/ultralytics/engine/model.py\", line 146, in _load\n",
            "    self.model, self.ckpt = attempt_load_one_weight(weights)\n",
            "  File \"/usr/local/lib/python3.10/dist-packages/ultralytics/nn/tasks.py\", line 628, in attempt_load_one_weight\n",
            "    ckpt, weight = torch_safe_load(weight)  # load ckpt\n",
            "  File \"/usr/local/lib/python3.10/dist-packages/ultralytics/nn/tasks.py\", line 567, in torch_safe_load\n",
            "    return torch.load(file, map_location='cpu'), file  # load\n",
            "  File \"/usr/local/lib/python3.10/dist-packages/torch/serialization.py\", line 986, in load\n",
            "    with _open_file_like(f, 'rb') as opened_file:\n",
            "  File \"/usr/local/lib/python3.10/dist-packages/torch/serialization.py\", line 435, in _open_file_like\n",
            "    return _open_file(name_or_buffer, mode)\n",
            "  File \"/usr/local/lib/python3.10/dist-packages/torch/serialization.py\", line 416, in __init__\n",
            "    super().__init__(open(name, mode))\n",
            "FileNotFoundError: [Errno 2] No such file or directory: '/content/runs/detect/train7/weights/best.pt'\n"
          ]
        }
      ]
    },
    {
      "cell_type": "code",
      "source": [
        "from IPython.display import display, Image\n",
        "\n",
        "Image(filename=f'/content/runs/detect/train/confusion_matrix.png', width=600)"
      ],
      "metadata": {
        "colab": {
          "base_uri": "https://localhost:8080/",
          "height": 467
        },
        "id": "dGlKZ018FI_y",
        "outputId": "c1c050a5-4463-4508-9d17-2390b465ea88"
      },
      "execution_count": 13,
      "outputs": [
        {
          "output_type": "execute_result",
          "data": {
            "image/png": "[encoded data removed]",
            "text/plain": [
              "<IPython.core.display.Image object>"
            ]
          },
          "metadata": {
            "image/png": {
              "width": 600
            }
          },
          "execution_count": 13
        }
      ]
    },
    {
      "cell_type": "code",
      "source": [
        "Image(filename=f'/content/runs/detect/train/results.png', width=600)"
      ],
      "metadata": {
        "colab": {
          "base_uri": "https://localhost:8080/",
          "height": 317
        },
        "id": "qwDWQSAWXMS8",
        "outputId": "060e60c1-7c20-4602-9338-6a3f0d21bf13"
      },
      "execution_count": 14,
      "outputs": [
        {
          "output_type": "execute_result",
          "data": {
            "image/png": "[encoded data removed]",
            "text/plain": [
              "<IPython.core.display.Image object>"
            ]
          },
          "metadata": {
            "image/png": {
              "width": 600
            }
          },
          "execution_count": 14
        }
      ]
    },
    {
      "cell_type": "code",
      "source": [
        "!yolo task=detect mode=val model=/content/runs/detect/train/weights/best.pt data={dataset.location}/data.yaml"
      ],
      "metadata": {
        "colab": {
          "base_uri": "https://localhost:8080/"
        },
        "id": "OuB1fyu8XayD",
        "outputId": "df59fe57-51d4-4075-8be2-ecd7daeba338"
      },
      "execution_count": 15,
      "outputs": [
        {
          "output_type": "stream",
          "name": "stdout",
          "text": [
            "Ultralytics YOLOv8.0.225 🚀 Python-3.10.12 torch-2.1.0+cu118 CPU (Intel Xeon 2.20GHz)\n",
            "Model summary (fused): 168 layers, 3006428 parameters, 0 gradients, 8.1 GFLOPs\n",
            "\u001b[34m\u001b[1mval: \u001b[0mScanning /content/Detecting-Vehicles-on-Aerial-Images-8/valid/labels.cache... 16 images, 0 backgrounds, 0 corrupt: 100% 16/16 [00:00<?, ?it/s]\n",
            "                 Class     Images  Instances      Box(P          R      mAP50  mAP50-95): 100% 1/1 [00:03<00:00,  3.10s/it]\n",
            "                   all         16        275       0.94      0.974       0.99      0.872\n",
            "                   bus         16          3      0.771          1      0.995      0.895\n",
            "                  cars         16        263      0.988      0.958      0.974      0.847\n",
            "                 truck         16          2          1      0.968      0.995      0.895\n",
            "                   van         16          7          1      0.971      0.995      0.848\n",
            "Speed: 4.5ms preprocess, 171.6ms inference, 0.0ms loss, 0.8ms postprocess per image\n",
            "Results saved to \u001b[1mruns/detect/val\u001b[0m\n",
            "💡 Learn more at https://docs.ultralytics.com/modes/val\n"
          ]
        }
      ]
    },
    {
      "cell_type": "code",
      "source": [
        "!zip -r /content/runs.zip /content/"
      ],
      "metadata": {
        "colab": {
          "base_uri": "https://localhost:8080/"
        },
        "id": "LRTHXWvhaEcc",
        "outputId": "b51f5497-3df0-4a3d-8903-128cc7eb4fb4"
      },
      "execution_count": 17,
      "outputs": [
        {
          "output_type": "stream",
          "name": "stdout",
          "text": [
            "updating: content/ (stored 0%)\n",
            "updating: content/.config/ (stored 0%)\n",
            "updating: content/.config/configurations/ (stored 0%)\n",
            "updating: content/.config/configurations/config_default (deflated 15%)\n",
            "updating: content/.config/logs/ (stored 0%)\n",
            "updating: content/.config/logs/2023.12.04/ (stored 0%)\n",
            "updating: content/.config/logs/2023.12.04/14.20.49.627769.log (deflated 91%)\n",
            "updating: content/.config/logs/2023.12.04/14.23.49.652015.log (deflated 58%)\n",
            "updating: content/.config/logs/2023.12.04/14.23.59.638040.log (deflated 86%)\n",
            "updating: content/.config/logs/2023.12.04/14.26.59.279282.log (deflated 57%)\n",
            "updating: content/.config/logs/2023.12.04/14.27.00.107426.log (deflated 56%)\n",
            "updating: content/.config/logs/2023.12.04/14.26.48.840108.log (deflated 58%)\n",
            "updating: content/.config/active_config (stored 0%)\n",
            "updating: content/.config/config_sentinel (stored 0%)\n",
            "updating: content/.config/.last_opt_in_prompt.yaml (stored 0%)\n",
            "updating: content/.config/default_configs.db (deflated 98%)\n",
            "updating: content/.config/.last_survey_prompt.yaml (stored 0%)\n",
            "updating: content/.config/.last_update_check.json (deflated 22%)\n",
            "updating: content/.config/gce (stored 0%)\n",
            "updating: content/runs/ (stored 0%)\n",
            "updating: content/runs/detect/ (stored 0%)\n",
            "updating: content/runs/detect/train/ (stored 0%)\n",
            "updating: content/runs/detect/train/train_batch1170.jpg (deflated 10%)\n",
            "updating: content/runs/detect/train/events.out.tfevents.1702053087.7cbd18639a2e.179.0 (deflated 90%)\n",
            "updating: content/runs/detect/train/labels_correlogram.jpg (deflated 38%)\n",
            "updating: content/runs/detect/train/labels.jpg (deflated 29%)\n",
            "updating: content/runs/detect/train/results.csv (deflated 85%)\n",
            "updating: content/runs/detect/train/weights/ (stored 0%)\n",
            "updating: content/runs/detect/train/weights/last.pt (deflated 9%)\n",
            "updating: content/runs/detect/train/weights/best.pt (deflated 9%)\n",
            "updating: content/runs/detect/train/F1_curve.png (deflated 8%)\n",
            "updating: content/runs/detect/train/val_batch0_labels.jpg (deflated 4%)\n",
            "updating: content/runs/detect/train/train_batch1172.jpg (deflated 10%)\n",
            "updating: content/runs/detect/train/train_batch1.jpg (deflated 4%)\n",
            "updating: content/runs/detect/train/results.png (deflated 7%)\n",
            "updating: content/runs/detect/train/PR_curve.png (deflated 23%)\n",
            "updating: content/runs/detect/train/confusion_matrix.png (deflated 35%)\n",
            "updating: content/runs/detect/train/args.yaml (deflated 51%)\n",
            "updating: content/runs/detect/train/P_curve.png (deflated 12%)\n",
            "updating: content/runs/detect/train/val_batch0_pred.jpg (deflated 4%)\n",
            "updating: content/runs/detect/train/confusion_matrix_normalized.png (deflated 30%)\n",
            "updating: content/runs/detect/train/train_batch1171.jpg (deflated 11%)\n",
            "updating: content/runs/detect/train/train_batch2.jpg (deflated 3%)\n",
            "updating: content/runs/detect/train/R_curve.png (deflated 12%)\n",
            "updating: content/runs/detect/train/train_batch0.jpg (deflated 3%)\n",
            "updating: content/yolov8n.pt (deflated 9%)\n",
            "updating: content/Detecting-Vehicles-on-Aerial-Images-8/ (stored 0%)\n",
            "updating: content/Detecting-Vehicles-on-Aerial-Images-8/train/ (stored 0%)\n",
            "updating: content/Detecting-Vehicles-on-Aerial-Images-8/train/images/ (stored 0%)\n",
            "updating: content/Detecting-Vehicles-on-Aerial-Images-8/train/images/city-3-3_jpg.rf.1cadc34eb8dc8628cde6f0d9d943bd47.jpg (deflated 1%)\n",
            "updating: content/Detecting-Vehicles-on-Aerial-Images-8/train/images/city-3-12_jpg.rf.347b6f014ff6ba6a2c3e3d9b69e57c96.jpg (deflated 0%)\n",
            "updating: content/Detecting-Vehicles-on-Aerial-Images-8/train/images/city-3-7_jpg.rf.5ed75e8f6c6bfd176fc572c963cd2d86.jpg (deflated 0%)\n",
            "updating: content/Detecting-Vehicles-on-Aerial-Images-8/train/images/city-3-7_jpg.rf.6dc8d0af61f29de2279de335403f9889.jpg (deflated 0%)\n",
            "updating: content/Detecting-Vehicles-on-Aerial-Images-8/train/images/city-3-13_jpg.rf.ee6781cc0f3535c9311abce8355caafa.jpg (deflated 1%)\n",
            "updating: content/Detecting-Vehicles-on-Aerial-Images-8/train/images/city-3-19_jpg.rf.bb56e29eb3d46f830dbb64e00a284012.jpg (deflated 1%)\n",
            "updating: content/Detecting-Vehicles-on-Aerial-Images-8/train/images/city-4-24_jpg.rf.8e13bb8ffad5627b13517d1e1b4ce668.jpg (deflated 0%)\n",
            "updating: content/Detecting-Vehicles-on-Aerial-Images-8/train/images/city-4-1_jpg.rf.77faf69ce4991b310446d181756eaf01.jpg (deflated 1%)\n",
            "updating: content/Detecting-Vehicles-on-Aerial-Images-8/train/images/city-3-12_jpg.rf.6484acbe91d1a3924d4e358acd3a6cb3.jpg (deflated 0%)\n",
            "updating: content/Detecting-Vehicles-on-Aerial-Images-8/train/images/city-4-1_jpg.rf.1de71a5e7c9784fcd3728c28582e33ae.jpg (deflated 5%)\n",
            "updating: content/Detecting-Vehicles-on-Aerial-Images-8/train/images/city-4-19_jpg.rf.e98f1a5929e590657b6a4471444a96e2.jpg (deflated 1%)\n",
            "updating: content/Detecting-Vehicles-on-Aerial-Images-8/train/images/city-3-8_jpg.rf.cbe9778ac284c8aef818943dda84f82f.jpg (deflated 1%)\n",
            "updating: content/Detecting-Vehicles-on-Aerial-Images-8/train/images/city-3-2_jpg.rf.4a88074c4858070960fc4f2bf4ef970a.jpg (deflated 0%)\n",
            "updating: content/Detecting-Vehicles-on-Aerial-Images-8/train/images/city-3-22_jpg.rf.6a8e86cfb74ce697d5f76c1e2012b34a.jpg (deflated 0%)\n",
            "updating: content/Detecting-Vehicles-on-Aerial-Images-8/train/images/city-3-8_jpg.rf.367d8c4dcf2f7a2da009eb2ca81fd95d.jpg (deflated 0%)\n",
            "updating: content/Detecting-Vehicles-on-Aerial-Images-8/train/images/city-3-3_jpg.rf.8cd75231322a312ad5b1f5877d0ad395.jpg (deflated 1%)\n",
            "updating: content/Detecting-Vehicles-on-Aerial-Images-8/train/images/city-4-27_jpg.rf.f3bceea1ac6057440af71a7c536357f0.jpg (deflated 1%)\n",
            "updating: content/Detecting-Vehicles-on-Aerial-Images-8/train/images/city-3-13_jpg.rf.f1304d2003067d66569d34acad13f2d6.jpg (deflated 0%)\n",
            "updating: content/Detecting-Vehicles-on-Aerial-Images-8/train/images/city-4-24_jpg.rf.324d8543b83fbdf1bcdd23c402fe2f50.jpg (deflated 0%)\n",
            "updating: content/Detecting-Vehicles-on-Aerial-Images-8/train/images/city-4-1_jpg.rf.b612ece8fbd01f5ba4f864d4def6e923.jpg (deflated 1%)\n",
            "updating: content/Detecting-Vehicles-on-Aerial-Images-8/train/images/city-3-2_jpg.rf.e9e1e0311bffa1d27e35a3838c5f93ad.jpg (deflated 1%)\n",
            "updating: content/Detecting-Vehicles-on-Aerial-Images-8/train/images/city-4-1_jpg.rf.69d04347b2e819d80fb380b29f9f7bd2.jpg (deflated 1%)\n",
            "updating: content/Detecting-Vehicles-on-Aerial-Images-8/train/images/city-4-1_jpg.rf.59d32b7be3a5d0809b9fbee76c7a1a79.jpg (deflated 0%)\n",
            "updating: content/Detecting-Vehicles-on-Aerial-Images-8/train/images/city-4-1_jpg.rf.ddb30099dfe30438201a270666af3a2b.jpg (deflated 1%)\n",
            "updating: content/Detecting-Vehicles-on-Aerial-Images-8/train/images/city-3-15_jpg.rf.349ce12c1d6ddfedf8936bc96dea8554.jpg (deflated 0%)\n",
            "updating: content/Detecting-Vehicles-on-Aerial-Images-8/train/images/city-3-13_jpg.rf.22b5b3b51c0bcedd40f8eb8bee30b84d.jpg (deflated 1%)\n",
            "updating: content/Detecting-Vehicles-on-Aerial-Images-8/train/images/city-3-7_jpg.rf.3d91b9808c71ed514198361b55205ade.jpg (deflated 0%)\n",
            "updating: content/Detecting-Vehicles-on-Aerial-Images-8/train/images/city-3-22_jpg.rf.9a2f62cca698c1834a65b8ba300d13b0.jpg (deflated 0%)\n",
            "updating: content/Detecting-Vehicles-on-Aerial-Images-8/train/images/city-3-13_jpg.rf.cc687fac54efec7988ea59d772e5bfcd.jpg (deflated 1%)\n",
            "updating: content/Detecting-Vehicles-on-Aerial-Images-8/train/images/city-3-15_jpg.rf.35fd21c1160668aad2171327af882b99.jpg (deflated 0%)\n",
            "updating: content/Detecting-Vehicles-on-Aerial-Images-8/train/images/city-3-12_jpg.rf.88fa5ddf07ad693f4cd02183d7f82cec.jpg (deflated 0%)\n",
            "updating: content/Detecting-Vehicles-on-Aerial-Images-8/train/images/city-3-19_jpg.rf.d329ba0443d1e21f33bbb6dc83607197.jpg (deflated 1%)\n",
            "updating: content/Detecting-Vehicles-on-Aerial-Images-8/train/images/city-4-19_jpg.rf.a11b32f80a9445a9dc9ddedc5db7ffca.jpg (deflated 3%)\n",
            "updating: content/Detecting-Vehicles-on-Aerial-Images-8/train/images/city-3-2_jpg.rf.750b6f497c1be30a0b52009ce0364eb9.jpg (deflated 0%)\n",
            "updating: content/Detecting-Vehicles-on-Aerial-Images-8/train/images/city-4-24_jpg.rf.49af299409f6ff70d07bd28e29bd4ee7.jpg (deflated 2%)\n",
            "updating: content/Detecting-Vehicles-on-Aerial-Images-8/train/images/city-3-3_jpg.rf.3c3a0c3b2dcace66ebc51bade4438145.jpg (deflated 1%)\n",
            "updating: content/Detecting-Vehicles-on-Aerial-Images-8/train/images/city-3-17_jpg.rf.37cb5cc4705711f079c1f5f34b84f7d3.jpg (deflated 1%)\n",
            "updating: content/Detecting-Vehicles-on-Aerial-Images-8/train/images/city-3-12_jpg.rf.37a039e5f96d3b1542c86314934021e6.jpg (deflated 0%)\n",
            "updating: content/Detecting-Vehicles-on-Aerial-Images-8/train/images/city-3-22_jpg.rf.48eff1c54e583907e47aa5468554284b.jpg (deflated 0%)\n",
            "updating: content/Detecting-Vehicles-on-Aerial-Images-8/train/images/city-3-23_jpg.rf.4549125d3f9d9d1f2f73f660ecdb0f09.jpg (deflated 0%)\n",
            "updating: content/Detecting-Vehicles-on-Aerial-Images-8/train/images/city-3-3_jpg.rf.49d83e5a4e9d17ff46320ca1913e8f4c.jpg (deflated 1%)\n",
            "updating: content/Detecting-Vehicles-on-Aerial-Images-8/train/images/city-3-1_jpg.rf.111d452792fe6d9ef34e3519f4f87cbb.jpg (deflated 0%)\n",
            "updating: content/Detecting-Vehicles-on-Aerial-Images-8/train/images/city-3-12_jpg.rf.f25f2d46a128ac878b9f31441d3040e7.jpg (deflated 1%)\n",
            "updating: content/Detecting-Vehicles-on-Aerial-Images-8/train/images/city-3-15_jpg.rf.93d980cd33fd36ced2a137a839c32086.jpg (deflated 1%)\n",
            "updating: content/Detecting-Vehicles-on-Aerial-Images-8/train/images/city-3-17_jpg.rf.665b66dc8b0a505d9f56beea841273a1.jpg (deflated 0%)\n",
            "updating: content/Detecting-Vehicles-on-Aerial-Images-8/train/images/city-3-22_jpg.rf.3a24553e15685090b7300c42ca85cc4d.jpg (deflated 0%)\n",
            "updating: content/Detecting-Vehicles-on-Aerial-Images-8/train/images/city-3-15_jpg.rf.cb9a130d713dbb0b423b9f92e374f423.jpg (deflated 0%)\n",
            "updating: content/Detecting-Vehicles-on-Aerial-Images-8/train/images/city-3-22_jpg.rf.a448ad4634df0e01e0907ecd69e3e074.jpg (deflated 0%)\n",
            "updating: content/Detecting-Vehicles-on-Aerial-Images-8/train/images/city-3-15_jpg.rf.e3ec21cf927563beefaff6799d87400b.jpg (deflated 0%)\n",
            "updating: content/Detecting-Vehicles-on-Aerial-Images-8/train/images/city-3-22_jpg.rf.d56cf9adb0a3bac9d62d6fbbb4811542.jpg (deflated 0%)\n",
            "updating: content/Detecting-Vehicles-on-Aerial-Images-8/train/images/city-4-27_jpg.rf.8aa340202ef1a19b1c393404adc99e8b.jpg (deflated 1%)\n",
            "updating: content/Detecting-Vehicles-on-Aerial-Images-8/train/images/city-3-23_jpg.rf.95c27a667ad251221721e728a4962a1e.jpg (deflated 0%)\n",
            "updating: content/Detecting-Vehicles-on-Aerial-Images-8/train/images/city-3-19_jpg.rf.b3a3adbd67af01a6345d8afea41bf5be.jpg (deflated 1%)\n",
            "updating: content/Detecting-Vehicles-on-Aerial-Images-8/train/images/city-4-1_jpg.rf.fe5f34072caff8825a6bc3347bc75e9d.jpg (deflated 7%)\n",
            "updating: content/Detecting-Vehicles-on-Aerial-Images-8/train/images/city-3-17_jpg.rf.8db47628a1fbcfb44722980c670618c9.jpg (deflated 0%)\n",
            "updating: content/Detecting-Vehicles-on-Aerial-Images-8/train/images/city-4-24_jpg.rf.8cf1bf3f541c7c11d55e7b7daca33e32.jpg (deflated 2%)\n",
            "updating: content/Detecting-Vehicles-on-Aerial-Images-8/train/images/city-3-15_jpg.rf.ffe1d45af31933afd02f470297bafb94.jpg (deflated 1%)\n",
            "updating: content/Detecting-Vehicles-on-Aerial-Images-8/train/images/city-4-24_jpg.rf.564fc83518b9e8130c9740f79d6840d9.jpg (deflated 3%)\n",
            "updating: content/Detecting-Vehicles-on-Aerial-Images-8/train/images/city-3-19_jpg.rf.c4328b42ca0255f6396cbe696d2c6907.jpg (deflated 1%)\n",
            "updating: content/Detecting-Vehicles-on-Aerial-Images-8/train/images/city-3-19_jpg.rf.1c558cf680ced6335fcd6dbaa71d9d23.jpg (deflated 1%)\n",
            "updating: content/Detecting-Vehicles-on-Aerial-Images-8/train/images/city-3-21_jpg.rf.2aa67b3eacb4b93f4e970255efc55fc5.jpg (deflated 0%)\n",
            "updating: content/Detecting-Vehicles-on-Aerial-Images-8/train/images/city-3-21_jpg.rf.59146441228aac8a351d6d1a93a4bd30.jpg (deflated 1%)\n",
            "updating: content/Detecting-Vehicles-on-Aerial-Images-8/train/images/city-3-21_jpg.rf.b3b8fc71efe72ea86e52c29654e6eee8.jpg (deflated 1%)\n",
            "updating: content/Detecting-Vehicles-on-Aerial-Images-8/train/images/city-3-23_jpg.rf.7e98631526a3c8a58c25bc564237ad3a.jpg (deflated 0%)\n",
            "updating: content/Detecting-Vehicles-on-Aerial-Images-8/train/images/city-4-19_jpg.rf.c7b56806fa7ee571d5cd708e3eff05f2.jpg (deflated 12%)\n",
            "updating: content/Detecting-Vehicles-on-Aerial-Images-8/train/images/city-3-7_jpg.rf.73f4cd2c5f20c84a29b2c52e20fa7413.jpg (deflated 1%)\n",
            "updating: content/Detecting-Vehicles-on-Aerial-Images-8/train/images/city-3-21_jpg.rf.6e6c2a881dac09fdddbdd3ca16807ca4.jpg (deflated 1%)\n",
            "updating: content/Detecting-Vehicles-on-Aerial-Images-8/train/images/city-4-19_jpg.rf.c6661ccf823b246727bb35b6f3f53f82.jpg (deflated 13%)\n",
            "updating: content/Detecting-Vehicles-on-Aerial-Images-8/train/images/city-4-24_jpg.rf.2056a174f411cc20a6fec73762c35177.jpg (deflated 12%)\n",
            "updating: content/Detecting-Vehicles-on-Aerial-Images-8/train/images/city-3-3_jpg.rf.9dac0b93b48dfce4350200d605b0e73a.jpg (deflated 0%)\n",
            "updating: content/Detecting-Vehicles-on-Aerial-Images-8/train/images/city-4-27_jpg.rf.78720c267a8ef6033afeebafcca2bc69.jpg (deflated 13%)\n",
            "updating: content/Detecting-Vehicles-on-Aerial-Images-8/train/images/city-3-8_jpg.rf.286525c8045287f1b73479f1fabe58ac.jpg (deflated 0%)\n",
            "updating: content/Detecting-Vehicles-on-Aerial-Images-8/train/images/city-3-7_jpg.rf.8535e993f44b1bf7432fb1715a38b9c9.jpg (deflated 0%)\n",
            "updating: content/Detecting-Vehicles-on-Aerial-Images-8/train/images/city-3-2_jpg.rf.78d138b5d518660bd5aaed5652b14fdc.jpg (deflated 0%)\n",
            "updating: content/Detecting-Vehicles-on-Aerial-Images-8/train/images/city-3-8_jpg.rf.2b8d28476d4d49325f261e52f034eaf6.jpg (deflated 1%)\n",
            "updating: content/Detecting-Vehicles-on-Aerial-Images-8/train/images/city-3-13_jpg.rf.2b13fbbff7c5f5a6a6febd7e9d3648f7.jpg (deflated 0%)\n",
            "updating: content/Detecting-Vehicles-on-Aerial-Images-8/train/images/city-4-1_jpg.rf.e8b82ab0f0fec55e2e07cc347decfab6.jpg (deflated 1%)\n",
            "updating: content/Detecting-Vehicles-on-Aerial-Images-8/train/images/city-3-15_jpg.rf.56799ca12732d127c82e802c95bde1ea.jpg (deflated 0%)\n",
            "updating: content/Detecting-Vehicles-on-Aerial-Images-8/train/images/city-3-2_jpg.rf.eb47e59139fd0ffd8e6a283c539f121f.jpg (deflated 0%)\n",
            "updating: content/Detecting-Vehicles-on-Aerial-Images-8/train/images/city-3-15_jpg.rf.b232291c73b75c7418f7f3a3a02263a8.jpg (deflated 1%)\n",
            "updating: content/Detecting-Vehicles-on-Aerial-Images-8/train/images/city-3-21_jpg.rf.83406d1adb9959f8f98a572b6dd6e09c.jpg (deflated 0%)\n",
            "updating: content/Detecting-Vehicles-on-Aerial-Images-8/train/images/city-3-2_jpg.rf.3822f76fa27a7a1646d1145431a4adac.jpg (deflated 0%)\n",
            "updating: content/Detecting-Vehicles-on-Aerial-Images-8/train/images/city-4-19_jpg.rf.78b61c87fd9e673bd52e2a96881627bc.jpg (deflated 1%)\n",
            "updating: content/Detecting-Vehicles-on-Aerial-Images-8/train/images/city-3-23_jpg.rf.be4538a41acd1ad0a9584d02a1a78de7.jpg (deflated 0%)\n",
            "updating: content/Detecting-Vehicles-on-Aerial-Images-8/train/images/city-3-17_jpg.rf.5a2053f1d48256d36b8ca98fd9c4e684.jpg (deflated 0%)\n",
            "updating: content/Detecting-Vehicles-on-Aerial-Images-8/train/images/city-4-27_jpg.rf.eed56cb6a8f9904a061ab3e454a01b3e.jpg (deflated 0%)\n",
            "updating: content/Detecting-Vehicles-on-Aerial-Images-8/train/images/city-3-1_jpg.rf.98a7954eab47c1de73f500a7afb36e4f.jpg (deflated 0%)\n",
            "updating: content/Detecting-Vehicles-on-Aerial-Images-8/train/images/city-3-21_jpg.rf.d60420eb4d56f5dd3c6bfb0993718b09.jpg (deflated 0%)\n",
            "updating: content/Detecting-Vehicles-on-Aerial-Images-8/train/images/city-3-21_jpg.rf.abc0e1e573675c8c0675ce5066acba8a.jpg (deflated 0%)\n",
            "updating: content/Detecting-Vehicles-on-Aerial-Images-8/train/images/city-4-27_jpg.rf.670a019dedb1ffbca3c4cf472445e1ae.jpg (deflated 0%)\n",
            "updating: content/Detecting-Vehicles-on-Aerial-Images-8/train/images/city-3-7_jpg.rf.e2bb6e58d9849b53d22792d3f4d6517f.jpg (deflated 0%)\n",
            "updating: content/Detecting-Vehicles-on-Aerial-Images-8/train/images/city-3-21_jpg.rf.a1df0c67ae62a35ac53e1a171861ef7d.jpg (deflated 0%)\n",
            "updating: content/Detecting-Vehicles-on-Aerial-Images-8/train/images/city-4-19_jpg.rf.68ac1dc450e343b9384cd0e3251b73a5.jpg (deflated 1%)\n",
            "updating: content/Detecting-Vehicles-on-Aerial-Images-8/train/images/city-4-27_jpg.rf.350adc724d8bab423c97c3fde33ab861.jpg (deflated 1%)\n",
            "updating: content/Detecting-Vehicles-on-Aerial-Images-8/train/images/city-3-23_jpg.rf.14d008b40192f72ff1c16cff30cf072d.jpg (deflated 0%)\n",
            "updating: content/Detecting-Vehicles-on-Aerial-Images-8/train/images/city-3-17_jpg.rf.7241fb0d1bf0874ac8c378eb32e6b691.jpg (deflated 1%)\n",
            "updating: content/Detecting-Vehicles-on-Aerial-Images-8/train/images/city-3-17_jpg.rf.6e4bdcd5b1a460fe2d4a245f5dda011e.jpg (deflated 1%)\n",
            "updating: content/Detecting-Vehicles-on-Aerial-Images-8/train/images/city-3-17_jpg.rf.1aeb6d8fc43dde2c54e57150305bc79f.jpg (deflated 0%)\n",
            "updating: content/Detecting-Vehicles-on-Aerial-Images-8/train/images/city-4-19_jpg.rf.aa74b16efe351a80520363be44301b69.jpg (deflated 1%)\n",
            "updating: content/Detecting-Vehicles-on-Aerial-Images-8/train/images/city-3-23_jpg.rf.91ea7705624366874c3bb4e2688b2763.jpg (deflated 0%)\n",
            "updating: content/Detecting-Vehicles-on-Aerial-Images-8/train/images/city-3-1_jpg.rf.03490f22043552f0efac105daf5295c7.jpg (deflated 0%)\n",
            "updating: content/Detecting-Vehicles-on-Aerial-Images-8/train/images/city-3-12_jpg.rf.5d2043c91b895ba40b65684345a7cad2.jpg (deflated 1%)\n",
            "updating: content/Detecting-Vehicles-on-Aerial-Images-8/train/images/city-4-1_jpg.rf.859b29d010fbcfd0bb6916a0f7bc2e12.jpg (deflated 0%)\n",
            "updating: content/Detecting-Vehicles-on-Aerial-Images-8/train/images/city-4-24_jpg.rf.405eda28b8e8b07ef2bf900834fce979.jpg (deflated 13%)\n",
            "updating: content/Detecting-Vehicles-on-Aerial-Images-8/train/images/city-3-8_jpg.rf.c89502f9c39fd4f152fb61fdea587d29.jpg (deflated 0%)\n",
            "updating: content/Detecting-Vehicles-on-Aerial-Images-8/train/images/city-3-13_jpg.rf.356ad842919d4eff712c11de7e5a1e0d.jpg (deflated 1%)\n",
            "updating: content/Detecting-Vehicles-on-Aerial-Images-8/train/images/city-3-19_jpg.rf.0dac7345601f31757a10def69fa03fbe.jpg (deflated 0%)\n",
            "updating: content/Detecting-Vehicles-on-Aerial-Images-8/train/images/city-3-3_jpg.rf.3a32d4510562df9c94397c6dc3852eb2.jpg (deflated 1%)\n",
            "updating: content/Detecting-Vehicles-on-Aerial-Images-8/train/images/city-4-24_jpg.rf.5a8c4f6319d30b6d1b3c9133c5968855.jpg (deflated 1%)\n",
            "updating: content/Detecting-Vehicles-on-Aerial-Images-8/train/images/city-3-3_jpg.rf.0e969a4b2e5f7c75dfa978c4e2c65dcc.jpg (deflated 1%)\n",
            "updating: content/Detecting-Vehicles-on-Aerial-Images-8/train/images/city-3-8_jpg.rf.6deee46722da973dc7896b77c6f26de2.jpg (deflated 1%)\n",
            "updating: content/Detecting-Vehicles-on-Aerial-Images-8/train/images/city-3-22_jpg.rf.e343e4bb869f7527c3fd61d4a33ae053.jpg (deflated 0%)\n",
            "updating: content/Detecting-Vehicles-on-Aerial-Images-8/train/images/city-3-23_jpg.rf.be94ade2ad70abf5473614f56f8c7810.jpg (deflated 0%)\n",
            "updating: content/Detecting-Vehicles-on-Aerial-Images-8/train/images/city-3-22_jpg.rf.060ada5e9c604d21165726ebec9261e2.jpg (deflated 0%)\n",
            "updating: content/Detecting-Vehicles-on-Aerial-Images-8/train/images/city-3-7_jpg.rf.726a859bab9d64c856ed77d3f9b03c8c.jpg (deflated 0%)\n",
            "updating: content/Detecting-Vehicles-on-Aerial-Images-8/train/images/city-3-1_jpg.rf.b7ab83dea13132bf2868c9484fc9406f.jpg (deflated 1%)\n",
            "updating: content/Detecting-Vehicles-on-Aerial-Images-8/train/images/city-3-19_jpg.rf.fd020de219ee39e1388c53692825ba6b.jpg (deflated 0%)\n",
            "updating: content/Detecting-Vehicles-on-Aerial-Images-8/train/images/city-3-17_jpg.rf.a44633d2c986e40c5b457675d1a00532.jpg (deflated 0%)\n",
            "updating: content/Detecting-Vehicles-on-Aerial-Images-8/train/images/city-3-13_jpg.rf.5ab5d81067bdd10fc8471510729f09d7.jpg (deflated 1%)\n",
            "updating: content/Detecting-Vehicles-on-Aerial-Images-8/train/images/city-3-8_jpg.rf.5b22e02cdd1082d5e03cc51843d5403e.jpg (deflated 0%)\n",
            "updating: content/Detecting-Vehicles-on-Aerial-Images-8/train/images/city-4-19_jpg.rf.6e810a87ec62ad3dcbc19b8fe460c550.jpg (deflated 1%)\n",
            "updating: content/Detecting-Vehicles-on-Aerial-Images-8/train/images/city-3-22_jpg.rf.e1c85f48195e870da64b3bb392c6fa7c.jpg (deflated 0%)\n",
            "updating: content/Detecting-Vehicles-on-Aerial-Images-8/train/images/city-3-1_jpg.rf.466b70ee910104b0faa75bbbcb5a7792.jpg (deflated 1%)\n",
            "updating: content/Detecting-Vehicles-on-Aerial-Images-8/train/images/city-3-23_jpg.rf.cff89979d270199de928c0f5772973c1.jpg (deflated 0%)\n",
            "updating: content/Detecting-Vehicles-on-Aerial-Images-8/train/images/city-4-24_jpg.rf.49462b932228b541adabf6568a571caf.jpg (deflated 1%)\n",
            "updating: content/Detecting-Vehicles-on-Aerial-Images-8/train/images/city-3-2_jpg.rf.d2f3252e8683544834c760aaac0ad3f3.jpg (deflated 0%)\n",
            "updating: content/Detecting-Vehicles-on-Aerial-Images-8/train/images/city-3-2_jpg.rf.2118bef570fd1a704a1d30b53ee5c6ad.jpg (deflated 1%)\n",
            "updating: content/Detecting-Vehicles-on-Aerial-Images-8/train/images/city-3-15_jpg.rf.8bad3ce901c762c616923fd3bcbc8917.jpg (deflated 1%)\n",
            "updating: content/Detecting-Vehicles-on-Aerial-Images-8/train/images/city-3-8_jpg.rf.2a19d137f6536d536bd1539c36fa5104.jpg (deflated 0%)\n",
            "updating: content/Detecting-Vehicles-on-Aerial-Images-8/train/images/city-3-12_jpg.rf.14e2856bbe80cb55ec78e578246af5b4.jpg (deflated 1%)\n",
            "updating: content/Detecting-Vehicles-on-Aerial-Images-8/train/images/city-3-12_jpg.rf.f0eb865e35fd942de48e491f339aa5cb.jpg (deflated 0%)\n",
            "updating: content/Detecting-Vehicles-on-Aerial-Images-8/train/images/city-3-17_jpg.rf.667fa7ec90dc8a77188989ea96feb246.jpg (deflated 1%)\n",
            "updating: content/Detecting-Vehicles-on-Aerial-Images-8/train/images/city-3-12_jpg.rf.d9e6138af0d01326ed564983a4365477.jpg (deflated 0%)\n",
            "updating: content/Detecting-Vehicles-on-Aerial-Images-8/train/images/city-4-19_jpg.rf.643112909b111215cff4b17eb48cc81a.jpg (deflated 1%)\n",
            "updating: content/Detecting-Vehicles-on-Aerial-Images-8/train/images/city-3-8_jpg.rf.03e29af110af0d784d83748c6f6d7f49.jpg (deflated 0%)\n",
            "updating: content/Detecting-Vehicles-on-Aerial-Images-8/train/images/city-3-1_jpg.rf.6b320ac8cb523415a9217355c2fd0d74.jpg (deflated 1%)\n",
            "updating: content/Detecting-Vehicles-on-Aerial-Images-8/train/images/city-3-19_jpg.rf.308d1ad5de80008f3ddf7b9f7a3c92f5.jpg (deflated 0%)\n",
            "updating: content/Detecting-Vehicles-on-Aerial-Images-8/train/images/city-3-15_jpg.rf.8e26ca62959b7e0996b135a9f34ae3e5.jpg (deflated 1%)\n",
            "updating: content/Detecting-Vehicles-on-Aerial-Images-8/train/images/city-3-17_jpg.rf.c31a12d2a26ac5d6c3193a2649496057.jpg (deflated 0%)\n",
            "updating: content/Detecting-Vehicles-on-Aerial-Images-8/train/images/city-3-22_jpg.rf.22eb3295508ccf2551508c656db4074f.jpg (deflated 0%)\n",
            "updating: content/Detecting-Vehicles-on-Aerial-Images-8/train/images/city-3-15_jpg.rf.4b75b40bd5ae280c61f47514c3d4353a.jpg (deflated 1%)\n",
            "updating: content/Detecting-Vehicles-on-Aerial-Images-8/train/images/city-3-1_jpg.rf.5754446ce39b9f0da96958b6036c9527.jpg (deflated 0%)\n",
            "updating: content/Detecting-Vehicles-on-Aerial-Images-8/train/images/city-4-27_jpg.rf.6fe2e73f2a2d7e96396d39cc7eb3e1f8.jpg (deflated 2%)\n",
            "updating: content/Detecting-Vehicles-on-Aerial-Images-8/train/images/city-3-7_jpg.rf.db77b6f9cfe22f43b8915989cd553bbd.jpg (deflated 0%)\n",
            "updating: content/Detecting-Vehicles-on-Aerial-Images-8/train/images/city-3-1_jpg.rf.f54b033b268dbf4465b07e12f9c364a0.jpg (deflated 0%)\n",
            "updating: content/Detecting-Vehicles-on-Aerial-Images-8/train/images/city-3-21_jpg.rf.3663ebdaa1cf2668e36483a18b219dfd.jpg (deflated 1%)\n",
            "updating: content/Detecting-Vehicles-on-Aerial-Images-8/train/images/city-4-27_jpg.rf.7c61385ae599479323815fdae457d125.jpg (deflated 0%)\n",
            "updating: content/Detecting-Vehicles-on-Aerial-Images-8/train/images/city-3-13_jpg.rf.5a0e6855f7184e27a2c8417150e261f1.jpg (deflated 0%)\n",
            "updating: content/Detecting-Vehicles-on-Aerial-Images-8/train/images/city-3-2_jpg.rf.4f0dab6302e72e516861b74d343f39e9.jpg (deflated 1%)\n",
            "updating: content/Detecting-Vehicles-on-Aerial-Images-8/train/images/city-3-23_jpg.rf.7a0b39947f0b1465a110c338ac0437b9.jpg (deflated 0%)\n",
            "updating: content/Detecting-Vehicles-on-Aerial-Images-8/train/images/city-4-24_jpg.rf.2044d1f2b994abb94fe597044b134dc7.jpg (deflated 1%)\n",
            "updating: content/Detecting-Vehicles-on-Aerial-Images-8/train/images/city-3-3_jpg.rf.66fdfabe3165912cade8e45527ddb5ce.jpg (deflated 1%)\n",
            "updating: content/Detecting-Vehicles-on-Aerial-Images-8/train/images/city-3-22_jpg.rf.f8354e2f0b7dc55c29c21fe1e5605af6.jpg (deflated 0%)\n",
            "updating: content/Detecting-Vehicles-on-Aerial-Images-8/train/images/city-4-1_jpg.rf.507c17150a488b6348b25a3d42260288.jpg (deflated 1%)\n",
            "updating: content/Detecting-Vehicles-on-Aerial-Images-8/train/images/city-3-7_jpg.rf.1d973f13c924e63561f2697c0ca8dc90.jpg (deflated 1%)\n",
            "updating: content/Detecting-Vehicles-on-Aerial-Images-8/train/images/city-4-27_jpg.rf.d8cd4b64b5dee315a70cad19c586f5ea.jpg (deflated 12%)\n",
            "updating: content/Detecting-Vehicles-on-Aerial-Images-8/train/images/city-3-15_jpg.rf.dc6dbfd47323cc8df6c1b40526efd0ab.jpg (deflated 1%)\n",
            "updating: content/Detecting-Vehicles-on-Aerial-Images-8/train/images/city-3-17_jpg.rf.6c87fb8a54faaa3b11197bed05466a62.jpg (deflated 0%)\n",
            "updating: content/Detecting-Vehicles-on-Aerial-Images-8/train/images/city-4-24_jpg.rf.73e0b58adf98f0133d864cc875b1facd.jpg (deflated 0%)\n",
            "updating: content/Detecting-Vehicles-on-Aerial-Images-8/train/images/city-3-8_jpg.rf.ef8fc694a54f82ee4050d4a3df9a2d44.jpg (deflated 0%)\n",
            "updating: content/Detecting-Vehicles-on-Aerial-Images-8/train/images/city-4-19_jpg.rf.a52f7b55364b80872266ec420bb190b0.jpg (deflated 1%)\n",
            "updating: content/Detecting-Vehicles-on-Aerial-Images-8/train/images/city-3-12_jpg.rf.2e63297c5a8264dce741bf0fc4838d6b.jpg (deflated 0%)\n",
            "updating: content/Detecting-Vehicles-on-Aerial-Images-8/train/images/city-3-12_jpg.rf.0875ef09d9953e4b57d49fddeea3a3ba.jpg (deflated 1%)\n",
            "updating: content/Detecting-Vehicles-on-Aerial-Images-8/train/images/city-3-8_jpg.rf.40c2323169ac76cb05d04ad3d2a22423.jpg (deflated 1%)\n",
            "updating: content/Detecting-Vehicles-on-Aerial-Images-8/train/images/city-3-13_jpg.rf.7a858eec8f0e90cbd5a7750555078be5.jpg (deflated 1%)\n",
            "updating: content/Detecting-Vehicles-on-Aerial-Images-8/train/images/city-4-27_jpg.rf.6a48eaea9dc68667ce71946a661a816d.jpg (deflated 1%)\n",
            "updating: content/Detecting-Vehicles-on-Aerial-Images-8/train/images/city-3-23_jpg.rf.bd06485afd50b0dfc4ea24759bec0849.jpg (deflated 0%)\n",
            "updating: content/Detecting-Vehicles-on-Aerial-Images-8/train/images/city-3-1_jpg.rf.1db32b3ebd98f6043a6d752ec723d2ba.jpg (deflated 0%)\n",
            "updating: content/Detecting-Vehicles-on-Aerial-Images-8/train/images/city-3-21_jpg.rf.31829a46cf78ff85f712b655da48edd1.jpg (deflated 0%)\n",
            "updating: content/Detecting-Vehicles-on-Aerial-Images-8/train/images/city-3-3_jpg.rf.b64b73bd04bd9a2a913d85089836397c.jpg (deflated 1%)\n",
            "updating: content/Detecting-Vehicles-on-Aerial-Images-8/train/images/city-3-13_jpg.rf.ae8919e0f48ac77f7419dbc0e1375f7b.jpg (deflated 1%)\n",
            "updating: content/Detecting-Vehicles-on-Aerial-Images-8/train/images/city-3-3_jpg.rf.e99f450adce40d9930796d8a43efc6a7.jpg (deflated 0%)\n",
            "updating: content/Detecting-Vehicles-on-Aerial-Images-8/train/images/city-3-19_jpg.rf.3687243245814605563c53e47b6c2c5b.jpg (deflated 0%)\n",
            "updating: content/Detecting-Vehicles-on-Aerial-Images-8/train/images/city-3-23_jpg.rf.ecb0f1950c78e08a62f4419485bcd8af.jpg (deflated 0%)\n",
            "updating: content/Detecting-Vehicles-on-Aerial-Images-8/train/images/city-4-1_jpg.rf.7836c0b29b1d914cae8c1dbcd1e9179e.jpg (deflated 1%)\n",
            "updating: content/Detecting-Vehicles-on-Aerial-Images-8/train/images/city-3-22_jpg.rf.cedb92f14e1280f9e2bada77cb1affda.jpg (deflated 0%)\n",
            "updating: content/Detecting-Vehicles-on-Aerial-Images-8/train/images/city-3-1_jpg.rf.ca7985355a08e9c5b42909621d23f7c3.jpg (deflated 0%)\n",
            "updating: content/Detecting-Vehicles-on-Aerial-Images-8/train/images/city-4-19_jpg.rf.212dde719e3fa6d96b7f5dfe1479f059.jpg (deflated 2%)\n",
            "updating: content/Detecting-Vehicles-on-Aerial-Images-8/train/images/city-3-2_jpg.rf.cd0fc1f905a8fd48705e26b759ddf1cb.jpg (deflated 0%)\n",
            "updating: content/Detecting-Vehicles-on-Aerial-Images-8/train/images/city-4-24_jpg.rf.774d849ead6533f3bd91c5c338ba4ce3.jpg (deflated 0%)\n",
            "updating: content/Detecting-Vehicles-on-Aerial-Images-8/train/images/city-3-2_jpg.rf.07f5b6180b836b7a8ad6625ce466b6b6.jpg (deflated 0%)\n",
            "updating: content/Detecting-Vehicles-on-Aerial-Images-8/train/images/city-3-1_jpg.rf.5cf7f9d15816ef3cb22bffbb2c846e22.jpg (deflated 0%)\n",
            "updating: content/Detecting-Vehicles-on-Aerial-Images-8/train/images/city-4-27_jpg.rf.a0b368c56d7a4aebffcbf0b9ffcfb3ea.jpg (deflated 0%)\n",
            "updating: content/Detecting-Vehicles-on-Aerial-Images-8/train/images/city-3-8_jpg.rf.9e790738bbef1ef533b21696f9609c25.jpg (deflated 0%)\n",
            "updating: content/Detecting-Vehicles-on-Aerial-Images-8/train/images/city-3-19_jpg.rf.9a5a8c329f1927841b073aa07fb25fad.jpg (deflated 1%)\n",
            "updating: content/Detecting-Vehicles-on-Aerial-Images-8/train/images/city-3-19_jpg.rf.3872cd9c9c56bd20f08d0f568728d8c2.jpg (deflated 1%)\n",
            "updating: content/Detecting-Vehicles-on-Aerial-Images-8/train/images/city-3-13_jpg.rf.fb9efa7b790bb420c8111131d2989985.jpg (deflated 0%)\n",
            "updating: content/Detecting-Vehicles-on-Aerial-Images-8/train/images/city-3-3_jpg.rf.bf8720f1ea28d9bd1559db7733ac35a3.jpg (deflated 0%)\n",
            "updating: content/Detecting-Vehicles-on-Aerial-Images-8/train/images/city-3-2_jpg.rf.92c42637eb6e85e8e324fb38839b6fbd.jpg (deflated 1%)\n",
            "updating: content/Detecting-Vehicles-on-Aerial-Images-8/train/images/city-3-21_jpg.rf.ac20f892cd7f965b9342486c742270cf.jpg (deflated 0%)\n",
            "updating: content/Detecting-Vehicles-on-Aerial-Images-8/train/images/city-3-17_jpg.rf.8adc6c4398144e956d8d0eee7f42a24d.jpg (deflated 0%)\n",
            "updating: content/Detecting-Vehicles-on-Aerial-Images-8/train/images/city-3-7_jpg.rf.e3a5e67af30ab505e6da8f496f669022.jpg (deflated 1%)\n",
            "updating: content/Detecting-Vehicles-on-Aerial-Images-8/train/images/city-4-1_jpg.rf.f44c84f1350400b78254680cc20d7003.jpg (deflated 1%)\n",
            "updating: content/Detecting-Vehicles-on-Aerial-Images-8/train/images/city-3-21_jpg.rf.4d997955c5814219b56433e21f493476.jpg (deflated 0%)\n",
            "updating: content/Detecting-Vehicles-on-Aerial-Images-8/train/images/city-3-12_jpg.rf.0e149cf5b2a116f399dd4484ed01021b.jpg (deflated 0%)\n",
            "updating: content/Detecting-Vehicles-on-Aerial-Images-8/train/images/city-4-27_jpg.rf.a5f881e7b892759180b6f9b9acd0bf75.jpg (deflated 3%)\n",
            "updating: content/Detecting-Vehicles-on-Aerial-Images-8/train/images/city-3-23_jpg.rf.73a2e69a8a3117837b19e0e05236ac63.jpg (deflated 0%)\n",
            "updating: content/Detecting-Vehicles-on-Aerial-Images-8/train/images/city-3-3_jpg.rf.4aa2d4aee2d780c8dd68af2b49fb8edc.jpg (deflated 0%)\n",
            "updating: content/Detecting-Vehicles-on-Aerial-Images-8/train/images/city-3-1_jpg.rf.926dea425635c4d860bf73da0b9e7bc7.jpg (deflated 1%)\n",
            "updating: content/Detecting-Vehicles-on-Aerial-Images-8/train/images/city-3-13_jpg.rf.ee908c9ce3e155196222ab8334909f7e.jpg (deflated 1%)\n",
            "updating: content/Detecting-Vehicles-on-Aerial-Images-8/train/images/city-3-19_jpg.rf.615257ff60d52c167476a42d3d3d89fc.jpg (deflated 1%)\n",
            "updating: content/Detecting-Vehicles-on-Aerial-Images-8/train/images/city-3-7_jpg.rf.aee90aa0dfde735c364be3451c037a7c.jpg (deflated 1%)\n",
            "updating: content/Detecting-Vehicles-on-Aerial-Images-8/train/images/city-4-19_jpg.rf.080b9acba8263bc46bfcb9680bc5478a.jpg (deflated 1%)\n",
            "updating: content/Detecting-Vehicles-on-Aerial-Images-8/train/images/city-3-7_jpg.rf.f5db63d13fee944d0f66cf86226c7890.jpg (deflated 0%)\n",
            "updating: content/Detecting-Vehicles-on-Aerial-Images-8/train/labels/ (stored 0%)\n",
            "updating: content/Detecting-Vehicles-on-Aerial-Images-8/train/labels/city-4-1_jpg.rf.859b29d010fbcfd0bb6916a0f7bc2e12.txt (deflated 72%)\n",
            "updating: content/Detecting-Vehicles-on-Aerial-Images-8/train/labels/city-3-17_jpg.rf.665b66dc8b0a505d9f56beea841273a1.txt (deflated 69%)\n",
            "updating: content/Detecting-Vehicles-on-Aerial-Images-8/train/labels/city-3-23_jpg.rf.91ea7705624366874c3bb4e2688b2763.txt (deflated 68%)\n",
            "updating: content/Detecting-Vehicles-on-Aerial-Images-8/train/labels/city-3-13_jpg.rf.ee908c9ce3e155196222ab8334909f7e.txt (deflated 67%)\n",
            "updating: content/Detecting-Vehicles-on-Aerial-Images-8/train/labels/city-3-8_jpg.rf.c89502f9c39fd4f152fb61fdea587d29.txt (deflated 71%)\n",
            "updating: content/Detecting-Vehicles-on-Aerial-Images-8/train/labels/city-4-19_jpg.rf.212dde719e3fa6d96b7f5dfe1479f059.txt (deflated 71%)\n",
            "updating: content/Detecting-Vehicles-on-Aerial-Images-8/train/labels/city-3-19_jpg.rf.1c558cf680ced6335fcd6dbaa71d9d23.txt (deflated 66%)\n",
            "updating: content/Detecting-Vehicles-on-Aerial-Images-8/train/labels/city-3-13_jpg.rf.2b13fbbff7c5f5a6a6febd7e9d3648f7.txt (deflated 68%)\n",
            "updating: content/Detecting-Vehicles-on-Aerial-Images-8/train/labels/city-3-7_jpg.rf.8535e993f44b1bf7432fb1715a38b9c9.txt (deflated 69%)\n",
            "updating: content/Detecting-Vehicles-on-Aerial-Images-8/train/labels/city-3-19_jpg.rf.0dac7345601f31757a10def69fa03fbe.txt (deflated 69%)\n",
            "updating: content/Detecting-Vehicles-on-Aerial-Images-8/train/labels/city-3-23_jpg.rf.be94ade2ad70abf5473614f56f8c7810.txt (deflated 68%)\n",
            "updating: content/Detecting-Vehicles-on-Aerial-Images-8/train/labels/city-4-27_jpg.rf.a0b368c56d7a4aebffcbf0b9ffcfb3ea.txt (deflated 78%)\n",
            "updating: content/Detecting-Vehicles-on-Aerial-Images-8/train/labels/city-3-22_jpg.rf.e343e4bb869f7527c3fd61d4a33ae053.txt (deflated 67%)\n",
            "updating: content/Detecting-Vehicles-on-Aerial-Images-8/train/labels/city-3-7_jpg.rf.5ed75e8f6c6bfd176fc572c963cd2d86.txt (deflated 62%)\n",
            "updating: content/Detecting-Vehicles-on-Aerial-Images-8/train/labels/city-4-24_jpg.rf.73e0b58adf98f0133d864cc875b1facd.txt (deflated 76%)\n",
            "updating: content/Detecting-Vehicles-on-Aerial-Images-8/train/labels/city-3-21_jpg.rf.b3b8fc71efe72ea86e52c29654e6eee8.txt (deflated 67%)\n",
            "updating: content/Detecting-Vehicles-on-Aerial-Images-8/train/labels/city-4-24_jpg.rf.8cf1bf3f541c7c11d55e7b7daca33e32.txt (deflated 76%)\n",
            "updating: content/Detecting-Vehicles-on-Aerial-Images-8/train/labels/city-4-1_jpg.rf.1de71a5e7c9784fcd3728c28582e33ae.txt (deflated 72%)\n",
            "updating: content/Detecting-Vehicles-on-Aerial-Images-8/train/labels/city-3-19_jpg.rf.308d1ad5de80008f3ddf7b9f7a3c92f5.txt (deflated 68%)\n",
            "updating: content/Detecting-Vehicles-on-Aerial-Images-8/train/labels/city-3-8_jpg.rf.ef8fc694a54f82ee4050d4a3df9a2d44.txt (deflated 69%)\n",
            "updating: content/Detecting-Vehicles-on-Aerial-Images-8/train/labels/city-4-19_jpg.rf.a11b32f80a9445a9dc9ddedc5db7ffca.txt (deflated 70%)\n",
            "updating: content/Detecting-Vehicles-on-Aerial-Images-8/train/labels/city-3-15_jpg.rf.349ce12c1d6ddfedf8936bc96dea8554.txt (deflated 66%)\n",
            "updating: content/Detecting-Vehicles-on-Aerial-Images-8/train/labels/city-3-12_jpg.rf.f25f2d46a128ac878b9f31441d3040e7.txt (deflated 64%)\n",
            "updating: content/Detecting-Vehicles-on-Aerial-Images-8/train/labels/city-3-1_jpg.rf.f54b033b268dbf4465b07e12f9c364a0.txt (deflated 74%)\n",
            "updating: content/Detecting-Vehicles-on-Aerial-Images-8/train/labels/city-4-19_jpg.rf.6e810a87ec62ad3dcbc19b8fe460c550.txt (deflated 76%)\n",
            "updating: content/Detecting-Vehicles-on-Aerial-Images-8/train/labels/city-3-21_jpg.rf.ac20f892cd7f965b9342486c742270cf.txt (deflated 67%)\n",
            "updating: content/Detecting-Vehicles-on-Aerial-Images-8/train/labels/city-3-7_jpg.rf.e3a5e67af30ab505e6da8f496f669022.txt (deflated 66%)\n",
            "updating: content/Detecting-Vehicles-on-Aerial-Images-8/train/labels/city-3-3_jpg.rf.8cd75231322a312ad5b1f5877d0ad395.txt (deflated 72%)\n",
            "updating: content/Detecting-Vehicles-on-Aerial-Images-8/train/labels/city-3-2_jpg.rf.e9e1e0311bffa1d27e35a3838c5f93ad.txt (deflated 68%)\n",
            "updating: content/Detecting-Vehicles-on-Aerial-Images-8/train/labels/city-4-19_jpg.rf.a52f7b55364b80872266ec420bb190b0.txt (deflated 77%)\n",
            "updating: content/Detecting-Vehicles-on-Aerial-Images-8/train/labels/city-3-19_jpg.rf.9a5a8c329f1927841b073aa07fb25fad.txt (deflated 67%)\n",
            "updating: content/Detecting-Vehicles-on-Aerial-Images-8/train/labels/city-3-13_jpg.rf.356ad842919d4eff712c11de7e5a1e0d.txt (deflated 69%)\n",
            "updating: content/Detecting-Vehicles-on-Aerial-Images-8/train/labels/city-3-12_jpg.rf.37a039e5f96d3b1542c86314934021e6.txt (deflated 68%)\n",
            "updating: content/Detecting-Vehicles-on-Aerial-Images-8/train/labels/city-3-2_jpg.rf.750b6f497c1be30a0b52009ce0364eb9.txt (deflated 59%)\n",
            "updating: content/Detecting-Vehicles-on-Aerial-Images-8/train/labels/city-3-1_jpg.rf.b7ab83dea13132bf2868c9484fc9406f.txt (deflated 69%)\n",
            "updating: content/Detecting-Vehicles-on-Aerial-Images-8/train/labels/city-3-12_jpg.rf.5d2043c91b895ba40b65684345a7cad2.txt (deflated 72%)\n",
            "updating: content/Detecting-Vehicles-on-Aerial-Images-8/train/labels/city-3-3_jpg.rf.9dac0b93b48dfce4350200d605b0e73a.txt (deflated 73%)\n",
            "updating: content/Detecting-Vehicles-on-Aerial-Images-8/train/labels/city-3-22_jpg.rf.22eb3295508ccf2551508c656db4074f.txt (deflated 66%)\n",
            "updating: content/Detecting-Vehicles-on-Aerial-Images-8/train/labels/city-3-17_jpg.rf.8db47628a1fbcfb44722980c670618c9.txt (deflated 65%)\n",
            "updating: content/Detecting-Vehicles-on-Aerial-Images-8/train/labels/city-4-24_jpg.rf.774d849ead6533f3bd91c5c338ba4ce3.txt (deflated 78%)\n",
            "updating: content/Detecting-Vehicles-on-Aerial-Images-8/train/labels/city-3-1_jpg.rf.98a7954eab47c1de73f500a7afb36e4f.txt (deflated 60%)\n",
            "updating: content/Detecting-Vehicles-on-Aerial-Images-8/train/labels/city-3-12_jpg.rf.2e63297c5a8264dce741bf0fc4838d6b.txt (deflated 70%)\n",
            "updating: content/Detecting-Vehicles-on-Aerial-Images-8/train/labels/city-3-12_jpg.rf.0e149cf5b2a116f399dd4484ed01021b.txt (deflated 72%)\n",
            "updating: content/Detecting-Vehicles-on-Aerial-Images-8/train/labels/city-4-24_jpg.rf.8e13bb8ffad5627b13517d1e1b4ce668.txt (deflated 76%)\n",
            "updating: content/Detecting-Vehicles-on-Aerial-Images-8/train/labels/city-3-21_jpg.rf.83406d1adb9959f8f98a572b6dd6e09c.txt (deflated 66%)\n",
            "updating: content/Detecting-Vehicles-on-Aerial-Images-8/train/labels/city-4-1_jpg.rf.59d32b7be3a5d0809b9fbee76c7a1a79.txt (deflated 72%)\n",
            "updating: content/Detecting-Vehicles-on-Aerial-Images-8/train/labels/city-3-12_jpg.rf.d9e6138af0d01326ed564983a4365477.txt (deflated 69%)\n",
            "updating: content/Detecting-Vehicles-on-Aerial-Images-8/train/labels/city-3-15_jpg.rf.93d980cd33fd36ced2a137a839c32086.txt (deflated 64%)\n",
            "updating: content/Detecting-Vehicles-on-Aerial-Images-8/train/labels/city-3-7_jpg.rf.e2bb6e58d9849b53d22792d3f4d6517f.txt (deflated 66%)\n",
            "updating: content/Detecting-Vehicles-on-Aerial-Images-8/train/labels/city-4-27_jpg.rf.6fe2e73f2a2d7e96396d39cc7eb3e1f8.txt (deflated 71%)\n",
            "updating: content/Detecting-Vehicles-on-Aerial-Images-8/train/labels/city-3-21_jpg.rf.abc0e1e573675c8c0675ce5066acba8a.txt (deflated 72%)\n",
            "updating: content/Detecting-Vehicles-on-Aerial-Images-8/train/labels/city-3-22_jpg.rf.3a24553e15685090b7300c42ca85cc4d.txt (deflated 66%)\n",
            "updating: content/Detecting-Vehicles-on-Aerial-Images-8/train/labels/city-3-23_jpg.rf.4549125d3f9d9d1f2f73f660ecdb0f09.txt (deflated 66%)\n",
            "updating: content/Detecting-Vehicles-on-Aerial-Images-8/train/labels/city-3-17_jpg.rf.6c87fb8a54faaa3b11197bed05466a62.txt (deflated 72%)\n",
            "updating: content/Detecting-Vehicles-on-Aerial-Images-8/train/labels/city-3-2_jpg.rf.3822f76fa27a7a1646d1145431a4adac.txt (deflated 72%)\n",
            "updating: content/Detecting-Vehicles-on-Aerial-Images-8/train/labels/city-3-3_jpg.rf.3c3a0c3b2dcace66ebc51bade4438145.txt (deflated 69%)\n",
            "updating: content/Detecting-Vehicles-on-Aerial-Images-8/train/labels/city-3-23_jpg.rf.cff89979d270199de928c0f5772973c1.txt (deflated 68%)\n",
            "updating: content/Detecting-Vehicles-on-Aerial-Images-8/train/labels/city-4-19_jpg.rf.080b9acba8263bc46bfcb9680bc5478a.txt (deflated 79%)\n",
            "updating: content/Detecting-Vehicles-on-Aerial-Images-8/train/labels/city-3-3_jpg.rf.bf8720f1ea28d9bd1559db7733ac35a3.txt (deflated 68%)\n",
            "updating: content/Detecting-Vehicles-on-Aerial-Images-8/train/labels/city-4-19_jpg.rf.68ac1dc450e343b9384cd0e3251b73a5.txt (deflated 77%)\n",
            "updating: content/Detecting-Vehicles-on-Aerial-Images-8/train/labels/city-3-1_jpg.rf.1db32b3ebd98f6043a6d752ec723d2ba.txt (deflated 70%)\n",
            "updating: content/Detecting-Vehicles-on-Aerial-Images-8/train/labels/city-3-19_jpg.rf.615257ff60d52c167476a42d3d3d89fc.txt (deflated 67%)\n",
            "updating: content/Detecting-Vehicles-on-Aerial-Images-8/train/labels/city-3-3_jpg.rf.0e969a4b2e5f7c75dfa978c4e2c65dcc.txt (deflated 65%)\n",
            "updating: content/Detecting-Vehicles-on-Aerial-Images-8/train/labels/city-3-13_jpg.rf.5ab5d81067bdd10fc8471510729f09d7.txt (deflated 67%)\n",
            "updating: content/Detecting-Vehicles-on-Aerial-Images-8/train/labels/city-3-7_jpg.rf.3d91b9808c71ed514198361b55205ade.txt (deflated 64%)\n",
            "updating: content/Detecting-Vehicles-on-Aerial-Images-8/train/labels/city-4-1_jpg.rf.fe5f34072caff8825a6bc3347bc75e9d.txt (deflated 73%)\n",
            "updating: content/Detecting-Vehicles-on-Aerial-Images-8/train/labels/city-3-12_jpg.rf.0875ef09d9953e4b57d49fddeea3a3ba.txt (deflated 68%)\n",
            "updating: content/Detecting-Vehicles-on-Aerial-Images-8/train/labels/city-4-27_jpg.rf.78720c267a8ef6033afeebafcca2bc69.txt (deflated 71%)\n",
            "updating: content/Detecting-Vehicles-on-Aerial-Images-8/train/labels/city-3-13_jpg.rf.7a858eec8f0e90cbd5a7750555078be5.txt (deflated 68%)\n",
            "updating: content/Detecting-Vehicles-on-Aerial-Images-8/train/labels/city-4-27_jpg.rf.d8cd4b64b5dee315a70cad19c586f5ea.txt (deflated 71%)\n",
            "updating: content/Detecting-Vehicles-on-Aerial-Images-8/train/labels/city-4-24_jpg.rf.564fc83518b9e8130c9740f79d6840d9.txt (deflated 70%)\n",
            "updating: content/Detecting-Vehicles-on-Aerial-Images-8/train/labels/city-3-19_jpg.rf.3687243245814605563c53e47b6c2c5b.txt (deflated 64%)\n",
            "updating: content/Detecting-Vehicles-on-Aerial-Images-8/train/labels/city-4-27_jpg.rf.6a48eaea9dc68667ce71946a661a816d.txt (deflated 76%)\n",
            "updating: content/Detecting-Vehicles-on-Aerial-Images-8/train/labels/city-4-19_jpg.rf.78b61c87fd9e673bd52e2a96881627bc.txt (deflated 76%)\n",
            "updating: content/Detecting-Vehicles-on-Aerial-Images-8/train/labels/city-3-19_jpg.rf.b3a3adbd67af01a6345d8afea41bf5be.txt (deflated 72%)\n",
            "updating: content/Detecting-Vehicles-on-Aerial-Images-8/train/labels/city-3-15_jpg.rf.ffe1d45af31933afd02f470297bafb94.txt (deflated 72%)\n",
            "updating: content/Detecting-Vehicles-on-Aerial-Images-8/train/labels/city-4-1_jpg.rf.69d04347b2e819d80fb380b29f9f7bd2.txt (deflated 78%)\n",
            "updating: content/Detecting-Vehicles-on-Aerial-Images-8/train/labels/city-3-8_jpg.rf.40c2323169ac76cb05d04ad3d2a22423.txt (deflated 72%)\n",
            "updating: content/Detecting-Vehicles-on-Aerial-Images-8/train/labels/city-3-22_jpg.rf.e1c85f48195e870da64b3bb392c6fa7c.txt (deflated 64%)\n",
            "updating: content/Detecting-Vehicles-on-Aerial-Images-8/train/labels/city-4-19_jpg.rf.e98f1a5929e590657b6a4471444a96e2.txt (deflated 75%)\n",
            "updating: content/Detecting-Vehicles-on-Aerial-Images-8/train/labels/city-3-2_jpg.rf.2118bef570fd1a704a1d30b53ee5c6ad.txt (deflated 72%)\n",
            "updating: content/Detecting-Vehicles-on-Aerial-Images-8/train/labels/city-3-8_jpg.rf.286525c8045287f1b73479f1fabe58ac.txt (deflated 66%)\n",
            "updating: content/Detecting-Vehicles-on-Aerial-Images-8/train/labels/city-3-22_jpg.rf.060ada5e9c604d21165726ebec9261e2.txt (deflated 70%)\n",
            "updating: content/Detecting-Vehicles-on-Aerial-Images-8/train/labels/city-3-1_jpg.rf.926dea425635c4d860bf73da0b9e7bc7.txt (deflated 67%)\n",
            "updating: content/Detecting-Vehicles-on-Aerial-Images-8/train/labels/city-4-24_jpg.rf.49462b932228b541adabf6568a571caf.txt (deflated 75%)\n",
            "updating: content/Detecting-Vehicles-on-Aerial-Images-8/train/labels/city-3-1_jpg.rf.03490f22043552f0efac105daf5295c7.txt (deflated 58%)\n",
            "updating: content/Detecting-Vehicles-on-Aerial-Images-8/train/labels/city-3-8_jpg.rf.367d8c4dcf2f7a2da009eb2ca81fd95d.txt (deflated 66%)\n",
            "updating: content/Detecting-Vehicles-on-Aerial-Images-8/train/labels/city-3-17_jpg.rf.667fa7ec90dc8a77188989ea96feb246.txt (deflated 64%)\n",
            "updating: content/Detecting-Vehicles-on-Aerial-Images-8/train/labels/city-3-22_jpg.rf.d56cf9adb0a3bac9d62d6fbbb4811542.txt (deflated 69%)\n",
            "updating: content/Detecting-Vehicles-on-Aerial-Images-8/train/labels/city-3-23_jpg.rf.14d008b40192f72ff1c16cff30cf072d.txt (deflated 69%)\n",
            "updating: content/Detecting-Vehicles-on-Aerial-Images-8/train/labels/city-3-1_jpg.rf.466b70ee910104b0faa75bbbcb5a7792.txt (deflated 70%)\n",
            "updating: content/Detecting-Vehicles-on-Aerial-Images-8/train/labels/city-3-23_jpg.rf.73a2e69a8a3117837b19e0e05236ac63.txt (deflated 72%)\n",
            "updating: content/Detecting-Vehicles-on-Aerial-Images-8/train/labels/city-3-8_jpg.rf.cbe9778ac284c8aef818943dda84f82f.txt (deflated 66%)\n",
            "updating: content/Detecting-Vehicles-on-Aerial-Images-8/train/labels/city-3-21_jpg.rf.4d997955c5814219b56433e21f493476.txt (deflated 73%)\n",
            "updating: content/Detecting-Vehicles-on-Aerial-Images-8/train/labels/city-3-2_jpg.rf.07f5b6180b836b7a8ad6625ce466b6b6.txt (deflated 70%)\n",
            "updating: content/Detecting-Vehicles-on-Aerial-Images-8/train/labels/city-3-1_jpg.rf.111d452792fe6d9ef34e3519f4f87cbb.txt (deflated 70%)\n",
            "updating: content/Detecting-Vehicles-on-Aerial-Images-8/train/labels/city-4-19_jpg.rf.c7b56806fa7ee571d5cd708e3eff05f2.txt (deflated 71%)\n",
            "updating: content/Detecting-Vehicles-on-Aerial-Images-8/train/labels/city-3-13_jpg.rf.cc687fac54efec7988ea59d772e5bfcd.txt (deflated 66%)\n",
            "updating: content/Detecting-Vehicles-on-Aerial-Images-8/train/labels/city-3-19_jpg.rf.fd020de219ee39e1388c53692825ba6b.txt (deflated 72%)\n",
            "updating: content/Detecting-Vehicles-on-Aerial-Images-8/train/labels/city-3-21_jpg.rf.6e6c2a881dac09fdddbdd3ca16807ca4.txt (deflated 66%)\n",
            "updating: content/Detecting-Vehicles-on-Aerial-Images-8/train/labels/city-4-24_jpg.rf.49af299409f6ff70d07bd28e29bd4ee7.txt (deflated 71%)\n",
            "updating: content/Detecting-Vehicles-on-Aerial-Images-8/train/labels/city-4-19_jpg.rf.643112909b111215cff4b17eb48cc81a.txt (deflated 78%)\n",
            "updating: content/Detecting-Vehicles-on-Aerial-Images-8/train/labels/city-3-3_jpg.rf.3a32d4510562df9c94397c6dc3852eb2.txt (deflated 67%)\n",
            "updating: content/Detecting-Vehicles-on-Aerial-Images-8/train/labels/city-3-13_jpg.rf.5a0e6855f7184e27a2c8417150e261f1.txt (deflated 69%)\n",
            "updating: content/Detecting-Vehicles-on-Aerial-Images-8/train/labels/city-3-19_jpg.rf.d329ba0443d1e21f33bbb6dc83607197.txt (deflated 66%)\n",
            "updating: content/Detecting-Vehicles-on-Aerial-Images-8/train/labels/city-3-17_jpg.rf.8adc6c4398144e956d8d0eee7f42a24d.txt (deflated 64%)\n",
            "updating: content/Detecting-Vehicles-on-Aerial-Images-8/train/labels/city-3-3_jpg.rf.b64b73bd04bd9a2a913d85089836397c.txt (deflated 66%)\n",
            "updating: content/Detecting-Vehicles-on-Aerial-Images-8/train/labels/city-3-21_jpg.rf.59146441228aac8a351d6d1a93a4bd30.txt (deflated 66%)\n",
            "updating: content/Detecting-Vehicles-on-Aerial-Images-8/train/labels/city-3-21_jpg.rf.3663ebdaa1cf2668e36483a18b219dfd.txt (deflated 70%)\n",
            "updating: content/Detecting-Vehicles-on-Aerial-Images-8/train/labels/city-3-13_jpg.rf.22b5b3b51c0bcedd40f8eb8bee30b84d.txt (deflated 73%)\n",
            "updating: content/Detecting-Vehicles-on-Aerial-Images-8/train/labels/city-3-3_jpg.rf.1cadc34eb8dc8628cde6f0d9d943bd47.txt (deflated 63%)\n",
            "updating: content/Detecting-Vehicles-on-Aerial-Images-8/train/labels/city-3-7_jpg.rf.db77b6f9cfe22f43b8915989cd553bbd.txt (deflated 69%)\n",
            "updating: content/Detecting-Vehicles-on-Aerial-Images-8/train/labels/city-3-3_jpg.rf.49d83e5a4e9d17ff46320ca1913e8f4c.txt (deflated 67%)\n",
            "updating: content/Detecting-Vehicles-on-Aerial-Images-8/train/labels/city-3-15_jpg.rf.b232291c73b75c7418f7f3a3a02263a8.txt (deflated 67%)\n",
            "updating: content/Detecting-Vehicles-on-Aerial-Images-8/train/labels/city-3-8_jpg.rf.2b8d28476d4d49325f261e52f034eaf6.txt (deflated 66%)\n",
            "updating: content/Detecting-Vehicles-on-Aerial-Images-8/train/labels/city-3-12_jpg.rf.14e2856bbe80cb55ec78e578246af5b4.txt (deflated 62%)\n",
            "updating: content/Detecting-Vehicles-on-Aerial-Images-8/train/labels/city-4-27_jpg.rf.670a019dedb1ffbca3c4cf472445e1ae.txt (deflated 76%)\n",
            "updating: content/Detecting-Vehicles-on-Aerial-Images-8/train/labels/city-4-24_jpg.rf.5a8c4f6319d30b6d1b3c9133c5968855.txt (deflated 75%)\n",
            "updating: content/Detecting-Vehicles-on-Aerial-Images-8/train/labels/city-3-23_jpg.rf.bd06485afd50b0dfc4ea24759bec0849.txt (deflated 74%)\n",
            "updating: content/Detecting-Vehicles-on-Aerial-Images-8/train/labels/city-3-23_jpg.rf.95c27a667ad251221721e728a4962a1e.txt (deflated 69%)\n",
            "updating: content/Detecting-Vehicles-on-Aerial-Images-8/train/labels/city-3-17_jpg.rf.a44633d2c986e40c5b457675d1a00532.txt (deflated 68%)\n",
            "updating: content/Detecting-Vehicles-on-Aerial-Images-8/train/labels/city-3-15_jpg.rf.4b75b40bd5ae280c61f47514c3d4353a.txt (deflated 68%)\n",
            "updating: content/Detecting-Vehicles-on-Aerial-Images-8/train/labels/city-3-23_jpg.rf.ecb0f1950c78e08a62f4419485bcd8af.txt (deflated 64%)\n",
            "updating: content/Detecting-Vehicles-on-Aerial-Images-8/train/labels/city-3-15_jpg.rf.cb9a130d713dbb0b423b9f92e374f423.txt (deflated 69%)\n",
            "updating: content/Detecting-Vehicles-on-Aerial-Images-8/train/labels/city-3-19_jpg.rf.c4328b42ca0255f6396cbe696d2c6907.txt (deflated 67%)\n",
            "updating: content/Detecting-Vehicles-on-Aerial-Images-8/train/labels/city-3-17_jpg.rf.c31a12d2a26ac5d6c3193a2649496057.txt (deflated 66%)\n",
            "updating: content/Detecting-Vehicles-on-Aerial-Images-8/train/labels/city-3-22_jpg.rf.48eff1c54e583907e47aa5468554284b.txt (deflated 64%)\n",
            "updating: content/Detecting-Vehicles-on-Aerial-Images-8/train/labels/city-3-13_jpg.rf.ee6781cc0f3535c9311abce8355caafa.txt (deflated 72%)\n",
            "updating: content/Detecting-Vehicles-on-Aerial-Images-8/train/labels/city-4-1_jpg.rf.77faf69ce4991b310446d181756eaf01.txt (deflated 79%)\n",
            "updating: content/Detecting-Vehicles-on-Aerial-Images-8/train/labels/city-3-7_jpg.rf.6dc8d0af61f29de2279de335403f9889.txt (deflated 72%)\n",
            "updating: content/Detecting-Vehicles-on-Aerial-Images-8/train/labels/city-4-1_jpg.rf.507c17150a488b6348b25a3d42260288.txt (deflated 77%)\n",
            "updating: content/Detecting-Vehicles-on-Aerial-Images-8/train/labels/city-3-15_jpg.rf.56799ca12732d127c82e802c95bde1ea.txt (deflated 70%)\n",
            "updating: content/Detecting-Vehicles-on-Aerial-Images-8/train/labels/city-3-2_jpg.rf.cd0fc1f905a8fd48705e26b759ddf1cb.txt (deflated 69%)\n",
            "updating: content/Detecting-Vehicles-on-Aerial-Images-8/train/labels/city-4-24_jpg.rf.2044d1f2b994abb94fe597044b134dc7.txt (deflated 76%)\n",
            "updating: content/Detecting-Vehicles-on-Aerial-Images-8/train/labels/city-3-8_jpg.rf.03e29af110af0d784d83748c6f6d7f49.txt (deflated 68%)\n",
            "updating: content/Detecting-Vehicles-on-Aerial-Images-8/train/labels/city-3-12_jpg.rf.88fa5ddf07ad693f4cd02183d7f82cec.txt (deflated 73%)\n",
            "updating: content/Detecting-Vehicles-on-Aerial-Images-8/train/labels/city-3-19_jpg.rf.3872cd9c9c56bd20f08d0f568728d8c2.txt (deflated 74%)\n",
            "updating: content/Detecting-Vehicles-on-Aerial-Images-8/train/labels/city-4-24_jpg.rf.324d8543b83fbdf1bcdd23c402fe2f50.txt (deflated 78%)\n",
            "updating: content/Detecting-Vehicles-on-Aerial-Images-8/train/labels/city-3-17_jpg.rf.1aeb6d8fc43dde2c54e57150305bc79f.txt (deflated 73%)\n",
            "updating: content/Detecting-Vehicles-on-Aerial-Images-8/train/labels/city-4-27_jpg.rf.f3bceea1ac6057440af71a7c536357f0.txt (deflated 76%)\n",
            "updating: content/Detecting-Vehicles-on-Aerial-Images-8/train/labels/city-3-1_jpg.rf.5cf7f9d15816ef3cb22bffbb2c846e22.txt (deflated 71%)\n",
            "updating: content/Detecting-Vehicles-on-Aerial-Images-8/train/labels/city-3-3_jpg.rf.e99f450adce40d9930796d8a43efc6a7.txt (deflated 68%)\n",
            "updating: content/Detecting-Vehicles-on-Aerial-Images-8/train/labels/city-3-23_jpg.rf.be4538a41acd1ad0a9584d02a1a78de7.txt (deflated 66%)\n",
            "updating: content/Detecting-Vehicles-on-Aerial-Images-8/train/labels/city-3-13_jpg.rf.fb9efa7b790bb420c8111131d2989985.txt (deflated 74%)\n",
            "updating: content/Detecting-Vehicles-on-Aerial-Images-8/train/labels/city-4-27_jpg.rf.350adc724d8bab423c97c3fde33ab861.txt (deflated 77%)\n",
            "updating: content/Detecting-Vehicles-on-Aerial-Images-8/train/labels/city-4-1_jpg.rf.b612ece8fbd01f5ba4f864d4def6e923.txt (deflated 77%)\n",
            "updating: content/Detecting-Vehicles-on-Aerial-Images-8/train/labels/city-3-19_jpg.rf.bb56e29eb3d46f830dbb64e00a284012.txt (deflated 66%)\n",
            "updating: content/Detecting-Vehicles-on-Aerial-Images-8/train/labels/city-3-2_jpg.rf.4f0dab6302e72e516861b74d343f39e9.txt (deflated 66%)\n",
            "updating: content/Detecting-Vehicles-on-Aerial-Images-8/train/labels/city-3-2_jpg.rf.92c42637eb6e85e8e324fb38839b6fbd.txt (deflated 61%)\n",
            "updating: content/Detecting-Vehicles-on-Aerial-Images-8/train/labels/city-3-8_jpg.rf.5b22e02cdd1082d5e03cc51843d5403e.txt (deflated 75%)\n",
            "updating: content/Detecting-Vehicles-on-Aerial-Images-8/train/labels/city-4-27_jpg.rf.7c61385ae599479323815fdae457d125.txt (deflated 77%)\n",
            "updating: content/Detecting-Vehicles-on-Aerial-Images-8/train/labels/city-3-3_jpg.rf.4aa2d4aee2d780c8dd68af2b49fb8edc.txt (deflated 68%)\n",
            "updating: content/Detecting-Vehicles-on-Aerial-Images-8/train/labels/city-3-22_jpg.rf.6a8e86cfb74ce697d5f76c1e2012b34a.txt (deflated 72%)\n",
            "updating: content/Detecting-Vehicles-on-Aerial-Images-8/train/labels/city-3-21_jpg.rf.31829a46cf78ff85f712b655da48edd1.txt (deflated 68%)\n",
            "updating: content/Detecting-Vehicles-on-Aerial-Images-8/train/labels/city-3-17_jpg.rf.7241fb0d1bf0874ac8c378eb32e6b691.txt (deflated 64%)\n",
            "updating: content/Detecting-Vehicles-on-Aerial-Images-8/train/labels/city-3-12_jpg.rf.347b6f014ff6ba6a2c3e3d9b69e57c96.txt (deflated 66%)\n",
            "updating: content/Detecting-Vehicles-on-Aerial-Images-8/train/labels/city-3-7_jpg.rf.73f4cd2c5f20c84a29b2c52e20fa7413.txt (deflated 65%)\n",
            "updating: content/Detecting-Vehicles-on-Aerial-Images-8/train/labels/city-3-1_jpg.rf.6b320ac8cb523415a9217355c2fd0d74.txt (deflated 61%)\n",
            "updating: content/Detecting-Vehicles-on-Aerial-Images-8/train/labels/city-3-15_jpg.rf.8bad3ce901c762c616923fd3bcbc8917.txt (deflated 65%)\n",
            "updating: content/Detecting-Vehicles-on-Aerial-Images-8/train/labels/city-3-2_jpg.rf.d2f3252e8683544834c760aaac0ad3f3.txt (deflated 70%)\n",
            "updating: content/Detecting-Vehicles-on-Aerial-Images-8/train/labels/city-3-8_jpg.rf.2a19d137f6536d536bd1539c36fa5104.txt (deflated 65%)\n",
            "updating: content/Detecting-Vehicles-on-Aerial-Images-8/train/labels/city-3-2_jpg.rf.4a88074c4858070960fc4f2bf4ef970a.txt (deflated 61%)\n",
            "updating: content/Detecting-Vehicles-on-Aerial-Images-8/train/labels/city-4-24_jpg.rf.405eda28b8e8b07ef2bf900834fce979.txt (deflated 71%)\n",
            "updating: content/Detecting-Vehicles-on-Aerial-Images-8/train/labels/city-4-27_jpg.rf.8aa340202ef1a19b1c393404adc99e8b.txt (deflated 77%)\n",
            "updating: content/Detecting-Vehicles-on-Aerial-Images-8/train/labels/city-3-22_jpg.rf.cedb92f14e1280f9e2bada77cb1affda.txt (deflated 66%)\n",
            "updating: content/Detecting-Vehicles-on-Aerial-Images-8/train/labels/city-3-7_jpg.rf.f5db63d13fee944d0f66cf86226c7890.txt (deflated 66%)\n",
            "updating: content/Detecting-Vehicles-on-Aerial-Images-8/train/labels/city-3-22_jpg.rf.f8354e2f0b7dc55c29c21fe1e5605af6.txt (deflated 71%)\n",
            "updating: content/Detecting-Vehicles-on-Aerial-Images-8/train/labels/city-3-13_jpg.rf.ae8919e0f48ac77f7419dbc0e1375f7b.txt (deflated 65%)\n",
            "updating: content/Detecting-Vehicles-on-Aerial-Images-8/train/labels/city-3-7_jpg.rf.aee90aa0dfde735c364be3451c037a7c.txt (deflated 72%)\n",
            "updating: content/Detecting-Vehicles-on-Aerial-Images-8/train/labels/city-4-27_jpg.rf.eed56cb6a8f9904a061ab3e454a01b3e.txt (deflated 79%)\n",
            "updating: content/Detecting-Vehicles-on-Aerial-Images-8/train/labels/city-3-8_jpg.rf.6deee46722da973dc7896b77c6f26de2.txt (deflated 68%)\n",
            "updating: content/Detecting-Vehicles-on-Aerial-Images-8/train/labels/city-4-24_jpg.rf.2056a174f411cc20a6fec73762c35177.txt (deflated 71%)\n",
            "updating: content/Detecting-Vehicles-on-Aerial-Images-8/train/labels/city-3-13_jpg.rf.f1304d2003067d66569d34acad13f2d6.txt (deflated 67%)\n",
            "updating: content/Detecting-Vehicles-on-Aerial-Images-8/train/labels/city-3-21_jpg.rf.d60420eb4d56f5dd3c6bfb0993718b09.txt (deflated 64%)\n",
            "updating: content/Detecting-Vehicles-on-Aerial-Images-8/train/labels/city-3-17_jpg.rf.6e4bdcd5b1a460fe2d4a245f5dda011e.txt (deflated 68%)\n",
            "updating: content/Detecting-Vehicles-on-Aerial-Images-8/train/labels/city-3-15_jpg.rf.35fd21c1160668aad2171327af882b99.txt (deflated 72%)\n",
            "updating: content/Detecting-Vehicles-on-Aerial-Images-8/train/labels/city-3-15_jpg.rf.8e26ca62959b7e0996b135a9f34ae3e5.txt (deflated 67%)\n",
            "updating: content/Detecting-Vehicles-on-Aerial-Images-8/train/labels/city-3-23_jpg.rf.7e98631526a3c8a58c25bc564237ad3a.txt (deflated 66%)\n",
            "updating: content/Detecting-Vehicles-on-Aerial-Images-8/train/labels/city-3-21_jpg.rf.2aa67b3eacb4b93f4e970255efc55fc5.txt (deflated 66%)\n",
            "updating: content/Detecting-Vehicles-on-Aerial-Images-8/train/labels/city-3-1_jpg.rf.5754446ce39b9f0da96958b6036c9527.txt (deflated 71%)\n",
            "updating: content/Detecting-Vehicles-on-Aerial-Images-8/train/labels/city-3-22_jpg.rf.a448ad4634df0e01e0907ecd69e3e074.txt (deflated 72%)\n",
            "updating: content/Detecting-Vehicles-on-Aerial-Images-8/train/labels/city-3-17_jpg.rf.5a2053f1d48256d36b8ca98fd9c4e684.txt (deflated 65%)\n",
            "updating: content/Detecting-Vehicles-on-Aerial-Images-8/train/labels/city-4-19_jpg.rf.c6661ccf823b246727bb35b6f3f53f82.txt (deflated 72%)\n",
            "updating: content/Detecting-Vehicles-on-Aerial-Images-8/train/labels/city-3-8_jpg.rf.9e790738bbef1ef533b21696f9609c25.txt (deflated 73%)\n",
            "updating: content/Detecting-Vehicles-on-Aerial-Images-8/train/labels/city-3-12_jpg.rf.f0eb865e35fd942de48e491f339aa5cb.txt (deflated 64%)\n",
            "updating: content/Detecting-Vehicles-on-Aerial-Images-8/train/labels/city-3-3_jpg.rf.66fdfabe3165912cade8e45527ddb5ce.txt (deflated 72%)\n",
            "updating: content/Detecting-Vehicles-on-Aerial-Images-8/train/labels/city-3-12_jpg.rf.6484acbe91d1a3924d4e358acd3a6cb3.txt (deflated 66%)\n",
            "updating: content/Detecting-Vehicles-on-Aerial-Images-8/train/labels/city-3-22_jpg.rf.9a2f62cca698c1834a65b8ba300d13b0.txt (deflated 68%)\n",
            "updating: content/Detecting-Vehicles-on-Aerial-Images-8/train/labels/city-3-7_jpg.rf.726a859bab9d64c856ed77d3f9b03c8c.txt (deflated 74%)\n",
            "updating: content/Detecting-Vehicles-on-Aerial-Images-8/train/labels/city-4-1_jpg.rf.f44c84f1350400b78254680cc20d7003.txt (deflated 76%)\n",
            "updating: content/Detecting-Vehicles-on-Aerial-Images-8/train/labels/city-3-15_jpg.rf.e3ec21cf927563beefaff6799d87400b.txt (deflated 72%)\n",
            "updating: content/Detecting-Vehicles-on-Aerial-Images-8/train/labels/city-4-1_jpg.rf.7836c0b29b1d914cae8c1dbcd1e9179e.txt (deflated 76%)\n",
            "updating: content/Detecting-Vehicles-on-Aerial-Images-8/train/labels/city-4-1_jpg.rf.e8b82ab0f0fec55e2e07cc347decfab6.txt (deflated 75%)\n",
            "updating: content/Detecting-Vehicles-on-Aerial-Images-8/train/labels/city-4-27_jpg.rf.a5f881e7b892759180b6f9b9acd0bf75.txt (deflated 72%)\n",
            "updating: content/Detecting-Vehicles-on-Aerial-Images-8/train/labels/city-3-15_jpg.rf.dc6dbfd47323cc8df6c1b40526efd0ab.txt (deflated 67%)\n",
            "updating: content/Detecting-Vehicles-on-Aerial-Images-8/train/labels/city-3-7_jpg.rf.1d973f13c924e63561f2697c0ca8dc90.txt (deflated 68%)\n",
            "updating: content/Detecting-Vehicles-on-Aerial-Images-8/train/labels/city-3-21_jpg.rf.a1df0c67ae62a35ac53e1a171861ef7d.txt (deflated 70%)\n",
            "updating: content/Detecting-Vehicles-on-Aerial-Images-8/train/labels/city-4-19_jpg.rf.aa74b16efe351a80520363be44301b69.txt (deflated 76%)\n",
            "updating: content/Detecting-Vehicles-on-Aerial-Images-8/train/labels/city-3-1_jpg.rf.ca7985355a08e9c5b42909621d23f7c3.txt (deflated 70%)\n",
            "updating: content/Detecting-Vehicles-on-Aerial-Images-8/train/labels/city-3-2_jpg.rf.eb47e59139fd0ffd8e6a283c539f121f.txt (deflated 74%)\n",
            "updating: content/Detecting-Vehicles-on-Aerial-Images-8/train/labels/city-3-2_jpg.rf.78d138b5d518660bd5aaed5652b14fdc.txt (deflated 67%)\n",
            "updating: content/Detecting-Vehicles-on-Aerial-Images-8/train/labels/city-4-1_jpg.rf.ddb30099dfe30438201a270666af3a2b.txt (deflated 77%)\n",
            "updating: content/Detecting-Vehicles-on-Aerial-Images-8/train/labels/city-3-23_jpg.rf.7a0b39947f0b1465a110c338ac0437b9.txt (deflated 72%)\n",
            "updating: content/Detecting-Vehicles-on-Aerial-Images-8/train/labels/city-3-17_jpg.rf.37cb5cc4705711f079c1f5f34b84f7d3.txt (deflated 72%)\n",
            "updating: content/Detecting-Vehicles-on-Aerial-Images-8/train/labels.cache (deflated 60%)\n",
            "updating: content/Detecting-Vehicles-on-Aerial-Images-8/valid/ (stored 0%)\n",
            "updating: content/Detecting-Vehicles-on-Aerial-Images-8/valid/images/ (stored 0%)\n",
            "updating: content/Detecting-Vehicles-on-Aerial-Images-8/valid/images/city-3-9_jpg.rf.ec9c5621a32e57614e5f32be4ff758ce.jpg (deflated 0%)\n",
            "updating: content/Detecting-Vehicles-on-Aerial-Images-8/valid/images/city-4-9_jpg.rf.9e3dda3c43cfb79e278fad85bf953daf.jpg (deflated 10%)\n",
            "updating: content/Detecting-Vehicles-on-Aerial-Images-8/valid/images/city-3-11_jpg.rf.9ebdcf28564e44f0e8d50673a41432d8.jpg (deflated 0%)\n",
            "updating: content/Detecting-Vehicles-on-Aerial-Images-8/valid/images/city-4-9_jpg.rf.d85d835b3409441e4a7686a3ff882fa0.jpg (deflated 1%)\n",
            "updating: content/Detecting-Vehicles-on-Aerial-Images-8/valid/images/city-3-10_jpg.rf.834eae8f7121c25e9a4153b05c19a544.jpg (deflated 0%)\n",
            "updating: content/Detecting-Vehicles-on-Aerial-Images-8/valid/images/city-4-9_jpg.rf.4c36132eeee335af268b43015b1361fc.jpg (deflated 2%)\n",
            "updating: content/Detecting-Vehicles-on-Aerial-Images-8/valid/images/city-3-9_jpg.rf.ae792c6a902b4b8347fa59ea347e6cb3.jpg (deflated 0%)\n",
            "updating: content/Detecting-Vehicles-on-Aerial-Images-8/valid/images/city-3-11_jpg.rf.474f3f32d026c860cc073dc7bdfd17d7.jpg (deflated 0%)\n",
            "updating: content/Detecting-Vehicles-on-Aerial-Images-8/valid/images/city-3-10_jpg.rf.2dfd83456bdab714d17f5dce21f6fb21.jpg (deflated 0%)\n",
            "updating: content/Detecting-Vehicles-on-Aerial-Images-8/valid/images/city-3-10_jpg.rf.64660ffa4781986d208cae6033175f2a.jpg (deflated 0%)\n",
            "updating: content/Detecting-Vehicles-on-Aerial-Images-8/valid/images/city-3-11_jpg.rf.d44ad3d4301895718c7d1a8ac9591c6a.jpg (deflated 0%)\n",
            "updating: content/Detecting-Vehicles-on-Aerial-Images-8/valid/images/city-3-9_jpg.rf.fa5653423adb85e51bfe9ef0a1b82946.jpg (deflated 0%)\n",
            "updating: content/Detecting-Vehicles-on-Aerial-Images-8/valid/images/city-3-11_jpg.rf.c1cad21804fdddf021e137030349b854.jpg (deflated 0%)\n",
            "updating: content/Detecting-Vehicles-on-Aerial-Images-8/valid/images/city-3-10_jpg.rf.57dd1ca4219b2d4bff4124436b668d42.jpg (deflated 0%)\n",
            "updating: content/Detecting-Vehicles-on-Aerial-Images-8/valid/images/city-4-9_jpg.rf.88d0c4cf5a586b7432934338bb1b6fdc.jpg (deflated 8%)\n",
            "updating: content/Detecting-Vehicles-on-Aerial-Images-8/valid/images/city-3-9_jpg.rf.4551f97aa061a3b716154320293f47ef.jpg (deflated 0%)\n",
            "updating: content/Detecting-Vehicles-on-Aerial-Images-8/valid/labels/ (stored 0%)\n",
            "updating: content/Detecting-Vehicles-on-Aerial-Images-8/valid/labels/city-3-10_jpg.rf.57dd1ca4219b2d4bff4124436b668d42.txt (deflated 70%)\n",
            "updating: content/Detecting-Vehicles-on-Aerial-Images-8/valid/labels/city-4-9_jpg.rf.4c36132eeee335af268b43015b1361fc.txt (deflated 71%)\n",
            "updating: content/Detecting-Vehicles-on-Aerial-Images-8/valid/labels/city-3-11_jpg.rf.c1cad21804fdddf021e137030349b854.txt (deflated 65%)\n",
            "updating: content/Detecting-Vehicles-on-Aerial-Images-8/valid/labels/city-3-9_jpg.rf.ae792c6a902b4b8347fa59ea347e6cb3.txt (deflated 66%)\n",
            "updating: content/Detecting-Vehicles-on-Aerial-Images-8/valid/labels/city-4-9_jpg.rf.9e3dda3c43cfb79e278fad85bf953daf.txt (deflated 72%)\n",
            "updating: content/Detecting-Vehicles-on-Aerial-Images-8/valid/labels/city-3-10_jpg.rf.2dfd83456bdab714d17f5dce21f6fb21.txt (deflated 65%)\n",
            "updating: content/Detecting-Vehicles-on-Aerial-Images-8/valid/labels/city-3-11_jpg.rf.474f3f32d026c860cc073dc7bdfd17d7.txt (deflated 74%)\n",
            "updating: content/Detecting-Vehicles-on-Aerial-Images-8/valid/labels/city-3-11_jpg.rf.d44ad3d4301895718c7d1a8ac9591c6a.txt (deflated 67%)\n",
            "updating: content/Detecting-Vehicles-on-Aerial-Images-8/valid/labels/city-3-9_jpg.rf.ec9c5621a32e57614e5f32be4ff758ce.txt (deflated 70%)\n",
            "updating: content/Detecting-Vehicles-on-Aerial-Images-8/valid/labels/city-3-9_jpg.rf.fa5653423adb85e51bfe9ef0a1b82946.txt (deflated 67%)\n",
            "updating: content/Detecting-Vehicles-on-Aerial-Images-8/valid/labels/city-3-9_jpg.rf.4551f97aa061a3b716154320293f47ef.txt (deflated 74%)\n",
            "updating: content/Detecting-Vehicles-on-Aerial-Images-8/valid/labels/city-4-9_jpg.rf.88d0c4cf5a586b7432934338bb1b6fdc.txt (deflated 72%)\n",
            "updating: content/Detecting-Vehicles-on-Aerial-Images-8/valid/labels/city-3-10_jpg.rf.64660ffa4781986d208cae6033175f2a.txt (deflated 68%)\n",
            "updating: content/Detecting-Vehicles-on-Aerial-Images-8/valid/labels/city-4-9_jpg.rf.d85d835b3409441e4a7686a3ff882fa0.txt (deflated 72%)\n",
            "updating: content/Detecting-Vehicles-on-Aerial-Images-8/valid/labels/city-3-10_jpg.rf.834eae8f7121c25e9a4153b05c19a544.txt (deflated 74%)\n",
            "updating: content/Detecting-Vehicles-on-Aerial-Images-8/valid/labels/city-3-11_jpg.rf.9ebdcf28564e44f0e8d50673a41432d8.txt (deflated 70%)\n",
            "updating: content/Detecting-Vehicles-on-Aerial-Images-8/valid/labels.cache (deflated 47%)\n",
            "updating: content/Detecting-Vehicles-on-Aerial-Images-8/README.roboflow.txt (deflated 48%)\n",
            "updating: content/Detecting-Vehicles-on-Aerial-Images-8/README.dataset.txt (deflated 11%)\n",
            "updating: content/Detecting-Vehicles-on-Aerial-Images-8/data.yaml (deflated 41%)\n",
            "updating: content/sample_data/ (stored 0%)\n",
            "updating: content/sample_data/anscombe.json (deflated 83%)\n",
            "updating: content/sample_data/README.md (deflated 42%)\n",
            "updating: content/sample_data/california_housing_train.csv (deflated 79%)\n",
            "updating: content/sample_data/mnist_test.csv (deflated 88%)\n",
            "updating: content/sample_data/california_housing_test.csv (deflated 76%)\n",
            "updating: content/sample_data/mnist_train_small.csv (deflated 88%)\n",
            "  adding: content/runs/detect/val/ (stored 0%)\n",
            "  adding: content/runs/detect/val/F1_curve.png (deflated 8%)\n",
            "  adding: content/runs/detect/val/val_batch0_labels.jpg (deflated 4%)\n",
            "  adding: content/runs/detect/val/PR_curve.png (deflated 23%)\n",
            "  adding: content/runs/detect/val/confusion_matrix.png (deflated 35%)\n",
            "  adding: content/runs/detect/val/P_curve.png (deflated 12%)\n",
            "  adding: content/runs/detect/val/val_batch0_pred.jpg (deflated 4%)\n",
            "  adding: content/runs/detect/val/confusion_matrix_normalized.png (deflated 30%)\n",
            "  adding: content/runs/detect/val/R_curve.png (deflated 12%)\n"
          ]
        }
      ]
    }
  ]
}